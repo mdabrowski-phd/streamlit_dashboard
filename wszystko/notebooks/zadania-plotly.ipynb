{
 "cells": [
  {
   "cell_type": "code",
   "execution_count": 3,
   "id": "48a8756c-224c-4845-a9f0-a364d33f25ae",
   "metadata": {},
   "outputs": [],
   "source": [
    "import pandas as pd\n",
    "import plotly.express as px"
   ]
  },
  {
   "cell_type": "code",
   "execution_count": 47,
   "id": "788557e2-b41c-4562-a349-802d71ff36ca",
   "metadata": {},
   "outputs": [],
   "source": [
    "df = pd.read_csv('../data/titanic.csv')"
   ]
  },
  {
   "cell_type": "markdown",
   "id": "12586940-a751-4f8e-9933-75eb278a420a",
   "metadata": {},
   "source": [
    "### Histogram"
   ]
  },
  {
   "cell_type": "code",
   "execution_count": 48,
   "id": "6fd02609-8a90-486f-ac6a-ff20b29dc167",
   "metadata": {},
   "outputs": [
    {
     "data": {
      "application/vnd.plotly.v1+json": {
       "config": {
        "plotlyServerURL": "https://plot.ly"
       },
       "data": [
        {
         "alignmentgroup": "True",
         "bingroup": "x",
         "hovertemplate": "Wiek=%{x}<br>count=%{y}<extra></extra>",
         "legendgroup": "",
         "marker": {
          "color": "#636efa",
          "pattern": {
           "shape": ""
          }
         },
         "name": "",
         "nbinsx": 30,
         "offsetgroup": "",
         "orientation": "v",
         "showlegend": false,
         "type": "histogram",
         "x": [
          29,
          0.92,
          2,
          30,
          25,
          48,
          63,
          39,
          53,
          71,
          47,
          18,
          24,
          26,
          80,
          48,
          24,
          50,
          32,
          36,
          37,
          47,
          26,
          42,
          29,
          25,
          25,
          19,
          35,
          28,
          45,
          40,
          30,
          58,
          42,
          45,
          22,
          37,
          41,
          48,
          45,
          44,
          59,
          60,
          41,
          45,
          28,
          42,
          53,
          36,
          58,
          33,
          28,
          17,
          11,
          14,
          36,
          36,
          49,
          36,
          36,
          76,
          46,
          47,
          27,
          33,
          36,
          30,
          45,
          48,
          43,
          27,
          26,
          22,
          40,
          47,
          39,
          37,
          64,
          55,
          59,
          70,
          36,
          64,
          39,
          38,
          51,
          27,
          33,
          31,
          27,
          31,
          17,
          53,
          4,
          54,
          50,
          27,
          48,
          48,
          49,
          39,
          23,
          38,
          54,
          36,
          49,
          48,
          42,
          36,
          30,
          24,
          28,
          23,
          19,
          64,
          60,
          30,
          null,
          50,
          43,
          42,
          22,
          60,
          48,
          39,
          37,
          35,
          47,
          35,
          22,
          45,
          24,
          49,
          null,
          71,
          53,
          19,
          38,
          58,
          23,
          45,
          46,
          25,
          25,
          48,
          49,
          37,
          45,
          35,
          40,
          27,
          null,
          24,
          55,
          52,
          42,
          null,
          55,
          16,
          44,
          51,
          42,
          35,
          35,
          38,
          null,
          35,
          38,
          50,
          49,
          46,
          50,
          32.5,
          58,
          41,
          40,
          42,
          45,
          41,
          39,
          49,
          27,
          35,
          30,
          42,
          55,
          16,
          51,
          29,
          21,
          30,
          58,
          15,
          30,
          16,
          29,
          19,
          18,
          24,
          46,
          54,
          36,
          28,
          25,
          65,
          44,
          33,
          37,
          30,
          55,
          47,
          37,
          31,
          23,
          58,
          19,
          64,
          39,
          29,
          22,
          65,
          28.5,
          30,
          45.5,
          23,
          29,
          22,
          18,
          17,
          30,
          52,
          47,
          56,
          38,
          33,
          22,
          45,
          43,
          31,
          45,
          39,
          33,
          46,
          36,
          33,
          55,
          54,
          33,
          13,
          18,
          21,
          61,
          48,
          47,
          24,
          43,
          35,
          30,
          34,
          40,
          35,
          50,
          39,
          56,
          28,
          56,
          56,
          24,
          57,
          18,
          24,
          23,
          6,
          45,
          40,
          57,
          48,
          32,
          62,
          54,
          43,
          52,
          64,
          62,
          67,
          63,
          61,
          48,
          18,
          52,
          39,
          48,
          49,
          49,
          17,
          39,
          37,
          31,
          40,
          61,
          47,
          35,
          64,
          60,
          60,
          54,
          21,
          55,
          31,
          57,
          45,
          50,
          27,
          50,
          21,
          51,
          21,
          43,
          31,
          45,
          62,
          36,
          30,
          28,
          30,
          18,
          25,
          34,
          36,
          57,
          18,
          23,
          36,
          28,
          51,
          32,
          19,
          28,
          1,
          4,
          12,
          36,
          34,
          19,
          23,
          26,
          42,
          27,
          24,
          15,
          60,
          40,
          20,
          25,
          36,
          25,
          42,
          42,
          0.83,
          26,
          22,
          35,
          21,
          19,
          44,
          54,
          52,
          37,
          29,
          25,
          45,
          29,
          28,
          29,
          28,
          24,
          8,
          31,
          31,
          22,
          30,
          32,
          21,
          22,
          8,
          18,
          48,
          28,
          32,
          17,
          29,
          24,
          25,
          18,
          18,
          34,
          54,
          8,
          42,
          34,
          27,
          30,
          23,
          21,
          18,
          40,
          29,
          18,
          36,
          null,
          38,
          35,
          38,
          34,
          34,
          16,
          26,
          47,
          21,
          21,
          24,
          24,
          34,
          30,
          52,
          30,
          0.67,
          24,
          44,
          6,
          28,
          62,
          30,
          7,
          43,
          45,
          24,
          24,
          49,
          48,
          55,
          24,
          32,
          21,
          18,
          20,
          23,
          36,
          54,
          50,
          44,
          29,
          21,
          42,
          63,
          60,
          33,
          17,
          42,
          24,
          47,
          24,
          22,
          32,
          23,
          34,
          24,
          22,
          46,
          35,
          45,
          57,
          38,
          31,
          26,
          30,
          31,
          1,
          3,
          25,
          22,
          17,
          31,
          34,
          36,
          24,
          61,
          50,
          42,
          57,
          25,
          1,
          31,
          24,
          47,
          30,
          40,
          32,
          30,
          46,
          13,
          41,
          19,
          39,
          48,
          70,
          27,
          54,
          38,
          16,
          62,
          32.5,
          14,
          2,
          3,
          36.5,
          26,
          19,
          28,
          20,
          29,
          39,
          22,
          27,
          23,
          29,
          28,
          21,
          50,
          19,
          39,
          41,
          21,
          19,
          43,
          32,
          34,
          30,
          27,
          2,
          8,
          33,
          36,
          34,
          30,
          28,
          23,
          0.83,
          3,
          24,
          50,
          19,
          21,
          26,
          25,
          27,
          25,
          18,
          20,
          30,
          59,
          30,
          35,
          40,
          25,
          41,
          25,
          18.5,
          14,
          50,
          23,
          28,
          27,
          29,
          27,
          40,
          31,
          30,
          23,
          31,
          19,
          12,
          40,
          32.5,
          27,
          29,
          2,
          4,
          29,
          0.92,
          5,
          36,
          33,
          66,
          26,
          31,
          23,
          26,
          24,
          42,
          13,
          16,
          35,
          16,
          25,
          20,
          18,
          30,
          26,
          40,
          0.83,
          18,
          26,
          26,
          20,
          24,
          25,
          35,
          18,
          32,
          19,
          4,
          6,
          2,
          17,
          38,
          9,
          11,
          39,
          27,
          26,
          39,
          20,
          26,
          25,
          18,
          24,
          35,
          5,
          9,
          3,
          13,
          5,
          40,
          23,
          38,
          45,
          21,
          23,
          18,
          30,
          23,
          13,
          21,
          32,
          33,
          0.75,
          0.75,
          5,
          24,
          18,
          40,
          26,
          20,
          18,
          45,
          27,
          22,
          19,
          26,
          22,
          10,
          20,
          32,
          21,
          18,
          26,
          6,
          9,
          18,
          40,
          40,
          40,
          32,
          21,
          22,
          20,
          29,
          22,
          22,
          35,
          18.5,
          21,
          19,
          18,
          21,
          30,
          18,
          38,
          17,
          17,
          21,
          21,
          29,
          28,
          18,
          28,
          24,
          16,
          37,
          28,
          24,
          21,
          32,
          29,
          26,
          18,
          20,
          18,
          24,
          36,
          24,
          31,
          31,
          22,
          30,
          66,
          43,
          35,
          27,
          19,
          30,
          9,
          3,
          36,
          59,
          19,
          17,
          44,
          17,
          19,
          45,
          22,
          19,
          30,
          29,
          0.33,
          34,
          28,
          27,
          25,
          24,
          22,
          21,
          17,
          32,
          34,
          36.5,
          36,
          30,
          16,
          1,
          0.17,
          26,
          33,
          25,
          23,
          30,
          22,
          26,
          19,
          17,
          42,
          43,
          28,
          32,
          19,
          30,
          24,
          23,
          33,
          66,
          24,
          23,
          22,
          18,
          16,
          45,
          29,
          39,
          17,
          15,
          47,
          5,
          26,
          38,
          40.5,
          41,
          18,
          22,
          28,
          48,
          26,
          20,
          32,
          21,
          9,
          23,
          18,
          16,
          48,
          28,
          46,
          25,
          23,
          null,
          23,
          16,
          18,
          9,
          33,
          41,
          31,
          38,
          9,
          1,
          11,
          10,
          16,
          14,
          40,
          43,
          51,
          32,
          25,
          20,
          37,
          28,
          19,
          24,
          17,
          28,
          19,
          28,
          24,
          19,
          35,
          41,
          26,
          20,
          45,
          21,
          25,
          29,
          11,
          33,
          27,
          24,
          20,
          16,
          23,
          22,
          30,
          28,
          21,
          2,
          22,
          43,
          18,
          28,
          22,
          26,
          42,
          34,
          33,
          32,
          17,
          25,
          20,
          29,
          21,
          21,
          20,
          48,
          17,
          26,
          29,
          34,
          26,
          22,
          33,
          31,
          29,
          4,
          1,
          49,
          33,
          19,
          27,
          8,
          7,
          35,
          34,
          23,
          32,
          27,
          20,
          21,
          32,
          17,
          21,
          30,
          21,
          33,
          22,
          5,
          39,
          19,
          19,
          23,
          44,
          20,
          22,
          44,
          19,
          24,
          25,
          20,
          25,
          22,
          22,
          23,
          26,
          4,
          29,
          26,
          1,
          18,
          36,
          null,
          25,
          35,
          37,
          23,
          38,
          23,
          22,
          17,
          32,
          29,
          29,
          22,
          25,
          50,
          3,
          8,
          12,
          40,
          32,
          30,
          18,
          20,
          36,
          41,
          24,
          25,
          45,
          36,
          30,
          20,
          21,
          28,
          26,
          31,
          34,
          21,
          20,
          27,
          50,
          23,
          32,
          44,
          20,
          21,
          24,
          22,
          20,
          22,
          34,
          29,
          18,
          32,
          28,
          25,
          35,
          33,
          22,
          30,
          25,
          19,
          29,
          26,
          24,
          31,
          20,
          22,
          17,
          42,
          19,
          24,
          19,
          32,
          62,
          32,
          48,
          28,
          21,
          23,
          24,
          21,
          28,
          23,
          23,
          27,
          7,
          27,
          19,
          28,
          28,
          22,
          34,
          30,
          29,
          7,
          25,
          25,
          35,
          28.5,
          19,
          25,
          22,
          18,
          25,
          31,
          18,
          22,
          15,
          1,
          20,
          19,
          36,
          32,
          20,
          21,
          22,
          12,
          14,
          29,
          28,
          18,
          26,
          21,
          41,
          39,
          21,
          28.5,
          22,
          60,
          27,
          21,
          26,
          18,
          21,
          23,
          23,
          21,
          24,
          24,
          22,
          21,
          16,
          9,
          28,
          42,
          27,
          31,
          28,
          32,
          20,
          23,
          20,
          20,
          16,
          31,
          21,
          2,
          6,
          3,
          8,
          29,
          1,
          7,
          2,
          16,
          14,
          41,
          21,
          20,
          16,
          32,
          0.6,
          4,
          26,
          32,
          28,
          24,
          21,
          25,
          24,
          25,
          6,
          2,
          23,
          26,
          24,
          28,
          19,
          29,
          25,
          18,
          33,
          27,
          17,
          24,
          27,
          63,
          30,
          18,
          38,
          21,
          10,
          4,
          7,
          2,
          8,
          39,
          22,
          35,
          22,
          69,
          64,
          50,
          48,
          30,
          49,
          2,
          18,
          41,
          26,
          55,
          17,
          24,
          30,
          30,
          25,
          20,
          19,
          17,
          43,
          5,
          12,
          10,
          8,
          14,
          20,
          18,
          16,
          19,
          44,
          44,
          24,
          21,
          39,
          17,
          40,
          16,
          1,
          24,
          4,
          21,
          19,
          24,
          22,
          42,
          27,
          29,
          55,
          20,
          22,
          40,
          22,
          20,
          40,
          21,
          18,
          5,
          11,
          9,
          2,
          40,
          43,
          42,
          20,
          37,
          24,
          18,
          19,
          31,
          23,
          31,
          23,
          33,
          24,
          22,
          59,
          19,
          22,
          30,
          27,
          2,
          29,
          20,
          44,
          25,
          74,
          14,
          24,
          25,
          34,
          2.4,
          23,
          27,
          16,
          16,
          36,
          37,
          33,
          32,
          20,
          23,
          22,
          41,
          20,
          26,
          17,
          7,
          9,
          27,
          36,
          18,
          64,
          10,
          9,
          35,
          10,
          36,
          30,
          23,
          35,
          28,
          28,
          46,
          18,
          31,
          15,
          31,
          22,
          20,
          14,
          21,
          22,
          35,
          31,
          66,
          28,
          38,
          51,
          18,
          21,
          47,
          37,
          21,
          28,
          24,
          21,
          17,
          54,
          36,
          27,
          15,
          45,
          23,
          null,
          16,
          19,
          22,
          27,
          29
         ],
         "xaxis": "x",
         "yaxis": "y"
        }
       ],
       "layout": {
        "autosize": true,
        "bargap": 0.1,
        "barmode": "relative",
        "legend": {
         "tracegroupgap": 0
        },
        "template": {
         "data": {
          "bar": [
           {
            "error_x": {
             "color": "#2a3f5f"
            },
            "error_y": {
             "color": "#2a3f5f"
            },
            "marker": {
             "line": {
              "color": "#E5ECF6",
              "width": 0.5
             },
             "pattern": {
              "fillmode": "overlay",
              "size": 10,
              "solidity": 0.2
             }
            },
            "type": "bar"
           }
          ],
          "barpolar": [
           {
            "marker": {
             "line": {
              "color": "#E5ECF6",
              "width": 0.5
             },
             "pattern": {
              "fillmode": "overlay",
              "size": 10,
              "solidity": 0.2
             }
            },
            "type": "barpolar"
           }
          ],
          "carpet": [
           {
            "aaxis": {
             "endlinecolor": "#2a3f5f",
             "gridcolor": "white",
             "linecolor": "white",
             "minorgridcolor": "white",
             "startlinecolor": "#2a3f5f"
            },
            "baxis": {
             "endlinecolor": "#2a3f5f",
             "gridcolor": "white",
             "linecolor": "white",
             "minorgridcolor": "white",
             "startlinecolor": "#2a3f5f"
            },
            "type": "carpet"
           }
          ],
          "choropleth": [
           {
            "colorbar": {
             "outlinewidth": 0,
             "ticks": ""
            },
            "type": "choropleth"
           }
          ],
          "contour": [
           {
            "colorbar": {
             "outlinewidth": 0,
             "ticks": ""
            },
            "colorscale": [
             [
              0,
              "#0d0887"
             ],
             [
              0.1111111111111111,
              "#46039f"
             ],
             [
              0.2222222222222222,
              "#7201a8"
             ],
             [
              0.3333333333333333,
              "#9c179e"
             ],
             [
              0.4444444444444444,
              "#bd3786"
             ],
             [
              0.5555555555555556,
              "#d8576b"
             ],
             [
              0.6666666666666666,
              "#ed7953"
             ],
             [
              0.7777777777777778,
              "#fb9f3a"
             ],
             [
              0.8888888888888888,
              "#fdca26"
             ],
             [
              1,
              "#f0f921"
             ]
            ],
            "type": "contour"
           }
          ],
          "contourcarpet": [
           {
            "colorbar": {
             "outlinewidth": 0,
             "ticks": ""
            },
            "type": "contourcarpet"
           }
          ],
          "heatmap": [
           {
            "colorbar": {
             "outlinewidth": 0,
             "ticks": ""
            },
            "colorscale": [
             [
              0,
              "#0d0887"
             ],
             [
              0.1111111111111111,
              "#46039f"
             ],
             [
              0.2222222222222222,
              "#7201a8"
             ],
             [
              0.3333333333333333,
              "#9c179e"
             ],
             [
              0.4444444444444444,
              "#bd3786"
             ],
             [
              0.5555555555555556,
              "#d8576b"
             ],
             [
              0.6666666666666666,
              "#ed7953"
             ],
             [
              0.7777777777777778,
              "#fb9f3a"
             ],
             [
              0.8888888888888888,
              "#fdca26"
             ],
             [
              1,
              "#f0f921"
             ]
            ],
            "type": "heatmap"
           }
          ],
          "heatmapgl": [
           {
            "colorbar": {
             "outlinewidth": 0,
             "ticks": ""
            },
            "colorscale": [
             [
              0,
              "#0d0887"
             ],
             [
              0.1111111111111111,
              "#46039f"
             ],
             [
              0.2222222222222222,
              "#7201a8"
             ],
             [
              0.3333333333333333,
              "#9c179e"
             ],
             [
              0.4444444444444444,
              "#bd3786"
             ],
             [
              0.5555555555555556,
              "#d8576b"
             ],
             [
              0.6666666666666666,
              "#ed7953"
             ],
             [
              0.7777777777777778,
              "#fb9f3a"
             ],
             [
              0.8888888888888888,
              "#fdca26"
             ],
             [
              1,
              "#f0f921"
             ]
            ],
            "type": "heatmapgl"
           }
          ],
          "histogram": [
           {
            "marker": {
             "pattern": {
              "fillmode": "overlay",
              "size": 10,
              "solidity": 0.2
             }
            },
            "type": "histogram"
           }
          ],
          "histogram2d": [
           {
            "colorbar": {
             "outlinewidth": 0,
             "ticks": ""
            },
            "colorscale": [
             [
              0,
              "#0d0887"
             ],
             [
              0.1111111111111111,
              "#46039f"
             ],
             [
              0.2222222222222222,
              "#7201a8"
             ],
             [
              0.3333333333333333,
              "#9c179e"
             ],
             [
              0.4444444444444444,
              "#bd3786"
             ],
             [
              0.5555555555555556,
              "#d8576b"
             ],
             [
              0.6666666666666666,
              "#ed7953"
             ],
             [
              0.7777777777777778,
              "#fb9f3a"
             ],
             [
              0.8888888888888888,
              "#fdca26"
             ],
             [
              1,
              "#f0f921"
             ]
            ],
            "type": "histogram2d"
           }
          ],
          "histogram2dcontour": [
           {
            "colorbar": {
             "outlinewidth": 0,
             "ticks": ""
            },
            "colorscale": [
             [
              0,
              "#0d0887"
             ],
             [
              0.1111111111111111,
              "#46039f"
             ],
             [
              0.2222222222222222,
              "#7201a8"
             ],
             [
              0.3333333333333333,
              "#9c179e"
             ],
             [
              0.4444444444444444,
              "#bd3786"
             ],
             [
              0.5555555555555556,
              "#d8576b"
             ],
             [
              0.6666666666666666,
              "#ed7953"
             ],
             [
              0.7777777777777778,
              "#fb9f3a"
             ],
             [
              0.8888888888888888,
              "#fdca26"
             ],
             [
              1,
              "#f0f921"
             ]
            ],
            "type": "histogram2dcontour"
           }
          ],
          "mesh3d": [
           {
            "colorbar": {
             "outlinewidth": 0,
             "ticks": ""
            },
            "type": "mesh3d"
           }
          ],
          "parcoords": [
           {
            "line": {
             "colorbar": {
              "outlinewidth": 0,
              "ticks": ""
             }
            },
            "type": "parcoords"
           }
          ],
          "pie": [
           {
            "automargin": true,
            "type": "pie"
           }
          ],
          "scatter": [
           {
            "fillpattern": {
             "fillmode": "overlay",
             "size": 10,
             "solidity": 0.2
            },
            "type": "scatter"
           }
          ],
          "scatter3d": [
           {
            "line": {
             "colorbar": {
              "outlinewidth": 0,
              "ticks": ""
             }
            },
            "marker": {
             "colorbar": {
              "outlinewidth": 0,
              "ticks": ""
             }
            },
            "type": "scatter3d"
           }
          ],
          "scattercarpet": [
           {
            "marker": {
             "colorbar": {
              "outlinewidth": 0,
              "ticks": ""
             }
            },
            "type": "scattercarpet"
           }
          ],
          "scattergeo": [
           {
            "marker": {
             "colorbar": {
              "outlinewidth": 0,
              "ticks": ""
             }
            },
            "type": "scattergeo"
           }
          ],
          "scattergl": [
           {
            "marker": {
             "colorbar": {
              "outlinewidth": 0,
              "ticks": ""
             }
            },
            "type": "scattergl"
           }
          ],
          "scattermapbox": [
           {
            "marker": {
             "colorbar": {
              "outlinewidth": 0,
              "ticks": ""
             }
            },
            "type": "scattermapbox"
           }
          ],
          "scatterpolar": [
           {
            "marker": {
             "colorbar": {
              "outlinewidth": 0,
              "ticks": ""
             }
            },
            "type": "scatterpolar"
           }
          ],
          "scatterpolargl": [
           {
            "marker": {
             "colorbar": {
              "outlinewidth": 0,
              "ticks": ""
             }
            },
            "type": "scatterpolargl"
           }
          ],
          "scatterternary": [
           {
            "marker": {
             "colorbar": {
              "outlinewidth": 0,
              "ticks": ""
             }
            },
            "type": "scatterternary"
           }
          ],
          "surface": [
           {
            "colorbar": {
             "outlinewidth": 0,
             "ticks": ""
            },
            "colorscale": [
             [
              0,
              "#0d0887"
             ],
             [
              0.1111111111111111,
              "#46039f"
             ],
             [
              0.2222222222222222,
              "#7201a8"
             ],
             [
              0.3333333333333333,
              "#9c179e"
             ],
             [
              0.4444444444444444,
              "#bd3786"
             ],
             [
              0.5555555555555556,
              "#d8576b"
             ],
             [
              0.6666666666666666,
              "#ed7953"
             ],
             [
              0.7777777777777778,
              "#fb9f3a"
             ],
             [
              0.8888888888888888,
              "#fdca26"
             ],
             [
              1,
              "#f0f921"
             ]
            ],
            "type": "surface"
           }
          ],
          "table": [
           {
            "cells": {
             "fill": {
              "color": "#EBF0F8"
             },
             "line": {
              "color": "white"
             }
            },
            "header": {
             "fill": {
              "color": "#C8D4E3"
             },
             "line": {
              "color": "white"
             }
            },
            "type": "table"
           }
          ]
         },
         "layout": {
          "annotationdefaults": {
           "arrowcolor": "#2a3f5f",
           "arrowhead": 0,
           "arrowwidth": 1
          },
          "autotypenumbers": "strict",
          "coloraxis": {
           "colorbar": {
            "outlinewidth": 0,
            "ticks": ""
           }
          },
          "colorscale": {
           "diverging": [
            [
             0,
             "#8e0152"
            ],
            [
             0.1,
             "#c51b7d"
            ],
            [
             0.2,
             "#de77ae"
            ],
            [
             0.3,
             "#f1b6da"
            ],
            [
             0.4,
             "#fde0ef"
            ],
            [
             0.5,
             "#f7f7f7"
            ],
            [
             0.6,
             "#e6f5d0"
            ],
            [
             0.7,
             "#b8e186"
            ],
            [
             0.8,
             "#7fbc41"
            ],
            [
             0.9,
             "#4d9221"
            ],
            [
             1,
             "#276419"
            ]
           ],
           "sequential": [
            [
             0,
             "#0d0887"
            ],
            [
             0.1111111111111111,
             "#46039f"
            ],
            [
             0.2222222222222222,
             "#7201a8"
            ],
            [
             0.3333333333333333,
             "#9c179e"
            ],
            [
             0.4444444444444444,
             "#bd3786"
            ],
            [
             0.5555555555555556,
             "#d8576b"
            ],
            [
             0.6666666666666666,
             "#ed7953"
            ],
            [
             0.7777777777777778,
             "#fb9f3a"
            ],
            [
             0.8888888888888888,
             "#fdca26"
            ],
            [
             1,
             "#f0f921"
            ]
           ],
           "sequentialminus": [
            [
             0,
             "#0d0887"
            ],
            [
             0.1111111111111111,
             "#46039f"
            ],
            [
             0.2222222222222222,
             "#7201a8"
            ],
            [
             0.3333333333333333,
             "#9c179e"
            ],
            [
             0.4444444444444444,
             "#bd3786"
            ],
            [
             0.5555555555555556,
             "#d8576b"
            ],
            [
             0.6666666666666666,
             "#ed7953"
            ],
            [
             0.7777777777777778,
             "#fb9f3a"
            ],
            [
             0.8888888888888888,
             "#fdca26"
            ],
            [
             1,
             "#f0f921"
            ]
           ]
          },
          "colorway": [
           "#636efa",
           "#EF553B",
           "#00cc96",
           "#ab63fa",
           "#FFA15A",
           "#19d3f3",
           "#FF6692",
           "#B6E880",
           "#FF97FF",
           "#FECB52"
          ],
          "font": {
           "color": "#2a3f5f"
          },
          "geo": {
           "bgcolor": "white",
           "lakecolor": "white",
           "landcolor": "#E5ECF6",
           "showlakes": true,
           "showland": true,
           "subunitcolor": "white"
          },
          "hoverlabel": {
           "align": "left"
          },
          "hovermode": "closest",
          "mapbox": {
           "style": "light"
          },
          "paper_bgcolor": "white",
          "plot_bgcolor": "#E5ECF6",
          "polar": {
           "angularaxis": {
            "gridcolor": "white",
            "linecolor": "white",
            "ticks": ""
           },
           "bgcolor": "#E5ECF6",
           "radialaxis": {
            "gridcolor": "white",
            "linecolor": "white",
            "ticks": ""
           }
          },
          "scene": {
           "xaxis": {
            "backgroundcolor": "#E5ECF6",
            "gridcolor": "white",
            "gridwidth": 2,
            "linecolor": "white",
            "showbackground": true,
            "ticks": "",
            "zerolinecolor": "white"
           },
           "yaxis": {
            "backgroundcolor": "#E5ECF6",
            "gridcolor": "white",
            "gridwidth": 2,
            "linecolor": "white",
            "showbackground": true,
            "ticks": "",
            "zerolinecolor": "white"
           },
           "zaxis": {
            "backgroundcolor": "#E5ECF6",
            "gridcolor": "white",
            "gridwidth": 2,
            "linecolor": "white",
            "showbackground": true,
            "ticks": "",
            "zerolinecolor": "white"
           }
          },
          "shapedefaults": {
           "line": {
            "color": "#2a3f5f"
           }
          },
          "ternary": {
           "aaxis": {
            "gridcolor": "white",
            "linecolor": "white",
            "ticks": ""
           },
           "baxis": {
            "gridcolor": "white",
            "linecolor": "white",
            "ticks": ""
           },
           "bgcolor": "#E5ECF6",
           "caxis": {
            "gridcolor": "white",
            "linecolor": "white",
            "ticks": ""
           }
          },
          "title": {
           "x": 0.05
          },
          "xaxis": {
           "automargin": true,
           "gridcolor": "white",
           "linecolor": "white",
           "ticks": "",
           "title": {
            "standoff": 15
           },
           "zerolinecolor": "white",
           "zerolinewidth": 2
          },
          "yaxis": {
           "automargin": true,
           "gridcolor": "white",
           "linecolor": "white",
           "ticks": "",
           "title": {
            "standoff": 15
           },
           "zerolinecolor": "white",
           "zerolinewidth": 2
          }
         }
        },
        "title": {
         "text": "Rozkład wieku pasażerów",
         "x": 0.5
        },
        "xaxis": {
         "anchor": "y",
         "autorange": true,
         "domain": [
          0,
          1
         ],
         "range": [
          -2.5,
          82.5
         ],
         "title": {
          "text": "Wiek"
         },
         "type": "linear"
        },
        "yaxis": {
         "anchor": "x",
         "autorange": true,
         "domain": [
          0,
          1
         ],
         "range": [
          0,
          261.05263157894734
         ],
         "title": {
          "text": "count"
         }
        }
       }
      },
      "image/png": "[encoded data removed]",
      "text/html": [
       "<div>                            <div id=\"90bc926e-8634-48d6-af48-b573e5c5941f\" class=\"plotly-graph-div\" style=\"height:525px; width:100%;\"></div>            <script type=\"text/javascript\">                require([\"plotly\"], function(Plotly) {                    window.PLOTLYENV=window.PLOTLYENV || {};                                    if (document.getElementById(\"90bc926e-8634-48d6-af48-b573e5c5941f\")) {                    Plotly.newPlot(                        \"90bc926e-8634-48d6-af48-b573e5c5941f\",                        [{\"alignmentgroup\":\"True\",\"bingroup\":\"x\",\"hovertemplate\":\"Wiek=%{x}\\u003cbr\\u003ecount=%{y}\\u003cextra\\u003e\\u003c\\u002fextra\\u003e\",\"legendgroup\":\"\",\"marker\":{\"color\":\"#636efa\",\"pattern\":{\"shape\":\"\"}},\"name\":\"\",\"nbinsx\":30,\"offsetgroup\":\"\",\"orientation\":\"v\",\"showlegend\":false,\"x\":[29.0,0.92,2.0,30.0,25.0,48.0,63.0,39.0,53.0,71.0,47.0,18.0,24.0,26.0,80.0,48.0,24.0,50.0,32.0,36.0,37.0,47.0,26.0,42.0,29.0,25.0,25.0,19.0,35.0,28.0,45.0,40.0,30.0,58.0,42.0,45.0,22.0,37.0,41.0,48.0,45.0,44.0,59.0,60.0,41.0,45.0,28.0,42.0,53.0,36.0,58.0,33.0,28.0,17.0,11.0,14.0,36.0,36.0,49.0,36.0,36.0,76.0,46.0,47.0,27.0,33.0,36.0,30.0,45.0,48.0,43.0,27.0,26.0,22.0,40.0,47.0,39.0,37.0,64.0,55.0,59.0,70.0,36.0,64.0,39.0,38.0,51.0,27.0,33.0,31.0,27.0,31.0,17.0,53.0,4.0,54.0,50.0,27.0,48.0,48.0,49.0,39.0,23.0,38.0,54.0,36.0,49.0,48.0,42.0,36.0,30.0,24.0,28.0,23.0,19.0,64.0,60.0,30.0,null,50.0,43.0,42.0,22.0,60.0,48.0,39.0,37.0,35.0,47.0,35.0,22.0,45.0,24.0,49.0,null,71.0,53.0,19.0,38.0,58.0,23.0,45.0,46.0,25.0,25.0,48.0,49.0,37.0,45.0,35.0,40.0,27.0,null,24.0,55.0,52.0,42.0,null,55.0,16.0,44.0,51.0,42.0,35.0,35.0,38.0,null,35.0,38.0,50.0,49.0,46.0,50.0,32.5,58.0,41.0,40.0,42.0,45.0,41.0,39.0,49.0,27.0,35.0,30.0,42.0,55.0,16.0,51.0,29.0,21.0,30.0,58.0,15.0,30.0,16.0,29.0,19.0,18.0,24.0,46.0,54.0,36.0,28.0,25.0,65.0,44.0,33.0,37.0,30.0,55.0,47.0,37.0,31.0,23.0,58.0,19.0,64.0,39.0,29.0,22.0,65.0,28.5,30.0,45.5,23.0,29.0,22.0,18.0,17.0,30.0,52.0,47.0,56.0,38.0,33.0,22.0,45.0,43.0,31.0,45.0,39.0,33.0,46.0,36.0,33.0,55.0,54.0,33.0,13.0,18.0,21.0,61.0,48.0,47.0,24.0,43.0,35.0,30.0,34.0,40.0,35.0,50.0,39.0,56.0,28.0,56.0,56.0,24.0,57.0,18.0,24.0,23.0,6.0,45.0,40.0,57.0,48.0,32.0,62.0,54.0,43.0,52.0,64.0,62.0,67.0,63.0,61.0,48.0,18.0,52.0,39.0,48.0,49.0,49.0,17.0,39.0,37.0,31.0,40.0,61.0,47.0,35.0,64.0,60.0,60.0,54.0,21.0,55.0,31.0,57.0,45.0,50.0,27.0,50.0,21.0,51.0,21.0,43.0,31.0,45.0,62.0,36.0,30.0,28.0,30.0,18.0,25.0,34.0,36.0,57.0,18.0,23.0,36.0,28.0,51.0,32.0,19.0,28.0,1.0,4.0,12.0,36.0,34.0,19.0,23.0,26.0,42.0,27.0,24.0,15.0,60.0,40.0,20.0,25.0,36.0,25.0,42.0,42.0,0.83,26.0,22.0,35.0,21.0,19.0,44.0,54.0,52.0,37.0,29.0,25.0,45.0,29.0,28.0,29.0,28.0,24.0,8.0,31.0,31.0,22.0,30.0,32.0,21.0,22.0,8.0,18.0,48.0,28.0,32.0,17.0,29.0,24.0,25.0,18.0,18.0,34.0,54.0,8.0,42.0,34.0,27.0,30.0,23.0,21.0,18.0,40.0,29.0,18.0,36.0,null,38.0,35.0,38.0,34.0,34.0,16.0,26.0,47.0,21.0,21.0,24.0,24.0,34.0,30.0,52.0,30.0,0.67,24.0,44.0,6.0,28.0,62.0,30.0,7.0,43.0,45.0,24.0,24.0,49.0,48.0,55.0,24.0,32.0,21.0,18.0,20.0,23.0,36.0,54.0,50.0,44.0,29.0,21.0,42.0,63.0,60.0,33.0,17.0,42.0,24.0,47.0,24.0,22.0,32.0,23.0,34.0,24.0,22.0,46.0,35.0,45.0,57.0,38.0,31.0,26.0,30.0,31.0,1.0,3.0,25.0,22.0,17.0,31.0,34.0,36.0,24.0,61.0,50.0,42.0,57.0,25.0,1.0,31.0,24.0,47.0,30.0,40.0,32.0,30.0,46.0,13.0,41.0,19.0,39.0,48.0,70.0,27.0,54.0,38.0,16.0,62.0,32.5,14.0,2.0,3.0,36.5,26.0,19.0,28.0,20.0,29.0,39.0,22.0,27.0,23.0,29.0,28.0,21.0,50.0,19.0,39.0,41.0,21.0,19.0,43.0,32.0,34.0,30.0,27.0,2.0,8.0,33.0,36.0,34.0,30.0,28.0,23.0,0.83,3.0,24.0,50.0,19.0,21.0,26.0,25.0,27.0,25.0,18.0,20.0,30.0,59.0,30.0,35.0,40.0,25.0,41.0,25.0,18.5,14.0,50.0,23.0,28.0,27.0,29.0,27.0,40.0,31.0,30.0,23.0,31.0,19.0,12.0,40.0,32.5,27.0,29.0,2.0,4.0,29.0,0.92,5.0,36.0,33.0,66.0,26.0,31.0,23.0,26.0,24.0,42.0,13.0,16.0,35.0,16.0,25.0,20.0,18.0,30.0,26.0,40.0,0.83,18.0,26.0,26.0,20.0,24.0,25.0,35.0,18.0,32.0,19.0,4.0,6.0,2.0,17.0,38.0,9.0,11.0,39.0,27.0,26.0,39.0,20.0,26.0,25.0,18.0,24.0,35.0,5.0,9.0,3.0,13.0,5.0,40.0,23.0,38.0,45.0,21.0,23.0,18.0,30.0,23.0,13.0,21.0,32.0,33.0,0.75,0.75,5.0,24.0,18.0,40.0,26.0,20.0,18.0,45.0,27.0,22.0,19.0,26.0,22.0,10.0,20.0,32.0,21.0,18.0,26.0,6.0,9.0,18.0,40.0,40.0,40.0,32.0,21.0,22.0,20.0,29.0,22.0,22.0,35.0,18.5,21.0,19.0,18.0,21.0,30.0,18.0,38.0,17.0,17.0,21.0,21.0,29.0,28.0,18.0,28.0,24.0,16.0,37.0,28.0,24.0,21.0,32.0,29.0,26.0,18.0,20.0,18.0,24.0,36.0,24.0,31.0,31.0,22.0,30.0,66.0,43.0,35.0,27.0,19.0,30.0,9.0,3.0,36.0,59.0,19.0,17.0,44.0,17.0,19.0,45.0,22.0,19.0,30.0,29.0,0.33,34.0,28.0,27.0,25.0,24.0,22.0,21.0,17.0,32.0,34.0,36.5,36.0,30.0,16.0,1.0,0.17,26.0,33.0,25.0,23.0,30.0,22.0,26.0,19.0,17.0,42.0,43.0,28.0,32.0,19.0,30.0,24.0,23.0,33.0,66.0,24.0,23.0,22.0,18.0,16.0,45.0,29.0,39.0,17.0,15.0,47.0,5.0,26.0,38.0,40.5,41.0,18.0,22.0,28.0,48.0,26.0,20.0,32.0,21.0,9.0,23.0,18.0,16.0,48.0,28.0,46.0,25.0,23.0,null,23.0,16.0,18.0,9.0,33.0,41.0,31.0,38.0,9.0,1.0,11.0,10.0,16.0,14.0,40.0,43.0,51.0,32.0,25.0,20.0,37.0,28.0,19.0,24.0,17.0,28.0,19.0,28.0,24.0,19.0,35.0,41.0,26.0,20.0,45.0,21.0,25.0,29.0,11.0,33.0,27.0,24.0,20.0,16.0,23.0,22.0,30.0,28.0,21.0,2.0,22.0,43.0,18.0,28.0,22.0,26.0,42.0,34.0,33.0,32.0,17.0,25.0,20.0,29.0,21.0,21.0,20.0,48.0,17.0,26.0,29.0,34.0,26.0,22.0,33.0,31.0,29.0,4.0,1.0,49.0,33.0,19.0,27.0,8.0,7.0,35.0,34.0,23.0,32.0,27.0,20.0,21.0,32.0,17.0,21.0,30.0,21.0,33.0,22.0,5.0,39.0,19.0,19.0,23.0,44.0,20.0,22.0,44.0,19.0,24.0,25.0,20.0,25.0,22.0,22.0,23.0,26.0,4.0,29.0,26.0,1.0,18.0,36.0,null,25.0,35.0,37.0,23.0,38.0,23.0,22.0,17.0,32.0,29.0,29.0,22.0,25.0,50.0,3.0,8.0,12.0,40.0,32.0,30.0,18.0,20.0,36.0,41.0,24.0,25.0,45.0,36.0,30.0,20.0,21.0,28.0,26.0,31.0,34.0,21.0,20.0,27.0,50.0,23.0,32.0,44.0,20.0,21.0,24.0,22.0,20.0,22.0,34.0,29.0,18.0,32.0,28.0,25.0,35.0,33.0,22.0,30.0,25.0,19.0,29.0,26.0,24.0,31.0,20.0,22.0,17.0,42.0,19.0,24.0,19.0,32.0,62.0,32.0,48.0,28.0,21.0,23.0,24.0,21.0,28.0,23.0,23.0,27.0,7.0,27.0,19.0,28.0,28.0,22.0,34.0,30.0,29.0,7.0,25.0,25.0,35.0,28.5,19.0,25.0,22.0,18.0,25.0,31.0,18.0,22.0,15.0,1.0,20.0,19.0,36.0,32.0,20.0,21.0,22.0,12.0,14.0,29.0,28.0,18.0,26.0,21.0,41.0,39.0,21.0,28.5,22.0,60.0,27.0,21.0,26.0,18.0,21.0,23.0,23.0,21.0,24.0,24.0,22.0,21.0,16.0,9.0,28.0,42.0,27.0,31.0,28.0,32.0,20.0,23.0,20.0,20.0,16.0,31.0,21.0,2.0,6.0,3.0,8.0,29.0,1.0,7.0,2.0,16.0,14.0,41.0,21.0,20.0,16.0,32.0,0.6,4.0,26.0,32.0,28.0,24.0,21.0,25.0,24.0,25.0,6.0,2.0,23.0,26.0,24.0,28.0,19.0,29.0,25.0,18.0,33.0,27.0,17.0,24.0,27.0,63.0,30.0,18.0,38.0,21.0,10.0,4.0,7.0,2.0,8.0,39.0,22.0,35.0,22.0,69.0,64.0,50.0,48.0,30.0,49.0,2.0,18.0,41.0,26.0,55.0,17.0,24.0,30.0,30.0,25.0,20.0,19.0,17.0,43.0,5.0,12.0,10.0,8.0,14.0,20.0,18.0,16.0,19.0,44.0,44.0,24.0,21.0,39.0,17.0,40.0,16.0,1.0,24.0,4.0,21.0,19.0,24.0,22.0,42.0,27.0,29.0,55.0,20.0,22.0,40.0,22.0,20.0,40.0,21.0,18.0,5.0,11.0,9.0,2.0,40.0,43.0,42.0,20.0,37.0,24.0,18.0,19.0,31.0,23.0,31.0,23.0,33.0,24.0,22.0,59.0,19.0,22.0,30.0,27.0,2.0,29.0,20.0,44.0,25.0,74.0,14.0,24.0,25.0,34.0,2.4,23.0,27.0,16.0,16.0,36.0,37.0,33.0,32.0,20.0,23.0,22.0,41.0,20.0,26.0,17.0,7.0,9.0,27.0,36.0,18.0,64.0,10.0,9.0,35.0,10.0,36.0,30.0,23.0,35.0,28.0,28.0,46.0,18.0,31.0,15.0,31.0,22.0,20.0,14.0,21.0,22.0,35.0,31.0,66.0,28.0,38.0,51.0,18.0,21.0,47.0,37.0,21.0,28.0,24.0,21.0,17.0,54.0,36.0,27.0,15.0,45.0,23.0,null,16.0,19.0,22.0,27.0,29.0],\"xaxis\":\"x\",\"yaxis\":\"y\",\"type\":\"histogram\"}],                        {\"template\":{\"data\":{\"histogram2dcontour\":[{\"type\":\"histogram2dcontour\",\"colorbar\":{\"outlinewidth\":0,\"ticks\":\"\"},\"colorscale\":[[0.0,\"#0d0887\"],[0.1111111111111111,\"#46039f\"],[0.2222222222222222,\"#7201a8\"],[0.3333333333333333,\"#9c179e\"],[0.4444444444444444,\"#bd3786\"],[0.5555555555555556,\"#d8576b\"],[0.6666666666666666,\"#ed7953\"],[0.7777777777777778,\"#fb9f3a\"],[0.8888888888888888,\"#fdca26\"],[1.0,\"#f0f921\"]]}],\"choropleth\":[{\"type\":\"choropleth\",\"colorbar\":{\"outlinewidth\":0,\"ticks\":\"\"}}],\"histogram2d\":[{\"type\":\"histogram2d\",\"colorbar\":{\"outlinewidth\":0,\"ticks\":\"\"},\"colorscale\":[[0.0,\"#0d0887\"],[0.1111111111111111,\"#46039f\"],[0.2222222222222222,\"#7201a8\"],[0.3333333333333333,\"#9c179e\"],[0.4444444444444444,\"#bd3786\"],[0.5555555555555556,\"#d8576b\"],[0.6666666666666666,\"#ed7953\"],[0.7777777777777778,\"#fb9f3a\"],[0.8888888888888888,\"#fdca26\"],[1.0,\"#f0f921\"]]}],\"heatmap\":[{\"type\":\"heatmap\",\"colorbar\":{\"outlinewidth\":0,\"ticks\":\"\"},\"colorscale\":[[0.0,\"#0d0887\"],[0.1111111111111111,\"#46039f\"],[0.2222222222222222,\"#7201a8\"],[0.3333333333333333,\"#9c179e\"],[0.4444444444444444,\"#bd3786\"],[0.5555555555555556,\"#d8576b\"],[0.6666666666666666,\"#ed7953\"],[0.7777777777777778,\"#fb9f3a\"],[0.8888888888888888,\"#fdca26\"],[1.0,\"#f0f921\"]]}],\"heatmapgl\":[{\"type\":\"heatmapgl\",\"colorbar\":{\"outlinewidth\":0,\"ticks\":\"\"},\"colorscale\":[[0.0,\"#0d0887\"],[0.1111111111111111,\"#46039f\"],[0.2222222222222222,\"#7201a8\"],[0.3333333333333333,\"#9c179e\"],[0.4444444444444444,\"#bd3786\"],[0.5555555555555556,\"#d8576b\"],[0.6666666666666666,\"#ed7953\"],[0.7777777777777778,\"#fb9f3a\"],[0.8888888888888888,\"#fdca26\"],[1.0,\"#f0f921\"]]}],\"contourcarpet\":[{\"type\":\"contourcarpet\",\"colorbar\":{\"outlinewidth\":0,\"ticks\":\"\"}}],\"contour\":[{\"type\":\"contour\",\"colorbar\":{\"outlinewidth\":0,\"ticks\":\"\"},\"colorscale\":[[0.0,\"#0d0887\"],[0.1111111111111111,\"#46039f\"],[0.2222222222222222,\"#7201a8\"],[0.3333333333333333,\"#9c179e\"],[0.4444444444444444,\"#bd3786\"],[0.5555555555555556,\"#d8576b\"],[0.6666666666666666,\"#ed7953\"],[0.7777777777777778,\"#fb9f3a\"],[0.8888888888888888,\"#fdca26\"],[1.0,\"#f0f921\"]]}],\"surface\":[{\"type\":\"surface\",\"colorbar\":{\"outlinewidth\":0,\"ticks\":\"\"},\"colorscale\":[[0.0,\"#0d0887\"],[0.1111111111111111,\"#46039f\"],[0.2222222222222222,\"#7201a8\"],[0.3333333333333333,\"#9c179e\"],[0.4444444444444444,\"#bd3786\"],[0.5555555555555556,\"#d8576b\"],[0.6666666666666666,\"#ed7953\"],[0.7777777777777778,\"#fb9f3a\"],[0.8888888888888888,\"#fdca26\"],[1.0,\"#f0f921\"]]}],\"mesh3d\":[{\"type\":\"mesh3d\",\"colorbar\":{\"outlinewidth\":0,\"ticks\":\"\"}}],\"scatter\":[{\"fillpattern\":{\"fillmode\":\"overlay\",\"size\":10,\"solidity\":0.2},\"type\":\"scatter\"}],\"parcoords\":[{\"type\":\"parcoords\",\"line\":{\"colorbar\":{\"outlinewidth\":0,\"ticks\":\"\"}}}],\"scatterpolargl\":[{\"type\":\"scatterpolargl\",\"marker\":{\"colorbar\":{\"outlinewidth\":0,\"ticks\":\"\"}}}],\"bar\":[{\"error_x\":{\"color\":\"#2a3f5f\"},\"error_y\":{\"color\":\"#2a3f5f\"},\"marker\":{\"line\":{\"color\":\"#E5ECF6\",\"width\":0.5},\"pattern\":{\"fillmode\":\"overlay\",\"size\":10,\"solidity\":0.2}},\"type\":\"bar\"}],\"scattergeo\":[{\"type\":\"scattergeo\",\"marker\":{\"colorbar\":{\"outlinewidth\":0,\"ticks\":\"\"}}}],\"scatterpolar\":[{\"type\":\"scatterpolar\",\"marker\":{\"colorbar\":{\"outlinewidth\":0,\"ticks\":\"\"}}}],\"histogram\":[{\"marker\":{\"pattern\":{\"fillmode\":\"overlay\",\"size\":10,\"solidity\":0.2}},\"type\":\"histogram\"}],\"scattergl\":[{\"type\":\"scattergl\",\"marker\":{\"colorbar\":{\"outlinewidth\":0,\"ticks\":\"\"}}}],\"scatter3d\":[{\"type\":\"scatter3d\",\"line\":{\"colorbar\":{\"outlinewidth\":0,\"ticks\":\"\"}},\"marker\":{\"colorbar\":{\"outlinewidth\":0,\"ticks\":\"\"}}}],\"scattermapbox\":[{\"type\":\"scattermapbox\",\"marker\":{\"colorbar\":{\"outlinewidth\":0,\"ticks\":\"\"}}}],\"scatterternary\":[{\"type\":\"scatterternary\",\"marker\":{\"colorbar\":{\"outlinewidth\":0,\"ticks\":\"\"}}}],\"scattercarpet\":[{\"type\":\"scattercarpet\",\"marker\":{\"colorbar\":{\"outlinewidth\":0,\"ticks\":\"\"}}}],\"carpet\":[{\"aaxis\":{\"endlinecolor\":\"#2a3f5f\",\"gridcolor\":\"white\",\"linecolor\":\"white\",\"minorgridcolor\":\"white\",\"startlinecolor\":\"#2a3f5f\"},\"baxis\":{\"endlinecolor\":\"#2a3f5f\",\"gridcolor\":\"white\",\"linecolor\":\"white\",\"minorgridcolor\":\"white\",\"startlinecolor\":\"#2a3f5f\"},\"type\":\"carpet\"}],\"table\":[{\"cells\":{\"fill\":{\"color\":\"#EBF0F8\"},\"line\":{\"color\":\"white\"}},\"header\":{\"fill\":{\"color\":\"#C8D4E3\"},\"line\":{\"color\":\"white\"}},\"type\":\"table\"}],\"barpolar\":[{\"marker\":{\"line\":{\"color\":\"#E5ECF6\",\"width\":0.5},\"pattern\":{\"fillmode\":\"overlay\",\"size\":10,\"solidity\":0.2}},\"type\":\"barpolar\"}],\"pie\":[{\"automargin\":true,\"type\":\"pie\"}]},\"layout\":{\"autotypenumbers\":\"strict\",\"colorway\":[\"#636efa\",\"#EF553B\",\"#00cc96\",\"#ab63fa\",\"#FFA15A\",\"#19d3f3\",\"#FF6692\",\"#B6E880\",\"#FF97FF\",\"#FECB52\"],\"font\":{\"color\":\"#2a3f5f\"},\"hovermode\":\"closest\",\"hoverlabel\":{\"align\":\"left\"},\"paper_bgcolor\":\"white\",\"plot_bgcolor\":\"#E5ECF6\",\"polar\":{\"bgcolor\":\"#E5ECF6\",\"angularaxis\":{\"gridcolor\":\"white\",\"linecolor\":\"white\",\"ticks\":\"\"},\"radialaxis\":{\"gridcolor\":\"white\",\"linecolor\":\"white\",\"ticks\":\"\"}},\"ternary\":{\"bgcolor\":\"#E5ECF6\",\"aaxis\":{\"gridcolor\":\"white\",\"linecolor\":\"white\",\"ticks\":\"\"},\"baxis\":{\"gridcolor\":\"white\",\"linecolor\":\"white\",\"ticks\":\"\"},\"caxis\":{\"gridcolor\":\"white\",\"linecolor\":\"white\",\"ticks\":\"\"}},\"coloraxis\":{\"colorbar\":{\"outlinewidth\":0,\"ticks\":\"\"}},\"colorscale\":{\"sequential\":[[0.0,\"#0d0887\"],[0.1111111111111111,\"#46039f\"],[0.2222222222222222,\"#7201a8\"],[0.3333333333333333,\"#9c179e\"],[0.4444444444444444,\"#bd3786\"],[0.5555555555555556,\"#d8576b\"],[0.6666666666666666,\"#ed7953\"],[0.7777777777777778,\"#fb9f3a\"],[0.8888888888888888,\"#fdca26\"],[1.0,\"#f0f921\"]],\"sequentialminus\":[[0.0,\"#0d0887\"],[0.1111111111111111,\"#46039f\"],[0.2222222222222222,\"#7201a8\"],[0.3333333333333333,\"#9c179e\"],[0.4444444444444444,\"#bd3786\"],[0.5555555555555556,\"#d8576b\"],[0.6666666666666666,\"#ed7953\"],[0.7777777777777778,\"#fb9f3a\"],[0.8888888888888888,\"#fdca26\"],[1.0,\"#f0f921\"]],\"diverging\":[[0,\"#8e0152\"],[0.1,\"#c51b7d\"],[0.2,\"#de77ae\"],[0.3,\"#f1b6da\"],[0.4,\"#fde0ef\"],[0.5,\"#f7f7f7\"],[0.6,\"#e6f5d0\"],[0.7,\"#b8e186\"],[0.8,\"#7fbc41\"],[0.9,\"#4d9221\"],[1,\"#276419\"]]},\"xaxis\":{\"gridcolor\":\"white\",\"linecolor\":\"white\",\"ticks\":\"\",\"title\":{\"standoff\":15},\"zerolinecolor\":\"white\",\"automargin\":true,\"zerolinewidth\":2},\"yaxis\":{\"gridcolor\":\"white\",\"linecolor\":\"white\",\"ticks\":\"\",\"title\":{\"standoff\":15},\"zerolinecolor\":\"white\",\"automargin\":true,\"zerolinewidth\":2},\"scene\":{\"xaxis\":{\"backgroundcolor\":\"#E5ECF6\",\"gridcolor\":\"white\",\"linecolor\":\"white\",\"showbackground\":true,\"ticks\":\"\",\"zerolinecolor\":\"white\",\"gridwidth\":2},\"yaxis\":{\"backgroundcolor\":\"#E5ECF6\",\"gridcolor\":\"white\",\"linecolor\":\"white\",\"showbackground\":true,\"ticks\":\"\",\"zerolinecolor\":\"white\",\"gridwidth\":2},\"zaxis\":{\"backgroundcolor\":\"#E5ECF6\",\"gridcolor\":\"white\",\"linecolor\":\"white\",\"showbackground\":true,\"ticks\":\"\",\"zerolinecolor\":\"white\",\"gridwidth\":2}},\"shapedefaults\":{\"line\":{\"color\":\"#2a3f5f\"}},\"annotationdefaults\":{\"arrowcolor\":\"#2a3f5f\",\"arrowhead\":0,\"arrowwidth\":1},\"geo\":{\"bgcolor\":\"white\",\"landcolor\":\"#E5ECF6\",\"subunitcolor\":\"white\",\"showland\":true,\"showlakes\":true,\"lakecolor\":\"white\"},\"title\":{\"x\":0.05},\"mapbox\":{\"style\":\"light\"}}},\"xaxis\":{\"anchor\":\"y\",\"domain\":[0.0,1.0],\"title\":{\"text\":\"Wiek\"}},\"yaxis\":{\"anchor\":\"x\",\"domain\":[0.0,1.0],\"title\":{\"text\":\"count\"}},\"legend\":{\"tracegroupgap\":0},\"title\":{\"text\":\"Rozk\\u0142ad wieku pasa\\u017cer\\u00f3w\",\"x\":0.5},\"barmode\":\"relative\",\"bargap\":0.1},                        {\"responsive\": true}                    ).then(function(){\n",
       "                            \n",
       "var gd = document.getElementById('90bc926e-8634-48d6-af48-b573e5c5941f');\n",
       "var x = new MutationObserver(function (mutations, observer) {{\n",
       "        var display = window.getComputedStyle(gd).display;\n",
       "        if (!display || display === 'none') {{\n",
       "            console.log([gd, 'removed!']);\n",
       "            Plotly.purge(gd);\n",
       "            observer.disconnect();\n",
       "        }}\n",
       "}});\n",
       "\n",
       "// Listen for the removal of the full notebook cells\n",
       "var notebookContainer = gd.closest('#notebook-container');\n",
       "if (notebookContainer) {{\n",
       "    x.observe(notebookContainer, {childList: true});\n",
       "}}\n",
       "\n",
       "// Listen for the clearing of the current output cell\n",
       "var outputEl = gd.closest('.output');\n",
       "if (outputEl) {{\n",
       "    x.observe(outputEl, {childList: true});\n",
       "}}\n",
       "\n",
       "                        })                };                });            </script>        </div>"
      ]
     },
     "metadata": {},
     "output_type": "display_data"
    }
   ],
   "source": [
    "fig = px.histogram(df, x='age', title='Rozkład wieku pasażerów',\n",
    "                   labels={'age': 'Wiek'}, nbins=30)\n",
    "\n",
    "fig.update_layout(bargap=0.1, title_x=0.5)"
   ]
  },
  {
   "cell_type": "code",
   "execution_count": 49,
   "id": "64413398-8def-4a95-9bc9-52508137baae",
   "metadata": {},
   "outputs": [],
   "source": [
    "fig.write_html(\"zadanie-histogram.html\")"
   ]
  },
  {
   "cell_type": "markdown",
   "id": "2712e0fb-5f03-4c71-8977-4d82f21fd39a",
   "metadata": {},
   "source": [
    "### Scatterplot"
   ]
  },
  {
   "cell_type": "code",
   "execution_count": 50,
   "id": "128b1d5f-ed4c-414b-b853-e8deb7f8f66b",
   "metadata": {},
   "outputs": [],
   "source": [
    "df['survived'] = df['survived'].map({0: 'Nie przyżył', 1: 'Przeżył'})"
   ]
  },
  {
   "cell_type": "code",
   "execution_count": 54,
   "id": "8e6208d7-ad0c-41ae-b3ff-7021836b70f2",
   "metadata": {},
   "outputs": [
    {
     "data": {
      "application/vnd.plotly.v1+json": {
       "config": {
        "plotlyServerURL": "https://plot.ly"
       },
       "data": [
        {
         "hovertemplate": "Przeżył=Przeżył<br>Wiek=%{x}<br>Opłata za bilet=%{y}<extra></extra>",
         "legendgroup": "Przeżył",
         "marker": {
          "color": "green",
          "symbol": "circle"
         },
         "mode": "markers",
         "name": "Przeżył",
         "showlegend": true,
         "type": "scattergl",
         "x": [
          29,
          0.92,
          48,
          63,
          53,
          18,
          24,
          26,
          80,
          50,
          32,
          37,
          47,
          26,
          42,
          29,
          25,
          19,
          35,
          28,
          40,
          30,
          58,
          45,
          22,
          37,
          44,
          59,
          60,
          41,
          42,
          53,
          36,
          58,
          11,
          14,
          36,
          36,
          36,
          76,
          47,
          27,
          33,
          36,
          30,
          45,
          48,
          26,
          22,
          39,
          64,
          55,
          36,
          64,
          38,
          51,
          27,
          33,
          27,
          31,
          17,
          53,
          4,
          54,
          27,
          48,
          48,
          49,
          23,
          38,
          54,
          48,
          42,
          36,
          24,
          28,
          23,
          60,
          30,
          50,
          43,
          42,
          22,
          60,
          48,
          35,
          35,
          22,
          45,
          49,
          null,
          53,
          19,
          58,
          23,
          45,
          25,
          25,
          48,
          49,
          35,
          27,
          null,
          24,
          52,
          16,
          44,
          51,
          35,
          35,
          38,
          35,
          38,
          49,
          40,
          42,
          45,
          39,
          49,
          27,
          35,
          55,
          16,
          51,
          21,
          58,
          15,
          16,
          29,
          18,
          24,
          36,
          25,
          33,
          37,
          30,
          31,
          23,
          19,
          39,
          29,
          22,
          22,
          17,
          30,
          52,
          56,
          33,
          43,
          45,
          33,
          33,
          54,
          13,
          18,
          21,
          48,
          47,
          24,
          43,
          35,
          30,
          34,
          40,
          35,
          39,
          56,
          28,
          18,
          24,
          23,
          6,
          45,
          40,
          48,
          32,
          54,
          43,
          52,
          62,
          48,
          18,
          39,
          48,
          49,
          17,
          39,
          37,
          31,
          35,
          60,
          55,
          31,
          45,
          50,
          21,
          21,
          31,
          45,
          36,
          28,
          36,
          36,
          32,
          19,
          1,
          4,
          12,
          36,
          34,
          19,
          24,
          15,
          40,
          20,
          36,
          42,
          0.83,
          26,
          22,
          35,
          25,
          45,
          28,
          24,
          8,
          31,
          22,
          8,
          48,
          28,
          24,
          18,
          34,
          8,
          34,
          27,
          30,
          29,
          34,
          0.67,
          24,
          6,
          62,
          7,
          45,
          24,
          24,
          48,
          55,
          20,
          54,
          29,
          42,
          17,
          24,
          23,
          24,
          46,
          45,
          1,
          3,
          22,
          17,
          31,
          34,
          42,
          1,
          24,
          13,
          41,
          19,
          14,
          2,
          3,
          20,
          29,
          22,
          27,
          29,
          50,
          21,
          19,
          32,
          30,
          2,
          8,
          33,
          30,
          28,
          0.83,
          3,
          24,
          50,
          21,
          25,
          18,
          20,
          30,
          30,
          40,
          50,
          28,
          27,
          31,
          31,
          12,
          40,
          32.5,
          29,
          2,
          4,
          29,
          0.92,
          5,
          33,
          31,
          23,
          26,
          35,
          16,
          25,
          20,
          18,
          0.83,
          18,
          26,
          19,
          17,
          27,
          3,
          5,
          23,
          38,
          45,
          13,
          33,
          0.75,
          0.75,
          5,
          24,
          18,
          20,
          32,
          22,
          21,
          16,
          32,
          18,
          22,
          9,
          3,
          36,
          17,
          45,
          30,
          29,
          34,
          36.5,
          36,
          30,
          1,
          0.17,
          33,
          19,
          19,
          30,
          23,
          24,
          22,
          5,
          41,
          32,
          16,
          18,
          9,
          31,
          24,
          45,
          33,
          27,
          24,
          16,
          22,
          2,
          22,
          28,
          26,
          34,
          29,
          21,
          26,
          29,
          26,
          4,
          1,
          27,
          32,
          32,
          21,
          5,
          39,
          20,
          22,
          24,
          4,
          29,
          26,
          25,
          38,
          22,
          32,
          25,
          20,
          27,
          23,
          32,
          21,
          24,
          18,
          28,
          22,
          25,
          19,
          29,
          26,
          24,
          31,
          22,
          17,
          21,
          23,
          7,
          27,
          28,
          29,
          7,
          25,
          25,
          35,
          19,
          25,
          18,
          25,
          31,
          15,
          1,
          20,
          19,
          12,
          14,
          18,
          26,
          39,
          22,
          26,
          24,
          24,
          22,
          21,
          16,
          9,
          32,
          31,
          25,
          6,
          2,
          23,
          33,
          22,
          26,
          24,
          21,
          1,
          24,
          4,
          21,
          29,
          20,
          18,
          18,
          24,
          30,
          20,
          44,
          14,
          25,
          2.4,
          16,
          33,
          26,
          7,
          9,
          27,
          18,
          64,
          22,
          38,
          47,
          15
         ],
         "xaxis": "x",
         "y": [
          211.3375,
          151.55,
          26.55,
          779.583,
          514.792,
          227.525,
          69.3,
          78.85,
          30,
          247.5208,
          762.917,
          525.542,
          525.542,
          30,
          227.525,
          221.7792,
          910.792,
          910.792,
          135.6333,
          26.55,
          31,
          164.8667,
          26.55,
          262.375,
          55,
          26.55,
          277.208,
          514.792,
          762.917,
          134.5,
          262.875,
          274.458,
          512.3292,
          512.3292,
          120,
          120,
          120,
          120,
          277.208,
          78.85,
          61.175,
          53.1,
          53.1,
          262.375,
          86.5,
          29.7,
          55,
          136.7792,
          151.55,
          831.583,
          831.583,
          25.7,
          71,
          26.55,
          712.833,
          26.55,
          30.5,
          151.55,
          52,
          57,
          57,
          818.583,
          818.583,
          818.583,
          247.5208,
          106.425,
          39.6,
          569.292,
          831.583,
          227.525,
          782.667,
          316.833,
          110.8833,
          263.875,
          263,
          263,
          263,
          263,
          569.292,
          133.65,
          277.208,
          133.65,
          49.5,
          79.2,
          79.2,
          53.1,
          211.5,
          59.4,
          59.4,
          891.042,
          891.042,
          28.5,
          30,
          153.4625,
          633.583,
          633.583,
          554.417,
          554.417,
          767.292,
          767.292,
          83.475,
          767.292,
          30,
          831.583,
          93.5,
          579.792,
          579.792,
          779.583,
          52,
          26.55,
          90,
          90,
          80,
          0,
          518.625,
          525.542,
          525.542,
          211.3375,
          259.292,
          106.425,
          512.3292,
          277.208,
          39.4,
          39.4,
          779.583,
          146.5208,
          211.3375,
          86.5,
          29.7,
          53.1,
          495.042,
          262.875,
          821.708,
          90,
          90,
          57.75,
          113.275,
          113.275,
          262.833,
          108.9,
          257.417,
          619.792,
          66.6,
          108.9,
          93.5,
          30.5,
          831.583,
          39.6,
          211.3375,
          26.55,
          277.208,
          86.5,
          59.4,
          262.375,
          262.375,
          262.375,
          262.375,
          30.5,
          69.3,
          26,
          57.75,
          31,
          26.55,
          153.4625,
          262.875,
          55.9,
          35.5,
          35.5,
          60,
          822.667,
          822.667,
          134.5,
          134.5,
          134.5,
          146.5208,
          30.5,
          554.417,
          554.417,
          782.667,
          80,
          259.292,
          79.65,
          79.65,
          52,
          52,
          110.8833,
          110.8833,
          79.2,
          285.375,
          512.3292,
          75.25,
          135.6333,
          164.8667,
          164.8667,
          211.5,
          26.55,
          613.792,
          134.5,
          35.5,
          135.6333,
          24,
          26,
          13,
          26,
          26,
          39,
          39,
          39,
          39,
          13,
          13,
          13,
          39,
          39,
          26,
          13,
          13,
          29,
          29,
          29,
          21,
          30,
          30,
          26,
          10.5,
          26.25,
          26.25,
          10.5,
          36.75,
          36.75,
          13,
          277.208,
          23,
          23,
          32.5,
          32.5,
          138.583,
          138.583,
          26,
          13,
          14.5,
          14.5,
          33,
          10.5,
          26.25,
          26.25,
          65,
          65,
          65,
          16,
          23,
          23,
          26,
          13,
          10.5,
          27,
          137.917,
          26,
          12.35,
          13.5,
          415.792,
          415.792,
          415.792,
          12,
          33,
          10.5,
          26,
          370.042,
          370.042,
          19.5,
          19.5,
          10.5,
          300.708,
          26,
          26,
          138.625,
          10.5,
          10.5,
          138.625,
          138.583,
          26,
          21,
          26,
          13,
          127.375,
          26,
          26,
          26,
          21,
          13,
          18.75,
          18.75,
          18.75,
          10.5,
          10.5,
          26,
          13,
          36.75,
          13,
          12.35,
          13,
          10.5,
          12.65,
          10.5,
          21,
          21,
          15.75,
          15.75,
          13,
          26,
          23,
          23,
          23,
          27.75,
          27.75,
          27.75,
          13,
          13,
          13.5,
          20.25,
          7.65,
          7.65,
          7.925,
          72.292,
          9.35,
          9.35,
          187.875,
          78.542,
          7.925,
          77.958,
          313.875,
          313.875,
          77.958,
          313.875,
          7.225,
          72.292,
          15.85,
          192.583,
          192.583,
          192.583,
          192.583,
          8.05,
          72.292,
          564.958,
          7.725,
          78.208,
          7.75,
          564.958,
          8.05,
          7.75,
          15.9,
          15.9,
          15.9,
          16.1,
          8.05,
          6.95,
          7.75,
          16.1,
          17.4,
          17.4,
          9.5,
          20.575,
          20.575,
          20.575,
          78.792,
          8.05,
          12.475,
          8.05,
          7.55,
          13.9,
          12.475,
          7.05,
          564.958,
          77.333,
          7.75,
          20.525,
          20.525,
          15.85,
          141.083,
          7.75,
          6.975,
          564.958,
          7.925,
          89.625,
          122.875,
          122.875,
          7.925,
          8.05,
          78.875,
          78.958,
          77.958,
          7.75,
          81.125,
          7.775,
          111.333,
          111.333,
          111.333,
          78.542,
          7.925,
          77.958,
          134.167,
          134.167,
          7.75,
          7.75,
          7.75,
          22.025,
          22.025,
          22.025,
          72.292,
          564.958,
          7.25,
          564.958,
          7.225,
          7.925,
          86.625,
          78.542,
          75.792,
          7.75,
          71.417,
          72.292,
          77.375,
          7.225,
          7.75,
          7.75,
          23.25,
          23.25,
          23.25,
          77.875,
          78.792,
          80.292,
          7.775,
          78.792,
          12.475,
          12.475,
          24.15,
          7.775,
          152.458,
          152.458,
          152.458,
          72.292,
          77.333,
          7.75,
          15.5,
          15.5,
          15.5,
          7.225,
          157.417,
          157.417,
          157.417,
          112.417,
          112.417,
          7.775,
          78.542,
          7.925,
          7.75,
          15.5,
          7.75,
          78.792,
          7.775,
          7.75,
          78.292,
          31.708,
          7.775,
          86.833,
          7.775,
          223.583,
          223.583,
          223.583,
          8.05,
          77.208,
          8.05,
          7.75,
          7.65,
          16.7,
          16.7,
          16.7,
          9.5,
          9.5,
          77.792,
          74.958,
          77.333,
          7.55,
          7.925,
          8.05,
          7.925,
          9.225,
          77.958,
          85.167,
          85.167,
          16.1,
          0,
          152.458,
          152.458,
          152.458,
          98.417,
          95.875,
          7.225,
          72.292,
          7,
          144.542
         ],
         "yaxis": "y"
        },
        {
         "hovertemplate": "Przeżył=Nie przyżył<br>Wiek=%{x}<br>Opłata za bilet=%{y}<extra></extra>",
         "legendgroup": "Nie przyżył",
         "marker": {
          "color": "red",
          "symbol": "circle"
         },
         "mode": "markers",
         "name": "Nie przyżył",
         "showlegend": true,
         "type": "scattergl",
         "x": [
          2,
          30,
          25,
          39,
          71,
          47,
          48,
          24,
          36,
          25,
          45,
          42,
          41,
          48,
          45,
          45,
          28,
          33,
          28,
          17,
          49,
          36,
          46,
          43,
          27,
          40,
          47,
          37,
          59,
          70,
          39,
          31,
          50,
          39,
          36,
          49,
          30,
          19,
          64,
          null,
          39,
          37,
          47,
          24,
          71,
          38,
          46,
          37,
          45,
          40,
          55,
          42,
          null,
          55,
          42,
          null,
          50,
          46,
          50,
          32.5,
          58,
          41,
          41,
          30,
          42,
          29,
          30,
          30,
          19,
          46,
          54,
          28,
          65,
          44,
          55,
          47,
          37,
          58,
          64,
          65,
          28.5,
          30,
          45.5,
          23,
          29,
          18,
          47,
          38,
          22,
          45,
          31,
          39,
          46,
          36,
          55,
          33,
          61,
          50,
          56,
          56,
          24,
          57,
          57,
          62,
          64,
          67,
          63,
          61,
          52,
          49,
          40,
          61,
          47,
          64,
          60,
          54,
          21,
          57,
          50,
          27,
          51,
          43,
          62,
          30,
          30,
          18,
          25,
          34,
          57,
          18,
          23,
          28,
          51,
          28,
          23,
          26,
          42,
          27,
          60,
          25,
          25,
          42,
          21,
          19,
          44,
          54,
          52,
          37,
          29,
          29,
          29,
          28,
          31,
          30,
          32,
          21,
          22,
          18,
          32,
          17,
          29,
          25,
          18,
          54,
          42,
          23,
          21,
          18,
          40,
          18,
          36,
          null,
          38,
          35,
          38,
          34,
          16,
          26,
          47,
          21,
          21,
          24,
          24,
          34,
          30,
          52,
          30,
          44,
          28,
          30,
          43,
          49,
          24,
          32,
          21,
          18,
          23,
          36,
          50,
          44,
          21,
          63,
          60,
          33,
          42,
          47,
          24,
          22,
          32,
          34,
          22,
          35,
          57,
          38,
          31,
          26,
          30,
          31,
          25,
          36,
          24,
          61,
          50,
          57,
          25,
          31,
          47,
          30,
          40,
          32,
          30,
          46,
          39,
          48,
          70,
          27,
          54,
          38,
          16,
          62,
          32.5,
          36.5,
          26,
          19,
          28,
          39,
          23,
          28,
          21,
          19,
          39,
          41,
          43,
          34,
          27,
          36,
          34,
          23,
          19,
          26,
          25,
          27,
          59,
          35,
          25,
          41,
          25,
          18.5,
          14,
          23,
          29,
          27,
          40,
          30,
          23,
          19,
          27,
          36,
          66,
          26,
          24,
          42,
          13,
          16,
          30,
          26,
          40,
          26,
          20,
          24,
          25,
          35,
          18,
          32,
          4,
          6,
          2,
          38,
          9,
          11,
          39,
          26,
          39,
          20,
          26,
          25,
          18,
          24,
          35,
          5,
          9,
          13,
          40,
          21,
          23,
          18,
          30,
          23,
          21,
          32,
          40,
          26,
          18,
          45,
          27,
          22,
          19,
          26,
          22,
          10,
          20,
          21,
          18,
          26,
          6,
          9,
          18,
          40,
          40,
          40,
          32,
          21,
          20,
          29,
          22,
          22,
          35,
          18.5,
          19,
          18,
          21,
          30,
          18,
          38,
          17,
          17,
          21,
          21,
          29,
          28,
          18,
          28,
          24,
          37,
          28,
          24,
          21,
          29,
          26,
          18,
          20,
          24,
          36,
          24,
          31,
          31,
          30,
          66,
          43,
          35,
          27,
          19,
          30,
          59,
          19,
          44,
          17,
          19,
          22,
          19,
          0.33,
          34,
          28,
          27,
          25,
          24,
          22,
          21,
          17,
          32,
          16,
          26,
          25,
          23,
          30,
          22,
          26,
          17,
          42,
          43,
          28,
          32,
          24,
          33,
          66,
          23,
          18,
          16,
          45,
          29,
          39,
          17,
          15,
          47,
          26,
          38,
          40.5,
          18,
          22,
          28,
          48,
          26,
          20,
          21,
          9,
          23,
          18,
          16,
          48,
          28,
          46,
          25,
          23,
          null,
          23,
          33,
          41,
          38,
          9,
          1,
          11,
          10,
          16,
          14,
          40,
          43,
          51,
          32,
          25,
          20,
          37,
          28,
          19,
          24,
          17,
          28,
          19,
          28,
          19,
          35,
          41,
          26,
          20,
          21,
          25,
          29,
          11,
          20,
          23,
          30,
          28,
          21,
          43,
          18,
          22,
          42,
          33,
          32,
          17,
          25,
          20,
          21,
          20,
          48,
          17,
          34,
          22,
          33,
          31,
          29,
          49,
          33,
          19,
          8,
          7,
          35,
          34,
          23,
          27,
          20,
          21,
          17,
          21,
          30,
          33,
          22,
          19,
          19,
          23,
          44,
          44,
          19,
          25,
          20,
          25,
          22,
          22,
          23,
          26,
          1,
          18,
          36,
          null,
          35,
          37,
          23,
          23,
          17,
          29,
          29,
          22,
          50,
          3,
          8,
          12,
          40,
          32,
          30,
          18,
          20,
          36,
          41,
          24,
          25,
          45,
          36,
          30,
          21,
          28,
          26,
          31,
          34,
          21,
          20,
          50,
          44,
          20,
          22,
          20,
          22,
          34,
          29,
          32,
          25,
          35,
          33,
          30,
          20,
          42,
          19,
          24,
          19,
          32,
          62,
          32,
          48,
          28,
          23,
          24,
          21,
          28,
          23,
          27,
          19,
          28,
          22,
          34,
          30,
          28.5,
          22,
          18,
          22,
          36,
          32,
          20,
          21,
          22,
          29,
          28,
          21,
          41,
          21,
          28.5,
          60,
          27,
          21,
          18,
          21,
          23,
          23,
          21,
          28,
          42,
          27,
          31,
          28,
          20,
          23,
          20,
          20,
          16,
          21,
          2,
          6,
          3,
          8,
          29,
          1,
          7,
          2,
          16,
          14,
          41,
          21,
          20,
          16,
          32,
          0.6,
          4,
          26,
          32,
          28,
          24,
          21,
          25,
          24,
          26,
          24,
          28,
          19,
          29,
          25,
          18,
          27,
          17,
          24,
          27,
          63,
          30,
          18,
          38,
          21,
          10,
          4,
          7,
          2,
          8,
          39,
          22,
          35,
          69,
          64,
          50,
          48,
          30,
          49,
          2,
          18,
          41,
          55,
          17,
          30,
          30,
          25,
          20,
          19,
          17,
          43,
          5,
          12,
          10,
          8,
          14,
          20,
          18,
          16,
          19,
          44,
          44,
          24,
          39,
          17,
          40,
          16,
          19,
          24,
          22,
          42,
          27,
          55,
          22,
          40,
          22,
          20,
          40,
          21,
          5,
          11,
          9,
          2,
          40,
          43,
          42,
          20,
          37,
          24,
          19,
          31,
          23,
          31,
          23,
          33,
          22,
          59,
          19,
          22,
          27,
          2,
          29,
          25,
          74,
          24,
          34,
          23,
          27,
          16,
          36,
          37,
          32,
          20,
          23,
          22,
          41,
          20,
          17,
          36,
          10,
          9,
          35,
          10,
          36,
          30,
          23,
          35,
          28,
          28,
          46,
          18,
          31,
          15,
          31,
          20,
          14,
          21,
          22,
          35,
          31,
          66,
          28,
          51,
          18,
          21,
          37,
          21,
          28,
          24,
          21,
          17,
          54,
          36,
          27,
          45,
          23,
          null,
          16,
          19,
          22,
          27,
          29
         ],
         "xaxis": "x",
         "y": [
          151.55,
          151.55,
          151.55,
          0,
          495.042,
          227.525,
          25.925,
          247.5208,
          752.417,
          26,
          35.5,
          26.55,
          30.5,
          504.958,
          39.6,
          26.55,
          31,
          5,
          47.1,
          47.1,
          26,
          78.85,
          61.175,
          0,
          136.7792,
          52,
          255.875,
          831.583,
          26.55,
          71,
          712.833,
          52,
          106.425,
          29.7,
          316.792,
          221.7792,
          27.75,
          263,
          263,
          26.55,
          0,
          53.1,
          38.5,
          79.2,
          346.542,
          153.4625,
          79.2,
          42.4,
          83.475,
          0,
          93.5,
          42.5,
          518.625,
          50,
          52,
          306.958,
          287.125,
          26,
          26,
          211.5,
          29.7,
          518.625,
          26.55,
          277.208,
          26.55,
          30,
          45.5,
          26,
          53.1,
          752.417,
          518.625,
          821.708,
          26.55,
          90,
          30.5,
          42.4,
          29.7,
          113.275,
          26,
          619.792,
          277.208,
          0,
          28.5,
          93.5,
          66.6,
          108.9,
          52,
          0,
          135.6333,
          227.525,
          504.958,
          50,
          79.2,
          40.125,
          59.4,
          26.55,
          262.375,
          55.9,
          26.55,
          306.958,
          60,
          26,
          146.5208,
          26.55,
          277.208,
          221.7792,
          221.7792,
          323.208,
          79.65,
          110.8833,
          277.208,
          33.5,
          340.208,
          75.25,
          26.55,
          772.875,
          772.875,
          164.8667,
          211.5,
          211.5,
          613.792,
          35,
          26.55,
          24,
          13,
          11.5,
          10.5,
          26,
          13,
          11.5,
          10.5,
          10.5,
          12.525,
          26,
          13,
          13,
          13,
          13,
          39,
          26,
          13,
          13,
          0,
          13,
          26,
          26,
          13.5,
          26,
          26,
          26,
          10.5,
          13,
          26.25,
          13,
          21,
          11.5,
          0,
          73.5,
          13,
          73.5,
          277.208,
          31.5,
          73.5,
          26,
          32.5,
          13,
          13,
          13,
          26,
          10.5,
          13,
          0,
          13,
          26,
          21,
          21,
          26,
          10.5,
          10.5,
          11.5,
          11.5,
          13.5,
          13,
          13,
          13,
          13,
          13,
          13,
          33,
          10.5,
          26.25,
          65,
          73.5,
          73.5,
          73.5,
          13,
          11.5,
          13,
          13,
          26,
          73.5,
          26,
          26,
          12.275,
          27,
          15,
          31.5,
          31.5,
          10.5,
          26,
          21,
          12.35,
          12.35,
          0,
          10.5,
          26,
          26,
          107.083,
          415.792,
          12.875,
          10.5,
          12.35,
          26,
          10.5,
          150.458,
          370.042,
          155.792,
          13,
          16,
          13.5,
          13,
          26,
          13,
          13,
          10.5,
          13,
          14,
          26,
          10.5,
          96.875,
          300.708,
          26,
          13,
          36.75,
          13.5,
          13,
          10.5,
          10.5,
          0,
          10.5,
          15.05,
          13,
          21,
          13,
          150.333,
          10.5,
          21,
          150.458,
          10.5,
          13,
          13,
          26,
          13.5,
          10.5,
          13,
          150.458,
          10.5,
          13,
          65,
          13,
          21,
          21,
          13,
          21,
          10.5,
          0,
          26,
          27.75,
          10.5,
          12.875,
          13,
          7.55,
          20.25,
          20.25,
          7.25,
          8.05,
          9.475,
          78.875,
          7.925,
          7.05,
          7.05,
          8.05,
          8.3,
          22.525,
          31.275,
          31.275,
          31.275,
          7.775,
          31.275,
          31.275,
          31.275,
          7.775,
          31.275,
          78.542,
          78.958,
          17.8,
          17.8,
          7.775,
          7.05,
          313.875,
          313.875,
          313.875,
          313.875,
          7.225,
          7.05,
          144.583,
          7.225,
          78.542,
          7.225,
          15.85,
          7.225,
          78.958,
          144.542,
          144.542,
          78.792,
          8.05,
          8.05,
          7.775,
          9.35,
          72.292,
          40.125,
          7.775,
          7.75,
          78.958,
          152.458,
          152.458,
          7.225,
          152.458,
          7.75,
          15.5,
          15.5,
          16.1,
          78.542,
          70.458,
          7.25,
          77.958,
          8.05,
          72.833,
          6.75,
          78.792,
          86.625,
          86.625,
          86.625,
          86.625,
          86.625,
          86.625,
          7.75,
          7.75,
          8.05,
          144.583,
          144.583,
          77.958,
          78.542,
          7.75,
          7.25,
          8.05,
          77.333,
          8.05,
          144.542,
          144.542,
          7.05,
          7.25,
          74.958,
          74.958,
          77.333,
          7.75,
          76.292,
          7.75,
          8.05,
          78.958,
          78.958,
          78.958,
          8.05,
          7.25,
          81.583,
          16.1,
          86.625,
          7.225,
          105.167,
          101.708,
          14.4,
          14.4,
          14.4,
          78.958,
          78.958,
          24.15,
          8.05,
          24.15,
          8.05,
          16.1,
          9.5,
          20.575,
          78.958,
          78.958,
          78.958,
          7.25,
          7.25,
          78.958,
          86.625,
          78.958,
          72.292,
          7.75,
          7.75,
          78.958,
          7.75,
          13.9,
          7.775,
          7.775,
          6.975,
          7.225,
          72.292,
          72.292,
          72.292,
          7.25,
          7.225,
          15.1,
          7.75,
          77.958,
          7.75,
          7.75,
          6.95,
          78.792,
          7.75,
          34.375,
          34.375,
          8.05,
          34.375,
          34.375,
          34.375,
          7.75,
          7.25,
          77.417,
          14.5,
          78.958,
          8.05,
          20.525,
          7.85,
          7.05,
          46.9,
          46.9,
          46.9,
          46.9,
          46.9,
          46.9,
          46.9,
          46.9,
          8.05,
          83.625,
          8.05,
          98.458,
          7.925,
          7.925,
          7.775,
          8.85,
          77.333,
          199.667,
          199.667,
          15.85,
          9.5,
          72.292,
          141.083,
          78.542,
          78.542,
          7.55,
          7.25,
          68.583,
          187.875,
          6.75,
          7.925,
          78.958,
          7.775,
          7.75,
          6.45,
          22.525,
          7.75,
          7.65,
          72.292,
          78.958,
          7.925,
          7.925,
          78.958,
          7.05,
          78.542,
          78.542,
          70.542,
          64.958,
          77.958,
          86.542,
          7.775,
          78.542,
          0,
          7.775,
          0,
          23.45,
          23.45,
          23.45,
          23.45,
          78.958,
          78.542,
          9.825,
          9.825,
          7.125,
          84.333,
          78.958,
          78.542,
          75.208,
          72.292,
          72.292,
          7.75,
          7.25,
          78.292,
          8.05,
          144.542,
          144.542,
          7.75,
          7.75,
          77.375,
          86.625,
          86.625,
          121.833,
          78.542,
          121.833,
          78.958,
          7.225,
          95.875,
          78.958,
          564.958,
          7.75,
          94.833,
          7.775,
          7.775,
          254.667,
          254.667,
          254.667,
          254.667,
          254.667,
          7.925,
          64.375,
          15.5,
          15.5,
          0,
          24.15,
          9.5,
          7.775,
          7.75,
          15.55,
          15.55,
          78.792,
          564.958,
          7.55,
          16.1,
          16.1,
          78.792,
          7.25,
          70.542,
          78.958,
          7.55,
          7.125,
          78.792,
          7.75,
          8.05,
          7.925,
          7.75,
          72.292,
          78.958,
          78.958,
          78.958,
          15.5,
          7.75,
          7.75,
          16.1,
          16.1,
          7.75,
          8.05,
          8.05,
          8.05,
          7.75,
          8.05,
          78.958,
          78.958,
          78.958,
          78.958,
          7.65,
          8.05,
          24.15,
          84.583,
          8.05,
          7.75,
          8.05,
          8.05,
          7.75,
          78.958,
          8.05,
          78.958,
          72.292,
          7.75,
          78.958,
          7.925,
          8.05,
          78.542,
          7.125,
          7.8,
          72.292,
          62.375,
          15.5,
          78.292,
          77.333,
          7.75,
          7.75,
          9.225,
          7.75,
          22.525,
          84.042,
          73.125,
          78.542,
          78.542,
          9.225,
          86.625,
          86.625,
          86.625,
          92.167,
          76.292,
          21.075,
          21.075,
          21.075,
          21.075,
          21.075,
          396.875,
          396.875,
          396.875,
          396.875,
          396.875,
          396.875,
          86.625,
          14.5,
          87.125,
          78.958,
          13.775,
          13.775,
          13.775,
          7,
          7.775,
          8.05,
          7.925,
          7.925,
          7.25,
          81.375,
          8.05,
          78.958,
          78.958,
          78.958,
          7.775,
          7.775,
          78.958,
          86.625,
          86.625,
          78.958,
          81.125,
          72.292,
          7.25,
          78.958,
          8.05,
          29.125,
          29.125,
          29.125,
          29.125,
          29.125,
          29.125,
          396.875,
          7.125,
          14.5,
          14.5,
          14.5,
          14.5,
          8.05,
          7.775,
          202.125,
          202.125,
          202.125,
          8.05,
          8.05,
          24.15,
          72.292,
          7.225,
          7.225,
          77.292,
          7.575,
          7.25,
          69.55,
          69.55,
          69.55,
          69.55,
          69.55,
          69.55,
          69.55,
          69.55,
          69.55,
          69.55,
          69.55,
          9.325,
          7.925,
          216.792,
          216.792,
          216.792,
          8.05,
          8.05,
          7.725,
          78.958,
          7.75,
          15.1,
          8.05,
          8.05,
          72.292,
          8.05,
          78.958,
          7.925,
          27.9,
          27.9,
          27.9,
          27.9,
          27.9,
          27.9,
          78.958,
          8.05,
          86.625,
          7.75,
          7.65,
          8.05,
          8.05,
          8.05,
          78.958,
          86.625,
          8.05,
          null,
          78.958,
          98.375,
          86.625,
          104.625,
          104.625,
          7.05,
          7.775,
          77.958,
          8.05,
          64.375,
          64.375,
          7.225,
          8.05,
          16.1,
          7.925,
          7.75,
          78.958,
          8.05,
          8.05,
          72.292,
          72.292,
          78.958,
          14.5,
          14.5,
          14.5,
          24.15,
          24.15,
          24.15,
          9.5,
          9.5,
          9.5,
          9.5,
          9,
          18,
          18,
          18,
          18,
          78.542,
          78.542,
          78.958,
          9,
          8.05,
          7.55,
          8.05,
          9.5,
          7.75,
          64.958,
          64.958,
          87.125,
          7.55,
          8.05,
          16.1,
          7.25,
          86.625,
          7.25,
          9.5,
          144.542,
          7.225,
          7.225,
          144.583,
          144.542,
          144.542,
          7.225,
          7.225,
          7.875
         ],
         "yaxis": "y"
        }
       ],
       "layout": {
        "coloraxis": {
         "showscale": false
        },
        "height": 600,
        "legend": {
         "title": {
          "text": "Przeżył"
         },
         "tracegroupgap": 0
        },
        "template": {
         "data": {
          "bar": [
           {
            "error_x": {
             "color": "#2a3f5f"
            },
            "error_y": {
             "color": "#2a3f5f"
            },
            "marker": {
             "line": {
              "color": "#E5ECF6",
              "width": 0.5
             },
             "pattern": {
              "fillmode": "overlay",
              "size": 10,
              "solidity": 0.2
             }
            },
            "type": "bar"
           }
          ],
          "barpolar": [
           {
            "marker": {
             "line": {
              "color": "#E5ECF6",
              "width": 0.5
             },
             "pattern": {
              "fillmode": "overlay",
              "size": 10,
              "solidity": 0.2
             }
            },
            "type": "barpolar"
           }
          ],
          "carpet": [
           {
            "aaxis": {
             "endlinecolor": "#2a3f5f",
             "gridcolor": "white",
             "linecolor": "white",
             "minorgridcolor": "white",
             "startlinecolor": "#2a3f5f"
            },
            "baxis": {
             "endlinecolor": "#2a3f5f",
             "gridcolor": "white",
             "linecolor": "white",
             "minorgridcolor": "white",
             "startlinecolor": "#2a3f5f"
            },
            "type": "carpet"
           }
          ],
          "choropleth": [
           {
            "colorbar": {
             "outlinewidth": 0,
             "ticks": ""
            },
            "type": "choropleth"
           }
          ],
          "contour": [
           {
            "colorbar": {
             "outlinewidth": 0,
             "ticks": ""
            },
            "colorscale": [
             [
              0,
              "#0d0887"
             ],
             [
              0.1111111111111111,
              "#46039f"
             ],
             [
              0.2222222222222222,
              "#7201a8"
             ],
             [
              0.3333333333333333,
              "#9c179e"
             ],
             [
              0.4444444444444444,
              "#bd3786"
             ],
             [
              0.5555555555555556,
              "#d8576b"
             ],
             [
              0.6666666666666666,
              "#ed7953"
             ],
             [
              0.7777777777777778,
              "#fb9f3a"
             ],
             [
              0.8888888888888888,
              "#fdca26"
             ],
             [
              1,
              "#f0f921"
             ]
            ],
            "type": "contour"
           }
          ],
          "contourcarpet": [
           {
            "colorbar": {
             "outlinewidth": 0,
             "ticks": ""
            },
            "type": "contourcarpet"
           }
          ],
          "heatmap": [
           {
            "colorbar": {
             "outlinewidth": 0,
             "ticks": ""
            },
            "colorscale": [
             [
              0,
              "#0d0887"
             ],
             [
              0.1111111111111111,
              "#46039f"
             ],
             [
              0.2222222222222222,
              "#7201a8"
             ],
             [
              0.3333333333333333,
              "#9c179e"
             ],
             [
              0.4444444444444444,
              "#bd3786"
             ],
             [
              0.5555555555555556,
              "#d8576b"
             ],
             [
              0.6666666666666666,
              "#ed7953"
             ],
             [
              0.7777777777777778,
              "#fb9f3a"
             ],
             [
              0.8888888888888888,
              "#fdca26"
             ],
             [
              1,
              "#f0f921"
             ]
            ],
            "type": "heatmap"
           }
          ],
          "heatmapgl": [
           {
            "colorbar": {
             "outlinewidth": 0,
             "ticks": ""
            },
            "colorscale": [
             [
              0,
              "#0d0887"
             ],
             [
              0.1111111111111111,
              "#46039f"
             ],
             [
              0.2222222222222222,
              "#7201a8"
             ],
             [
              0.3333333333333333,
              "#9c179e"
             ],
             [
              0.4444444444444444,
              "#bd3786"
             ],
             [
              0.5555555555555556,
              "#d8576b"
             ],
             [
              0.6666666666666666,
              "#ed7953"
             ],
             [
              0.7777777777777778,
              "#fb9f3a"
             ],
             [
              0.8888888888888888,
              "#fdca26"
             ],
             [
              1,
              "#f0f921"
             ]
            ],
            "type": "heatmapgl"
           }
          ],
          "histogram": [
           {
            "marker": {
             "pattern": {
              "fillmode": "overlay",
              "size": 10,
              "solidity": 0.2
             }
            },
            "type": "histogram"
           }
          ],
          "histogram2d": [
           {
            "colorbar": {
             "outlinewidth": 0,
             "ticks": ""
            },
            "colorscale": [
             [
              0,
              "#0d0887"
             ],
             [
              0.1111111111111111,
              "#46039f"
             ],
             [
              0.2222222222222222,
              "#7201a8"
             ],
             [
              0.3333333333333333,
              "#9c179e"
             ],
             [
              0.4444444444444444,
              "#bd3786"
             ],
             [
              0.5555555555555556,
              "#d8576b"
             ],
             [
              0.6666666666666666,
              "#ed7953"
             ],
             [
              0.7777777777777778,
              "#fb9f3a"
             ],
             [
              0.8888888888888888,
              "#fdca26"
             ],
             [
              1,
              "#f0f921"
             ]
            ],
            "type": "histogram2d"
           }
          ],
          "histogram2dcontour": [
           {
            "colorbar": {
             "outlinewidth": 0,
             "ticks": ""
            },
            "colorscale": [
             [
              0,
              "#0d0887"
             ],
             [
              0.1111111111111111,
              "#46039f"
             ],
             [
              0.2222222222222222,
              "#7201a8"
             ],
             [
              0.3333333333333333,
              "#9c179e"
             ],
             [
              0.4444444444444444,
              "#bd3786"
             ],
             [
              0.5555555555555556,
              "#d8576b"
             ],
             [
              0.6666666666666666,
              "#ed7953"
             ],
             [
              0.7777777777777778,
              "#fb9f3a"
             ],
             [
              0.8888888888888888,
              "#fdca26"
             ],
             [
              1,
              "#f0f921"
             ]
            ],
            "type": "histogram2dcontour"
           }
          ],
          "mesh3d": [
           {
            "colorbar": {
             "outlinewidth": 0,
             "ticks": ""
            },
            "type": "mesh3d"
           }
          ],
          "parcoords": [
           {
            "line": {
             "colorbar": {
              "outlinewidth": 0,
              "ticks": ""
             }
            },
            "type": "parcoords"
           }
          ],
          "pie": [
           {
            "automargin": true,
            "type": "pie"
           }
          ],
          "scatter": [
           {
            "fillpattern": {
             "fillmode": "overlay",
             "size": 10,
             "solidity": 0.2
            },
            "type": "scatter"
           }
          ],
          "scatter3d": [
           {
            "line": {
             "colorbar": {
              "outlinewidth": 0,
              "ticks": ""
             }
            },
            "marker": {
             "colorbar": {
              "outlinewidth": 0,
              "ticks": ""
             }
            },
            "type": "scatter3d"
           }
          ],
          "scattercarpet": [
           {
            "marker": {
             "colorbar": {
              "outlinewidth": 0,
              "ticks": ""
             }
            },
            "type": "scattercarpet"
           }
          ],
          "scattergeo": [
           {
            "marker": {
             "colorbar": {
              "outlinewidth": 0,
              "ticks": ""
             }
            },
            "type": "scattergeo"
           }
          ],
          "scattergl": [
           {
            "marker": {
             "colorbar": {
              "outlinewidth": 0,
              "ticks": ""
             }
            },
            "type": "scattergl"
           }
          ],
          "scattermapbox": [
           {
            "marker": {
             "colorbar": {
              "outlinewidth": 0,
              "ticks": ""
             }
            },
            "type": "scattermapbox"
           }
          ],
          "scatterpolar": [
           {
            "marker": {
             "colorbar": {
              "outlinewidth": 0,
              "ticks": ""
             }
            },
            "type": "scatterpolar"
           }
          ],
          "scatterpolargl": [
           {
            "marker": {
             "colorbar": {
              "outlinewidth": 0,
              "ticks": ""
             }
            },
            "type": "scatterpolargl"
           }
          ],
          "scatterternary": [
           {
            "marker": {
             "colorbar": {
              "outlinewidth": 0,
              "ticks": ""
             }
            },
            "type": "scatterternary"
           }
          ],
          "surface": [
           {
            "colorbar": {
             "outlinewidth": 0,
             "ticks": ""
            },
            "colorscale": [
             [
              0,
              "#0d0887"
             ],
             [
              0.1111111111111111,
              "#46039f"
             ],
             [
              0.2222222222222222,
              "#7201a8"
             ],
             [
              0.3333333333333333,
              "#9c179e"
             ],
             [
              0.4444444444444444,
              "#bd3786"
             ],
             [
              0.5555555555555556,
              "#d8576b"
             ],
             [
              0.6666666666666666,
              "#ed7953"
             ],
             [
              0.7777777777777778,
              "#fb9f3a"
             ],
             [
              0.8888888888888888,
              "#fdca26"
             ],
             [
              1,
              "#f0f921"
             ]
            ],
            "type": "surface"
           }
          ],
          "table": [
           {
            "cells": {
             "fill": {
              "color": "#EBF0F8"
             },
             "line": {
              "color": "white"
             }
            },
            "header": {
             "fill": {
              "color": "#C8D4E3"
             },
             "line": {
              "color": "white"
             }
            },
            "type": "table"
           }
          ]
         },
         "layout": {
          "annotationdefaults": {
           "arrowcolor": "#2a3f5f",
           "arrowhead": 0,
           "arrowwidth": 1
          },
          "autotypenumbers": "strict",
          "coloraxis": {
           "colorbar": {
            "outlinewidth": 0,
            "ticks": ""
           }
          },
          "colorscale": {
           "diverging": [
            [
             0,
             "#8e0152"
            ],
            [
             0.1,
             "#c51b7d"
            ],
            [
             0.2,
             "#de77ae"
            ],
            [
             0.3,
             "#f1b6da"
            ],
            [
             0.4,
             "#fde0ef"
            ],
            [
             0.5,
             "#f7f7f7"
            ],
            [
             0.6,
             "#e6f5d0"
            ],
            [
             0.7,
             "#b8e186"
            ],
            [
             0.8,
             "#7fbc41"
            ],
            [
             0.9,
             "#4d9221"
            ],
            [
             1,
             "#276419"
            ]
           ],
           "sequential": [
            [
             0,
             "#0d0887"
            ],
            [
             0.1111111111111111,
             "#46039f"
            ],
            [
             0.2222222222222222,
             "#7201a8"
            ],
            [
             0.3333333333333333,
             "#9c179e"
            ],
            [
             0.4444444444444444,
             "#bd3786"
            ],
            [
             0.5555555555555556,
             "#d8576b"
            ],
            [
             0.6666666666666666,
             "#ed7953"
            ],
            [
             0.7777777777777778,
             "#fb9f3a"
            ],
            [
             0.8888888888888888,
             "#fdca26"
            ],
            [
             1,
             "#f0f921"
            ]
           ],
           "sequentialminus": [
            [
             0,
             "#0d0887"
            ],
            [
             0.1111111111111111,
             "#46039f"
            ],
            [
             0.2222222222222222,
             "#7201a8"
            ],
            [
             0.3333333333333333,
             "#9c179e"
            ],
            [
             0.4444444444444444,
             "#bd3786"
            ],
            [
             0.5555555555555556,
             "#d8576b"
            ],
            [
             0.6666666666666666,
             "#ed7953"
            ],
            [
             0.7777777777777778,
             "#fb9f3a"
            ],
            [
             0.8888888888888888,
             "#fdca26"
            ],
            [
             1,
             "#f0f921"
            ]
           ]
          },
          "colorway": [
           "#636efa",
           "#EF553B",
           "#00cc96",
           "#ab63fa",
           "#FFA15A",
           "#19d3f3",
           "#FF6692",
           "#B6E880",
           "#FF97FF",
           "#FECB52"
          ],
          "font": {
           "color": "#2a3f5f"
          },
          "geo": {
           "bgcolor": "white",
           "lakecolor": "white",
           "landcolor": "#E5ECF6",
           "showlakes": true,
           "showland": true,
           "subunitcolor": "white"
          },
          "hoverlabel": {
           "align": "left"
          },
          "hovermode": "closest",
          "mapbox": {
           "style": "light"
          },
          "paper_bgcolor": "white",
          "plot_bgcolor": "#E5ECF6",
          "polar": {
           "angularaxis": {
            "gridcolor": "white",
            "linecolor": "white",
            "ticks": ""
           },
           "bgcolor": "#E5ECF6",
           "radialaxis": {
            "gridcolor": "white",
            "linecolor": "white",
            "ticks": ""
           }
          },
          "scene": {
           "xaxis": {
            "backgroundcolor": "#E5ECF6",
            "gridcolor": "white",
            "gridwidth": 2,
            "linecolor": "white",
            "showbackground": true,
            "ticks": "",
            "zerolinecolor": "white"
           },
           "yaxis": {
            "backgroundcolor": "#E5ECF6",
            "gridcolor": "white",
            "gridwidth": 2,
            "linecolor": "white",
            "showbackground": true,
            "ticks": "",
            "zerolinecolor": "white"
           },
           "zaxis": {
            "backgroundcolor": "#E5ECF6",
            "gridcolor": "white",
            "gridwidth": 2,
            "linecolor": "white",
            "showbackground": true,
            "ticks": "",
            "zerolinecolor": "white"
           }
          },
          "shapedefaults": {
           "line": {
            "color": "#2a3f5f"
           }
          },
          "ternary": {
           "aaxis": {
            "gridcolor": "white",
            "linecolor": "white",
            "ticks": ""
           },
           "baxis": {
            "gridcolor": "white",
            "linecolor": "white",
            "ticks": ""
           },
           "bgcolor": "#E5ECF6",
           "caxis": {
            "gridcolor": "white",
            "linecolor": "white",
            "ticks": ""
           }
          },
          "title": {
           "x": 0.05
          },
          "xaxis": {
           "automargin": true,
           "gridcolor": "white",
           "linecolor": "white",
           "ticks": "",
           "title": {
            "standoff": 15
           },
           "zerolinecolor": "white",
           "zerolinewidth": 2
          },
          "yaxis": {
           "automargin": true,
           "gridcolor": "white",
           "linecolor": "white",
           "ticks": "",
           "title": {
            "standoff": 15
           },
           "zerolinecolor": "white",
           "zerolinewidth": 2
          }
         }
        },
        "title": {
         "text": "Zależność między wiekiem a opłatą za bilet"
        },
        "width": 700,
        "xaxis": {
         "anchor": "y",
         "autorange": true,
         "domain": [
          0,
          1
         ],
         "range": [
          -5.0291281874569265,
          85.19912818745692
         ],
         "title": {
          "text": "Wiek"
         },
         "type": "linear"
        },
        "yaxis": {
         "anchor": "x",
         "autorange": true,
         "domain": [
          0,
          1
         ],
         "range": [
          -60.84238056680162,
          971.6343805668016
         ],
         "title": {
          "text": "Opłata za bilet"
         },
         "type": "linear"
        }
       }
      },
      "image/png": "[encoded data removed]",
      "text/html": [
       "<div>                            <div id=\"88a45f23-97f0-4fd2-9db8-60282a263381\" class=\"plotly-graph-div\" style=\"height:600px; width:700px;\"></div>            <script type=\"text/javascript\">                require([\"plotly\"], function(Plotly) {                    window.PLOTLYENV=window.PLOTLYENV || {};                                    if (document.getElementById(\"88a45f23-97f0-4fd2-9db8-60282a263381\")) {                    Plotly.newPlot(                        \"88a45f23-97f0-4fd2-9db8-60282a263381\",                        [{\"hovertemplate\":\"Prze\\u017cy\\u0142=Prze\\u017cy\\u0142\\u003cbr\\u003eWiek=%{x}\\u003cbr\\u003eOp\\u0142ata za bilet=%{y}\\u003cextra\\u003e\\u003c\\u002fextra\\u003e\",\"legendgroup\":\"Prze\\u017cy\\u0142\",\"marker\":{\"color\":\"green\",\"symbol\":\"circle\"},\"mode\":\"markers\",\"name\":\"Prze\\u017cy\\u0142\",\"showlegend\":true,\"x\":[29.0,0.92,48.0,63.0,53.0,18.0,24.0,26.0,80.0,50.0,32.0,37.0,47.0,26.0,42.0,29.0,25.0,19.0,35.0,28.0,40.0,30.0,58.0,45.0,22.0,37.0,44.0,59.0,60.0,41.0,42.0,53.0,36.0,58.0,11.0,14.0,36.0,36.0,36.0,76.0,47.0,27.0,33.0,36.0,30.0,45.0,48.0,26.0,22.0,39.0,64.0,55.0,36.0,64.0,38.0,51.0,27.0,33.0,27.0,31.0,17.0,53.0,4.0,54.0,27.0,48.0,48.0,49.0,23.0,38.0,54.0,48.0,42.0,36.0,24.0,28.0,23.0,60.0,30.0,50.0,43.0,42.0,22.0,60.0,48.0,35.0,35.0,22.0,45.0,49.0,null,53.0,19.0,58.0,23.0,45.0,25.0,25.0,48.0,49.0,35.0,27.0,null,24.0,52.0,16.0,44.0,51.0,35.0,35.0,38.0,35.0,38.0,49.0,40.0,42.0,45.0,39.0,49.0,27.0,35.0,55.0,16.0,51.0,21.0,58.0,15.0,16.0,29.0,18.0,24.0,36.0,25.0,33.0,37.0,30.0,31.0,23.0,19.0,39.0,29.0,22.0,22.0,17.0,30.0,52.0,56.0,33.0,43.0,45.0,33.0,33.0,54.0,13.0,18.0,21.0,48.0,47.0,24.0,43.0,35.0,30.0,34.0,40.0,35.0,39.0,56.0,28.0,18.0,24.0,23.0,6.0,45.0,40.0,48.0,32.0,54.0,43.0,52.0,62.0,48.0,18.0,39.0,48.0,49.0,17.0,39.0,37.0,31.0,35.0,60.0,55.0,31.0,45.0,50.0,21.0,21.0,31.0,45.0,36.0,28.0,36.0,36.0,32.0,19.0,1.0,4.0,12.0,36.0,34.0,19.0,24.0,15.0,40.0,20.0,36.0,42.0,0.83,26.0,22.0,35.0,25.0,45.0,28.0,24.0,8.0,31.0,22.0,8.0,48.0,28.0,24.0,18.0,34.0,8.0,34.0,27.0,30.0,29.0,34.0,0.67,24.0,6.0,62.0,7.0,45.0,24.0,24.0,48.0,55.0,20.0,54.0,29.0,42.0,17.0,24.0,23.0,24.0,46.0,45.0,1.0,3.0,22.0,17.0,31.0,34.0,42.0,1.0,24.0,13.0,41.0,19.0,14.0,2.0,3.0,20.0,29.0,22.0,27.0,29.0,50.0,21.0,19.0,32.0,30.0,2.0,8.0,33.0,30.0,28.0,0.83,3.0,24.0,50.0,21.0,25.0,18.0,20.0,30.0,30.0,40.0,50.0,28.0,27.0,31.0,31.0,12.0,40.0,32.5,29.0,2.0,4.0,29.0,0.92,5.0,33.0,31.0,23.0,26.0,35.0,16.0,25.0,20.0,18.0,0.83,18.0,26.0,19.0,17.0,27.0,3.0,5.0,23.0,38.0,45.0,13.0,33.0,0.75,0.75,5.0,24.0,18.0,20.0,32.0,22.0,21.0,16.0,32.0,18.0,22.0,9.0,3.0,36.0,17.0,45.0,30.0,29.0,34.0,36.5,36.0,30.0,1.0,0.17,33.0,19.0,19.0,30.0,23.0,24.0,22.0,5.0,41.0,32.0,16.0,18.0,9.0,31.0,24.0,45.0,33.0,27.0,24.0,16.0,22.0,2.0,22.0,28.0,26.0,34.0,29.0,21.0,26.0,29.0,26.0,4.0,1.0,27.0,32.0,32.0,21.0,5.0,39.0,20.0,22.0,24.0,4.0,29.0,26.0,25.0,38.0,22.0,32.0,25.0,20.0,27.0,23.0,32.0,21.0,24.0,18.0,28.0,22.0,25.0,19.0,29.0,26.0,24.0,31.0,22.0,17.0,21.0,23.0,7.0,27.0,28.0,29.0,7.0,25.0,25.0,35.0,19.0,25.0,18.0,25.0,31.0,15.0,1.0,20.0,19.0,12.0,14.0,18.0,26.0,39.0,22.0,26.0,24.0,24.0,22.0,21.0,16.0,9.0,32.0,31.0,25.0,6.0,2.0,23.0,33.0,22.0,26.0,24.0,21.0,1.0,24.0,4.0,21.0,29.0,20.0,18.0,18.0,24.0,30.0,20.0,44.0,14.0,25.0,2.4,16.0,33.0,26.0,7.0,9.0,27.0,18.0,64.0,22.0,38.0,47.0,15.0],\"xaxis\":\"x\",\"y\":[211.3375,151.55,26.55,779.583,514.792,227.525,69.3,78.85,30.0,247.5208,762.917,525.542,525.542,30.0,227.525,221.7792,910.792,910.792,135.6333,26.55,31.0,164.8667,26.55,262.375,55.0,26.55,277.208,514.792,762.917,134.5,262.875,274.458,512.3292,512.3292,120.0,120.0,120.0,120.0,277.208,78.85,61.175,53.1,53.1,262.375,86.5,29.7,55.0,136.7792,151.55,831.583,831.583,25.7,71.0,26.55,712.833,26.55,30.5,151.55,52.0,57.0,57.0,818.583,818.583,818.583,247.5208,106.425,39.6,569.292,831.583,227.525,782.667,316.833,110.8833,263.875,263.0,263.0,263.0,263.0,569.292,133.65,277.208,133.65,49.5,79.2,79.2,53.1,211.5,59.4,59.4,891.042,891.042,28.5,30.0,153.4625,633.583,633.583,554.417,554.417,767.292,767.292,83.475,767.292,30.0,831.583,93.5,579.792,579.792,779.583,52.0,26.55,90.0,90.0,80.0,0.0,518.625,525.542,525.542,211.3375,259.292,106.425,512.3292,277.208,39.4,39.4,779.583,146.5208,211.3375,86.5,29.7,53.1,495.042,262.875,821.708,90.0,90.0,57.75,113.275,113.275,262.833,108.9,257.417,619.792,66.6,108.9,93.5,30.5,831.583,39.6,211.3375,26.55,277.208,86.5,59.4,262.375,262.375,262.375,262.375,30.5,69.3,26.0,57.75,31.0,26.55,153.4625,262.875,55.9,35.5,35.5,60.0,822.667,822.667,134.5,134.5,134.5,146.5208,30.5,554.417,554.417,782.667,80.0,259.292,79.65,79.65,52.0,52.0,110.8833,110.8833,79.2,285.375,512.3292,75.25,135.6333,164.8667,164.8667,211.5,26.55,613.792,134.5,35.5,135.6333,24.0,26.0,13.0,26.0,26.0,39.0,39.0,39.0,39.0,13.0,13.0,13.0,39.0,39.0,26.0,13.0,13.0,29.0,29.0,29.0,21.0,30.0,30.0,26.0,10.5,26.25,26.25,10.5,36.75,36.75,13.0,277.208,23.0,23.0,32.5,32.5,138.583,138.583,26.0,13.0,14.5,14.5,33.0,10.5,26.25,26.25,65.0,65.0,65.0,16.0,23.0,23.0,26.0,13.0,10.5,27.0,137.917,26.0,12.35,13.5,415.792,415.792,415.792,12.0,33.0,10.5,26.0,370.042,370.042,19.5,19.5,10.5,300.708,26.0,26.0,138.625,10.5,10.5,138.625,138.583,26.0,21.0,26.0,13.0,127.375,26.0,26.0,26.0,21.0,13.0,18.75,18.75,18.75,10.5,10.5,26.0,13.0,36.75,13.0,12.35,13.0,10.5,12.65,10.5,21.0,21.0,15.75,15.75,13.0,26.0,23.0,23.0,23.0,27.75,27.75,27.75,13.0,13.0,13.5,20.25,7.65,7.65,7.925,72.292,9.35,9.35,187.875,78.542,7.925,77.958,313.875,313.875,77.958,313.875,7.225,72.292,15.85,192.583,192.583,192.583,192.583,8.05,72.292,564.958,7.725,78.208,7.75,564.958,8.05,7.75,15.9,15.9,15.9,16.1,8.05,6.95,7.75,16.1,17.4,17.4,9.5,20.575,20.575,20.575,78.792,8.05,12.475,8.05,7.55,13.9,12.475,7.05,564.958,77.333,7.75,20.525,20.525,15.85,141.083,7.75,6.975,564.958,7.925,89.625,122.875,122.875,7.925,8.05,78.875,78.958,77.958,7.75,81.125,7.775,111.333,111.333,111.333,78.542,7.925,77.958,134.167,134.167,7.75,7.75,7.75,22.025,22.025,22.025,72.292,564.958,7.25,564.958,7.225,7.925,86.625,78.542,75.792,7.75,71.417,72.292,77.375,7.225,7.75,7.75,23.25,23.25,23.25,77.875,78.792,80.292,7.775,78.792,12.475,12.475,24.15,7.775,152.458,152.458,152.458,72.292,77.333,7.75,15.5,15.5,15.5,7.225,157.417,157.417,157.417,112.417,112.417,7.775,78.542,7.925,7.75,15.5,7.75,78.792,7.775,7.75,78.292,31.708,7.775,86.833,7.775,223.583,223.583,223.583,8.05,77.208,8.05,7.75,7.65,16.7,16.7,16.7,9.5,9.5,77.792,74.958,77.333,7.55,7.925,8.05,7.925,9.225,77.958,85.167,85.167,16.1,0.0,152.458,152.458,152.458,98.417,95.875,7.225,72.292,7.0,144.542],\"yaxis\":\"y\",\"type\":\"scattergl\"},{\"hovertemplate\":\"Prze\\u017cy\\u0142=Nie przy\\u017cy\\u0142\\u003cbr\\u003eWiek=%{x}\\u003cbr\\u003eOp\\u0142ata za bilet=%{y}\\u003cextra\\u003e\\u003c\\u002fextra\\u003e\",\"legendgroup\":\"Nie przy\\u017cy\\u0142\",\"marker\":{\"color\":\"red\",\"symbol\":\"circle\"},\"mode\":\"markers\",\"name\":\"Nie przy\\u017cy\\u0142\",\"showlegend\":true,\"x\":[2.0,30.0,25.0,39.0,71.0,47.0,48.0,24.0,36.0,25.0,45.0,42.0,41.0,48.0,45.0,45.0,28.0,33.0,28.0,17.0,49.0,36.0,46.0,43.0,27.0,40.0,47.0,37.0,59.0,70.0,39.0,31.0,50.0,39.0,36.0,49.0,30.0,19.0,64.0,null,39.0,37.0,47.0,24.0,71.0,38.0,46.0,37.0,45.0,40.0,55.0,42.0,null,55.0,42.0,null,50.0,46.0,50.0,32.5,58.0,41.0,41.0,30.0,42.0,29.0,30.0,30.0,19.0,46.0,54.0,28.0,65.0,44.0,55.0,47.0,37.0,58.0,64.0,65.0,28.5,30.0,45.5,23.0,29.0,18.0,47.0,38.0,22.0,45.0,31.0,39.0,46.0,36.0,55.0,33.0,61.0,50.0,56.0,56.0,24.0,57.0,57.0,62.0,64.0,67.0,63.0,61.0,52.0,49.0,40.0,61.0,47.0,64.0,60.0,54.0,21.0,57.0,50.0,27.0,51.0,43.0,62.0,30.0,30.0,18.0,25.0,34.0,57.0,18.0,23.0,28.0,51.0,28.0,23.0,26.0,42.0,27.0,60.0,25.0,25.0,42.0,21.0,19.0,44.0,54.0,52.0,37.0,29.0,29.0,29.0,28.0,31.0,30.0,32.0,21.0,22.0,18.0,32.0,17.0,29.0,25.0,18.0,54.0,42.0,23.0,21.0,18.0,40.0,18.0,36.0,null,38.0,35.0,38.0,34.0,16.0,26.0,47.0,21.0,21.0,24.0,24.0,34.0,30.0,52.0,30.0,44.0,28.0,30.0,43.0,49.0,24.0,32.0,21.0,18.0,23.0,36.0,50.0,44.0,21.0,63.0,60.0,33.0,42.0,47.0,24.0,22.0,32.0,34.0,22.0,35.0,57.0,38.0,31.0,26.0,30.0,31.0,25.0,36.0,24.0,61.0,50.0,57.0,25.0,31.0,47.0,30.0,40.0,32.0,30.0,46.0,39.0,48.0,70.0,27.0,54.0,38.0,16.0,62.0,32.5,36.5,26.0,19.0,28.0,39.0,23.0,28.0,21.0,19.0,39.0,41.0,43.0,34.0,27.0,36.0,34.0,23.0,19.0,26.0,25.0,27.0,59.0,35.0,25.0,41.0,25.0,18.5,14.0,23.0,29.0,27.0,40.0,30.0,23.0,19.0,27.0,36.0,66.0,26.0,24.0,42.0,13.0,16.0,30.0,26.0,40.0,26.0,20.0,24.0,25.0,35.0,18.0,32.0,4.0,6.0,2.0,38.0,9.0,11.0,39.0,26.0,39.0,20.0,26.0,25.0,18.0,24.0,35.0,5.0,9.0,13.0,40.0,21.0,23.0,18.0,30.0,23.0,21.0,32.0,40.0,26.0,18.0,45.0,27.0,22.0,19.0,26.0,22.0,10.0,20.0,21.0,18.0,26.0,6.0,9.0,18.0,40.0,40.0,40.0,32.0,21.0,20.0,29.0,22.0,22.0,35.0,18.5,19.0,18.0,21.0,30.0,18.0,38.0,17.0,17.0,21.0,21.0,29.0,28.0,18.0,28.0,24.0,37.0,28.0,24.0,21.0,29.0,26.0,18.0,20.0,24.0,36.0,24.0,31.0,31.0,30.0,66.0,43.0,35.0,27.0,19.0,30.0,59.0,19.0,44.0,17.0,19.0,22.0,19.0,0.33,34.0,28.0,27.0,25.0,24.0,22.0,21.0,17.0,32.0,16.0,26.0,25.0,23.0,30.0,22.0,26.0,17.0,42.0,43.0,28.0,32.0,24.0,33.0,66.0,23.0,18.0,16.0,45.0,29.0,39.0,17.0,15.0,47.0,26.0,38.0,40.5,18.0,22.0,28.0,48.0,26.0,20.0,21.0,9.0,23.0,18.0,16.0,48.0,28.0,46.0,25.0,23.0,null,23.0,33.0,41.0,38.0,9.0,1.0,11.0,10.0,16.0,14.0,40.0,43.0,51.0,32.0,25.0,20.0,37.0,28.0,19.0,24.0,17.0,28.0,19.0,28.0,19.0,35.0,41.0,26.0,20.0,21.0,25.0,29.0,11.0,20.0,23.0,30.0,28.0,21.0,43.0,18.0,22.0,42.0,33.0,32.0,17.0,25.0,20.0,21.0,20.0,48.0,17.0,34.0,22.0,33.0,31.0,29.0,49.0,33.0,19.0,8.0,7.0,35.0,34.0,23.0,27.0,20.0,21.0,17.0,21.0,30.0,33.0,22.0,19.0,19.0,23.0,44.0,44.0,19.0,25.0,20.0,25.0,22.0,22.0,23.0,26.0,1.0,18.0,36.0,null,35.0,37.0,23.0,23.0,17.0,29.0,29.0,22.0,50.0,3.0,8.0,12.0,40.0,32.0,30.0,18.0,20.0,36.0,41.0,24.0,25.0,45.0,36.0,30.0,21.0,28.0,26.0,31.0,34.0,21.0,20.0,50.0,44.0,20.0,22.0,20.0,22.0,34.0,29.0,32.0,25.0,35.0,33.0,30.0,20.0,42.0,19.0,24.0,19.0,32.0,62.0,32.0,48.0,28.0,23.0,24.0,21.0,28.0,23.0,27.0,19.0,28.0,22.0,34.0,30.0,28.5,22.0,18.0,22.0,36.0,32.0,20.0,21.0,22.0,29.0,28.0,21.0,41.0,21.0,28.5,60.0,27.0,21.0,18.0,21.0,23.0,23.0,21.0,28.0,42.0,27.0,31.0,28.0,20.0,23.0,20.0,20.0,16.0,21.0,2.0,6.0,3.0,8.0,29.0,1.0,7.0,2.0,16.0,14.0,41.0,21.0,20.0,16.0,32.0,0.6,4.0,26.0,32.0,28.0,24.0,21.0,25.0,24.0,26.0,24.0,28.0,19.0,29.0,25.0,18.0,27.0,17.0,24.0,27.0,63.0,30.0,18.0,38.0,21.0,10.0,4.0,7.0,2.0,8.0,39.0,22.0,35.0,69.0,64.0,50.0,48.0,30.0,49.0,2.0,18.0,41.0,55.0,17.0,30.0,30.0,25.0,20.0,19.0,17.0,43.0,5.0,12.0,10.0,8.0,14.0,20.0,18.0,16.0,19.0,44.0,44.0,24.0,39.0,17.0,40.0,16.0,19.0,24.0,22.0,42.0,27.0,55.0,22.0,40.0,22.0,20.0,40.0,21.0,5.0,11.0,9.0,2.0,40.0,43.0,42.0,20.0,37.0,24.0,19.0,31.0,23.0,31.0,23.0,33.0,22.0,59.0,19.0,22.0,27.0,2.0,29.0,25.0,74.0,24.0,34.0,23.0,27.0,16.0,36.0,37.0,32.0,20.0,23.0,22.0,41.0,20.0,17.0,36.0,10.0,9.0,35.0,10.0,36.0,30.0,23.0,35.0,28.0,28.0,46.0,18.0,31.0,15.0,31.0,20.0,14.0,21.0,22.0,35.0,31.0,66.0,28.0,51.0,18.0,21.0,37.0,21.0,28.0,24.0,21.0,17.0,54.0,36.0,27.0,45.0,23.0,null,16.0,19.0,22.0,27.0,29.0],\"xaxis\":\"x\",\"y\":[151.55,151.55,151.55,0.0,495.042,227.525,25.925,247.5208,752.417,26.0,35.5,26.55,30.5,504.958,39.6,26.55,31.0,5.0,47.1,47.1,26.0,78.85,61.175,0.0,136.7792,52.0,255.875,831.583,26.55,71.0,712.833,52.0,106.425,29.7,316.792,221.7792,27.75,263.0,263.0,26.55,0.0,53.1,38.5,79.2,346.542,153.4625,79.2,42.4,83.475,0.0,93.5,42.5,518.625,50.0,52.0,306.958,287.125,26.0,26.0,211.5,29.7,518.625,26.55,277.208,26.55,30.0,45.5,26.0,53.1,752.417,518.625,821.708,26.55,90.0,30.5,42.4,29.7,113.275,26.0,619.792,277.208,0.0,28.5,93.5,66.6,108.9,52.0,0.0,135.6333,227.525,504.958,50.0,79.2,40.125,59.4,26.55,262.375,55.9,26.55,306.958,60.0,26.0,146.5208,26.55,277.208,221.7792,221.7792,323.208,79.65,110.8833,277.208,33.5,340.208,75.25,26.55,772.875,772.875,164.8667,211.5,211.5,613.792,35.0,26.55,24.0,13.0,11.5,10.5,26.0,13.0,11.5,10.5,10.5,12.525,26.0,13.0,13.0,13.0,13.0,39.0,26.0,13.0,13.0,0.0,13.0,26.0,26.0,13.5,26.0,26.0,26.0,10.5,13.0,26.25,13.0,21.0,11.5,0.0,73.5,13.0,73.5,277.208,31.5,73.5,26.0,32.5,13.0,13.0,13.0,26.0,10.5,13.0,0.0,13.0,26.0,21.0,21.0,26.0,10.5,10.5,11.5,11.5,13.5,13.0,13.0,13.0,13.0,13.0,13.0,33.0,10.5,26.25,65.0,73.5,73.5,73.5,13.0,11.5,13.0,13.0,26.0,73.5,26.0,26.0,12.275,27.0,15.0,31.5,31.5,10.5,26.0,21.0,12.35,12.35,0.0,10.5,26.0,26.0,107.083,415.792,12.875,10.5,12.35,26.0,10.5,150.458,370.042,155.792,13.0,16.0,13.5,13.0,26.0,13.0,13.0,10.5,13.0,14.0,26.0,10.5,96.875,300.708,26.0,13.0,36.75,13.5,13.0,10.5,10.5,0.0,10.5,15.05,13.0,21.0,13.0,150.333,10.5,21.0,150.458,10.5,13.0,13.0,26.0,13.5,10.5,13.0,150.458,10.5,13.0,65.0,13.0,21.0,21.0,13.0,21.0,10.5,0.0,26.0,27.75,10.5,12.875,13.0,7.55,20.25,20.25,7.25,8.05,9.475,78.875,7.925,7.05,7.05,8.05,8.3,22.525,31.275,31.275,31.275,7.775,31.275,31.275,31.275,7.775,31.275,78.542,78.958,17.8,17.8,7.775,7.05,313.875,313.875,313.875,313.875,7.225,7.05,144.583,7.225,78.542,7.225,15.85,7.225,78.958,144.542,144.542,78.792,8.05,8.05,7.775,9.35,72.292,40.125,7.775,7.75,78.958,152.458,152.458,7.225,152.458,7.75,15.5,15.5,16.1,78.542,70.458,7.25,77.958,8.05,72.833,6.75,78.792,86.625,86.625,86.625,86.625,86.625,86.625,7.75,7.75,8.05,144.583,144.583,77.958,78.542,7.75,7.25,8.05,77.333,8.05,144.542,144.542,7.05,7.25,74.958,74.958,77.333,7.75,76.292,7.75,8.05,78.958,78.958,78.958,8.05,7.25,81.583,16.1,86.625,7.225,105.167,101.708,14.4,14.4,14.4,78.958,78.958,24.15,8.05,24.15,8.05,16.1,9.5,20.575,78.958,78.958,78.958,7.25,7.25,78.958,86.625,78.958,72.292,7.75,7.75,78.958,7.75,13.9,7.775,7.775,6.975,7.225,72.292,72.292,72.292,7.25,7.225,15.1,7.75,77.958,7.75,7.75,6.95,78.792,7.75,34.375,34.375,8.05,34.375,34.375,34.375,7.75,7.25,77.417,14.5,78.958,8.05,20.525,7.85,7.05,46.9,46.9,46.9,46.9,46.9,46.9,46.9,46.9,8.05,83.625,8.05,98.458,7.925,7.925,7.775,8.85,77.333,199.667,199.667,15.85,9.5,72.292,141.083,78.542,78.542,7.55,7.25,68.583,187.875,6.75,7.925,78.958,7.775,7.75,6.45,22.525,7.75,7.65,72.292,78.958,7.925,7.925,78.958,7.05,78.542,78.542,70.542,64.958,77.958,86.542,7.775,78.542,0.0,7.775,0.0,23.45,23.45,23.45,23.45,78.958,78.542,9.825,9.825,7.125,84.333,78.958,78.542,75.208,72.292,72.292,7.75,7.25,78.292,8.05,144.542,144.542,7.75,7.75,77.375,86.625,86.625,121.833,78.542,121.833,78.958,7.225,95.875,78.958,564.958,7.75,94.833,7.775,7.775,254.667,254.667,254.667,254.667,254.667,7.925,64.375,15.5,15.5,0.0,24.15,9.5,7.775,7.75,15.55,15.55,78.792,564.958,7.55,16.1,16.1,78.792,7.25,70.542,78.958,7.55,7.125,78.792,7.75,8.05,7.925,7.75,72.292,78.958,78.958,78.958,15.5,7.75,7.75,16.1,16.1,7.75,8.05,8.05,8.05,7.75,8.05,78.958,78.958,78.958,78.958,7.65,8.05,24.15,84.583,8.05,7.75,8.05,8.05,7.75,78.958,8.05,78.958,72.292,7.75,78.958,7.925,8.05,78.542,7.125,7.8,72.292,62.375,15.5,78.292,77.333,7.75,7.75,9.225,7.75,22.525,84.042,73.125,78.542,78.542,9.225,86.625,86.625,86.625,92.167,76.292,21.075,21.075,21.075,21.075,21.075,396.875,396.875,396.875,396.875,396.875,396.875,86.625,14.5,87.125,78.958,13.775,13.775,13.775,7.0,7.775,8.05,7.925,7.925,7.25,81.375,8.05,78.958,78.958,78.958,7.775,7.775,78.958,86.625,86.625,78.958,81.125,72.292,7.25,78.958,8.05,29.125,29.125,29.125,29.125,29.125,29.125,396.875,7.125,14.5,14.5,14.5,14.5,8.05,7.775,202.125,202.125,202.125,8.05,8.05,24.15,72.292,7.225,7.225,77.292,7.575,7.25,69.55,69.55,69.55,69.55,69.55,69.55,69.55,69.55,69.55,69.55,69.55,9.325,7.925,216.792,216.792,216.792,8.05,8.05,7.725,78.958,7.75,15.1,8.05,8.05,72.292,8.05,78.958,7.925,27.9,27.9,27.9,27.9,27.9,27.9,78.958,8.05,86.625,7.75,7.65,8.05,8.05,8.05,78.958,86.625,8.05,null,78.958,98.375,86.625,104.625,104.625,7.05,7.775,77.958,8.05,64.375,64.375,7.225,8.05,16.1,7.925,7.75,78.958,8.05,8.05,72.292,72.292,78.958,14.5,14.5,14.5,24.15,24.15,24.15,9.5,9.5,9.5,9.5,9.0,18.0,18.0,18.0,18.0,78.542,78.542,78.958,9.0,8.05,7.55,8.05,9.5,7.75,64.958,64.958,87.125,7.55,8.05,16.1,7.25,86.625,7.25,9.5,144.542,7.225,7.225,144.583,144.542,144.542,7.225,7.225,7.875],\"yaxis\":\"y\",\"type\":\"scattergl\"}],                        {\"template\":{\"data\":{\"histogram2dcontour\":[{\"type\":\"histogram2dcontour\",\"colorbar\":{\"outlinewidth\":0,\"ticks\":\"\"},\"colorscale\":[[0.0,\"#0d0887\"],[0.1111111111111111,\"#46039f\"],[0.2222222222222222,\"#7201a8\"],[0.3333333333333333,\"#9c179e\"],[0.4444444444444444,\"#bd3786\"],[0.5555555555555556,\"#d8576b\"],[0.6666666666666666,\"#ed7953\"],[0.7777777777777778,\"#fb9f3a\"],[0.8888888888888888,\"#fdca26\"],[1.0,\"#f0f921\"]]}],\"choropleth\":[{\"type\":\"choropleth\",\"colorbar\":{\"outlinewidth\":0,\"ticks\":\"\"}}],\"histogram2d\":[{\"type\":\"histogram2d\",\"colorbar\":{\"outlinewidth\":0,\"ticks\":\"\"},\"colorscale\":[[0.0,\"#0d0887\"],[0.1111111111111111,\"#46039f\"],[0.2222222222222222,\"#7201a8\"],[0.3333333333333333,\"#9c179e\"],[0.4444444444444444,\"#bd3786\"],[0.5555555555555556,\"#d8576b\"],[0.6666666666666666,\"#ed7953\"],[0.7777777777777778,\"#fb9f3a\"],[0.8888888888888888,\"#fdca26\"],[1.0,\"#f0f921\"]]}],\"heatmap\":[{\"type\":\"heatmap\",\"colorbar\":{\"outlinewidth\":0,\"ticks\":\"\"},\"colorscale\":[[0.0,\"#0d0887\"],[0.1111111111111111,\"#46039f\"],[0.2222222222222222,\"#7201a8\"],[0.3333333333333333,\"#9c179e\"],[0.4444444444444444,\"#bd3786\"],[0.5555555555555556,\"#d8576b\"],[0.6666666666666666,\"#ed7953\"],[0.7777777777777778,\"#fb9f3a\"],[0.8888888888888888,\"#fdca26\"],[1.0,\"#f0f921\"]]}],\"heatmapgl\":[{\"type\":\"heatmapgl\",\"colorbar\":{\"outlinewidth\":0,\"ticks\":\"\"},\"colorscale\":[[0.0,\"#0d0887\"],[0.1111111111111111,\"#46039f\"],[0.2222222222222222,\"#7201a8\"],[0.3333333333333333,\"#9c179e\"],[0.4444444444444444,\"#bd3786\"],[0.5555555555555556,\"#d8576b\"],[0.6666666666666666,\"#ed7953\"],[0.7777777777777778,\"#fb9f3a\"],[0.8888888888888888,\"#fdca26\"],[1.0,\"#f0f921\"]]}],\"contourcarpet\":[{\"type\":\"contourcarpet\",\"colorbar\":{\"outlinewidth\":0,\"ticks\":\"\"}}],\"contour\":[{\"type\":\"contour\",\"colorbar\":{\"outlinewidth\":0,\"ticks\":\"\"},\"colorscale\":[[0.0,\"#0d0887\"],[0.1111111111111111,\"#46039f\"],[0.2222222222222222,\"#7201a8\"],[0.3333333333333333,\"#9c179e\"],[0.4444444444444444,\"#bd3786\"],[0.5555555555555556,\"#d8576b\"],[0.6666666666666666,\"#ed7953\"],[0.7777777777777778,\"#fb9f3a\"],[0.8888888888888888,\"#fdca26\"],[1.0,\"#f0f921\"]]}],\"surface\":[{\"type\":\"surface\",\"colorbar\":{\"outlinewidth\":0,\"ticks\":\"\"},\"colorscale\":[[0.0,\"#0d0887\"],[0.1111111111111111,\"#46039f\"],[0.2222222222222222,\"#7201a8\"],[0.3333333333333333,\"#9c179e\"],[0.4444444444444444,\"#bd3786\"],[0.5555555555555556,\"#d8576b\"],[0.6666666666666666,\"#ed7953\"],[0.7777777777777778,\"#fb9f3a\"],[0.8888888888888888,\"#fdca26\"],[1.0,\"#f0f921\"]]}],\"mesh3d\":[{\"type\":\"mesh3d\",\"colorbar\":{\"outlinewidth\":0,\"ticks\":\"\"}}],\"scatter\":[{\"fillpattern\":{\"fillmode\":\"overlay\",\"size\":10,\"solidity\":0.2},\"type\":\"scatter\"}],\"parcoords\":[{\"type\":\"parcoords\",\"line\":{\"colorbar\":{\"outlinewidth\":0,\"ticks\":\"\"}}}],\"scatterpolargl\":[{\"type\":\"scatterpolargl\",\"marker\":{\"colorbar\":{\"outlinewidth\":0,\"ticks\":\"\"}}}],\"bar\":[{\"error_x\":{\"color\":\"#2a3f5f\"},\"error_y\":{\"color\":\"#2a3f5f\"},\"marker\":{\"line\":{\"color\":\"#E5ECF6\",\"width\":0.5},\"pattern\":{\"fillmode\":\"overlay\",\"size\":10,\"solidity\":0.2}},\"type\":\"bar\"}],\"scattergeo\":[{\"type\":\"scattergeo\",\"marker\":{\"colorbar\":{\"outlinewidth\":0,\"ticks\":\"\"}}}],\"scatterpolar\":[{\"type\":\"scatterpolar\",\"marker\":{\"colorbar\":{\"outlinewidth\":0,\"ticks\":\"\"}}}],\"histogram\":[{\"marker\":{\"pattern\":{\"fillmode\":\"overlay\",\"size\":10,\"solidity\":0.2}},\"type\":\"histogram\"}],\"scattergl\":[{\"type\":\"scattergl\",\"marker\":{\"colorbar\":{\"outlinewidth\":0,\"ticks\":\"\"}}}],\"scatter3d\":[{\"type\":\"scatter3d\",\"line\":{\"colorbar\":{\"outlinewidth\":0,\"ticks\":\"\"}},\"marker\":{\"colorbar\":{\"outlinewidth\":0,\"ticks\":\"\"}}}],\"scattermapbox\":[{\"type\":\"scattermapbox\",\"marker\":{\"colorbar\":{\"outlinewidth\":0,\"ticks\":\"\"}}}],\"scatterternary\":[{\"type\":\"scatterternary\",\"marker\":{\"colorbar\":{\"outlinewidth\":0,\"ticks\":\"\"}}}],\"scattercarpet\":[{\"type\":\"scattercarpet\",\"marker\":{\"colorbar\":{\"outlinewidth\":0,\"ticks\":\"\"}}}],\"carpet\":[{\"aaxis\":{\"endlinecolor\":\"#2a3f5f\",\"gridcolor\":\"white\",\"linecolor\":\"white\",\"minorgridcolor\":\"white\",\"startlinecolor\":\"#2a3f5f\"},\"baxis\":{\"endlinecolor\":\"#2a3f5f\",\"gridcolor\":\"white\",\"linecolor\":\"white\",\"minorgridcolor\":\"white\",\"startlinecolor\":\"#2a3f5f\"},\"type\":\"carpet\"}],\"table\":[{\"cells\":{\"fill\":{\"color\":\"#EBF0F8\"},\"line\":{\"color\":\"white\"}},\"header\":{\"fill\":{\"color\":\"#C8D4E3\"},\"line\":{\"color\":\"white\"}},\"type\":\"table\"}],\"barpolar\":[{\"marker\":{\"line\":{\"color\":\"#E5ECF6\",\"width\":0.5},\"pattern\":{\"fillmode\":\"overlay\",\"size\":10,\"solidity\":0.2}},\"type\":\"barpolar\"}],\"pie\":[{\"automargin\":true,\"type\":\"pie\"}]},\"layout\":{\"autotypenumbers\":\"strict\",\"colorway\":[\"#636efa\",\"#EF553B\",\"#00cc96\",\"#ab63fa\",\"#FFA15A\",\"#19d3f3\",\"#FF6692\",\"#B6E880\",\"#FF97FF\",\"#FECB52\"],\"font\":{\"color\":\"#2a3f5f\"},\"hovermode\":\"closest\",\"hoverlabel\":{\"align\":\"left\"},\"paper_bgcolor\":\"white\",\"plot_bgcolor\":\"#E5ECF6\",\"polar\":{\"bgcolor\":\"#E5ECF6\",\"angularaxis\":{\"gridcolor\":\"white\",\"linecolor\":\"white\",\"ticks\":\"\"},\"radialaxis\":{\"gridcolor\":\"white\",\"linecolor\":\"white\",\"ticks\":\"\"}},\"ternary\":{\"bgcolor\":\"#E5ECF6\",\"aaxis\":{\"gridcolor\":\"white\",\"linecolor\":\"white\",\"ticks\":\"\"},\"baxis\":{\"gridcolor\":\"white\",\"linecolor\":\"white\",\"ticks\":\"\"},\"caxis\":{\"gridcolor\":\"white\",\"linecolor\":\"white\",\"ticks\":\"\"}},\"coloraxis\":{\"colorbar\":{\"outlinewidth\":0,\"ticks\":\"\"}},\"colorscale\":{\"sequential\":[[0.0,\"#0d0887\"],[0.1111111111111111,\"#46039f\"],[0.2222222222222222,\"#7201a8\"],[0.3333333333333333,\"#9c179e\"],[0.4444444444444444,\"#bd3786\"],[0.5555555555555556,\"#d8576b\"],[0.6666666666666666,\"#ed7953\"],[0.7777777777777778,\"#fb9f3a\"],[0.8888888888888888,\"#fdca26\"],[1.0,\"#f0f921\"]],\"sequentialminus\":[[0.0,\"#0d0887\"],[0.1111111111111111,\"#46039f\"],[0.2222222222222222,\"#7201a8\"],[0.3333333333333333,\"#9c179e\"],[0.4444444444444444,\"#bd3786\"],[0.5555555555555556,\"#d8576b\"],[0.6666666666666666,\"#ed7953\"],[0.7777777777777778,\"#fb9f3a\"],[0.8888888888888888,\"#fdca26\"],[1.0,\"#f0f921\"]],\"diverging\":[[0,\"#8e0152\"],[0.1,\"#c51b7d\"],[0.2,\"#de77ae\"],[0.3,\"#f1b6da\"],[0.4,\"#fde0ef\"],[0.5,\"#f7f7f7\"],[0.6,\"#e6f5d0\"],[0.7,\"#b8e186\"],[0.8,\"#7fbc41\"],[0.9,\"#4d9221\"],[1,\"#276419\"]]},\"xaxis\":{\"gridcolor\":\"white\",\"linecolor\":\"white\",\"ticks\":\"\",\"title\":{\"standoff\":15},\"zerolinecolor\":\"white\",\"automargin\":true,\"zerolinewidth\":2},\"yaxis\":{\"gridcolor\":\"white\",\"linecolor\":\"white\",\"ticks\":\"\",\"title\":{\"standoff\":15},\"zerolinecolor\":\"white\",\"automargin\":true,\"zerolinewidth\":2},\"scene\":{\"xaxis\":{\"backgroundcolor\":\"#E5ECF6\",\"gridcolor\":\"white\",\"linecolor\":\"white\",\"showbackground\":true,\"ticks\":\"\",\"zerolinecolor\":\"white\",\"gridwidth\":2},\"yaxis\":{\"backgroundcolor\":\"#E5ECF6\",\"gridcolor\":\"white\",\"linecolor\":\"white\",\"showbackground\":true,\"ticks\":\"\",\"zerolinecolor\":\"white\",\"gridwidth\":2},\"zaxis\":{\"backgroundcolor\":\"#E5ECF6\",\"gridcolor\":\"white\",\"linecolor\":\"white\",\"showbackground\":true,\"ticks\":\"\",\"zerolinecolor\":\"white\",\"gridwidth\":2}},\"shapedefaults\":{\"line\":{\"color\":\"#2a3f5f\"}},\"annotationdefaults\":{\"arrowcolor\":\"#2a3f5f\",\"arrowhead\":0,\"arrowwidth\":1},\"geo\":{\"bgcolor\":\"white\",\"landcolor\":\"#E5ECF6\",\"subunitcolor\":\"white\",\"showland\":true,\"showlakes\":true,\"lakecolor\":\"white\"},\"title\":{\"x\":0.05},\"mapbox\":{\"style\":\"light\"}}},\"xaxis\":{\"anchor\":\"y\",\"domain\":[0.0,1.0],\"title\":{\"text\":\"Wiek\"}},\"yaxis\":{\"anchor\":\"x\",\"domain\":[0.0,1.0],\"title\":{\"text\":\"Op\\u0142ata za bilet\"}},\"legend\":{\"title\":{\"text\":\"Prze\\u017cy\\u0142\"},\"tracegroupgap\":0},\"title\":{\"text\":\"Zale\\u017cno\\u015b\\u0107 mi\\u0119dzy wiekiem a op\\u0142at\\u0105 za bilet\"},\"coloraxis\":{\"showscale\":false},\"width\":700,\"height\":600},                        {\"responsive\": true}                    ).then(function(){\n",
       "                            \n",
       "var gd = document.getElementById('88a45f23-97f0-4fd2-9db8-60282a263381');\n",
       "var x = new MutationObserver(function (mutations, observer) {{\n",
       "        var display = window.getComputedStyle(gd).display;\n",
       "        if (!display || display === 'none') {{\n",
       "            console.log([gd, 'removed!']);\n",
       "            Plotly.purge(gd);\n",
       "            observer.disconnect();\n",
       "        }}\n",
       "}});\n",
       "\n",
       "// Listen for the removal of the full notebook cells\n",
       "var notebookContainer = gd.closest('#notebook-container');\n",
       "if (notebookContainer) {{\n",
       "    x.observe(notebookContainer, {childList: true});\n",
       "}}\n",
       "\n",
       "// Listen for the clearing of the current output cell\n",
       "var outputEl = gd.closest('.output');\n",
       "if (outputEl) {{\n",
       "    x.observe(outputEl, {childList: true});\n",
       "}}\n",
       "\n",
       "                        })                };                });            </script>        </div>"
      ]
     },
     "metadata": {},
     "output_type": "display_data"
    }
   ],
   "source": [
    "fig = px.scatter(df, x='age', y='fare', color='survived',\n",
    "                 title='Zależność między wiekiem a opłatą za bilet',\n",
    "                 labels={'age': 'Wiek', 'fare': 'Opłata za bilet', 'survived': 'Przeżył'},\n",
    "                 color_discrete_map={'Nie przyżył': 'red', 'Przeżył': 'green'})\n",
    "\n",
    "fig.update_traces(showlegend=True)\n",
    "\n",
    "fig.update_layout(width=700, height=600, coloraxis_showscale=False)\n",
    "\n",
    "fig"
   ]
  },
  {
   "cell_type": "code",
   "execution_count": 55,
   "id": "09099a50-68b2-4760-b3db-c02209de0d06",
   "metadata": {},
   "outputs": [],
   "source": [
    "fig.write_html(\"zadanie-scatterplot.html\")"
   ]
  },
  {
   "cell_type": "markdown",
   "id": "e368ab84-478f-4acc-a3d5-7d8da10c28ff",
   "metadata": {},
   "source": [
    "### Boxplot"
   ]
  },
  {
   "cell_type": "code",
   "execution_count": 28,
   "id": "5fe9fb6a-c61d-4ad6-88a8-59f4bba046ad",
   "metadata": {},
   "outputs": [
    {
     "data": {
      "application/vnd.plotly.v1+json": {
       "config": {
        "plotlyServerURL": "https://plot.ly"
       },
       "data": [
        {
         "alignmentgroup": "True",
         "hovertemplate": "Przeżył=1<br>Klasa=%{x}<br>Wiek=%{y}<extra></extra>",
         "legendgroup": "1",
         "marker": {
          "color": "#636efa"
         },
         "name": "1",
         "notched": false,
         "offsetgroup": "1",
         "orientation": "v",
         "showlegend": true,
         "type": "box",
         "x": [
          1,
          1,
          1,
          1,
          1,
          1,
          1,
          1,
          1,
          1,
          1,
          1,
          1,
          1,
          1,
          1,
          1,
          1,
          1,
          1,
          1,
          1,
          1,
          1,
          1,
          1,
          1,
          1,
          1,
          1,
          1,
          1,
          1,
          1,
          1,
          1,
          1,
          1,
          1,
          1,
          1,
          1,
          1,
          1,
          1,
          1,
          1,
          1,
          1,
          1,
          1,
          1,
          1,
          1,
          1,
          1,
          1,
          1,
          1,
          1,
          1,
          1,
          1,
          1,
          1,
          1,
          1,
          1,
          1,
          1,
          1,
          1,
          1,
          1,
          1,
          1,
          1,
          1,
          1,
          1,
          1,
          1,
          1,
          1,
          1,
          1,
          1,
          1,
          1,
          1,
          1,
          1,
          1,
          1,
          1,
          1,
          1,
          1,
          1,
          1,
          1,
          1,
          1,
          1,
          1,
          1,
          1,
          1,
          1,
          1,
          1,
          1,
          1,
          1,
          1,
          1,
          1,
          1,
          1,
          1,
          1,
          1,
          1,
          1,
          1,
          1,
          1,
          1,
          1,
          1,
          1,
          1,
          1,
          1,
          1,
          1,
          1,
          1,
          1,
          1,
          1,
          1,
          1,
          1,
          1,
          1,
          1,
          1,
          1,
          1,
          1,
          1,
          1,
          1,
          1,
          1,
          1,
          1,
          1,
          1,
          1,
          1,
          1,
          1,
          1,
          1,
          1,
          1,
          1,
          1,
          1,
          1,
          1,
          1,
          1,
          1,
          1,
          1,
          1,
          1,
          1,
          1,
          1,
          1,
          1,
          1,
          1,
          1,
          1,
          1,
          1,
          1,
          1,
          1,
          1,
          1,
          1,
          1,
          1,
          1,
          2,
          2,
          2,
          2,
          2,
          2,
          2,
          2,
          2,
          2,
          2,
          2,
          2,
          2,
          2,
          2,
          2,
          2,
          2,
          2,
          2,
          2,
          2,
          2,
          2,
          2,
          2,
          2,
          2,
          2,
          2,
          2,
          2,
          2,
          2,
          2,
          2,
          2,
          2,
          2,
          2,
          2,
          2,
          2,
          2,
          2,
          2,
          2,
          2,
          2,
          2,
          2,
          2,
          2,
          2,
          2,
          2,
          2,
          2,
          2,
          2,
          2,
          2,
          2,
          2,
          2,
          2,
          2,
          2,
          2,
          2,
          2,
          2,
          2,
          2,
          2,
          2,
          2,
          2,
          2,
          2,
          2,
          2,
          2,
          2,
          2,
          2,
          2,
          2,
          2,
          2,
          2,
          2,
          2,
          2,
          2,
          2,
          2,
          2,
          2,
          2,
          2,
          2,
          2,
          2,
          2,
          2,
          2,
          2,
          2,
          2,
          2,
          2,
          2,
          2,
          2,
          2,
          2,
          2,
          3,
          3,
          3,
          3,
          3,
          3,
          3,
          3,
          3,
          3,
          3,
          3,
          3,
          3,
          3,
          3,
          3,
          3,
          3,
          3,
          3,
          3,
          3,
          3,
          3,
          3,
          3,
          3,
          3,
          3,
          3,
          3,
          3,
          3,
          3,
          3,
          3,
          3,
          3,
          3,
          3,
          3,
          3,
          3,
          3,
          3,
          3,
          3,
          3,
          3,
          3,
          3,
          3,
          3,
          3,
          3,
          3,
          3,
          3,
          3,
          3,
          3,
          3,
          3,
          3,
          3,
          3,
          3,
          3,
          3,
          3,
          3,
          3,
          3,
          3,
          3,
          3,
          3,
          3,
          3,
          3,
          3,
          3,
          3,
          3,
          3,
          3,
          3,
          3,
          3,
          3,
          3,
          3,
          3,
          3,
          3,
          3,
          3,
          3,
          3,
          3,
          3,
          3,
          3,
          3,
          3,
          3,
          3,
          3,
          3,
          3,
          3,
          3,
          3,
          3,
          3,
          3,
          3,
          3,
          3,
          3,
          3,
          3,
          3,
          3,
          3,
          3,
          3,
          3,
          3,
          3,
          3,
          3,
          3,
          3,
          3,
          3,
          3,
          3,
          3,
          3,
          3,
          3,
          3,
          3,
          3,
          3,
          3,
          3,
          3,
          3,
          3,
          3,
          3,
          3,
          3,
          3,
          3,
          3,
          3,
          3,
          3,
          3,
          3,
          3,
          3,
          3,
          3,
          3,
          3,
          3,
          3,
          3,
          3,
          3,
          3,
          3,
          3,
          3,
          3,
          3
         ],
         "x0": " ",
         "xaxis": "x",
         "y": [
          29,
          0.92,
          48,
          63,
          53,
          18,
          24,
          26,
          80,
          50,
          32,
          37,
          47,
          26,
          42,
          29,
          25,
          19,
          35,
          28,
          40,
          30,
          58,
          45,
          22,
          37,
          44,
          59,
          60,
          41,
          42,
          53,
          36,
          58,
          11,
          14,
          36,
          36,
          36,
          76,
          47,
          27,
          33,
          36,
          30,
          45,
          48,
          26,
          22,
          39,
          64,
          55,
          36,
          64,
          38,
          51,
          27,
          33,
          27,
          31,
          17,
          53,
          4,
          54,
          27,
          48,
          48,
          49,
          23,
          38,
          54,
          48,
          42,
          36,
          24,
          28,
          23,
          60,
          30,
          50,
          43,
          42,
          22,
          60,
          48,
          35,
          35,
          22,
          45,
          49,
          null,
          53,
          19,
          58,
          23,
          45,
          25,
          25,
          48,
          49,
          35,
          27,
          null,
          24,
          52,
          16,
          44,
          51,
          35,
          35,
          38,
          35,
          38,
          49,
          40,
          42,
          45,
          39,
          49,
          27,
          35,
          55,
          16,
          51,
          21,
          58,
          15,
          16,
          29,
          18,
          24,
          36,
          25,
          33,
          37,
          30,
          31,
          23,
          19,
          39,
          29,
          22,
          22,
          17,
          30,
          52,
          56,
          33,
          43,
          45,
          33,
          33,
          54,
          13,
          18,
          21,
          48,
          47,
          24,
          43,
          35,
          30,
          34,
          40,
          35,
          39,
          56,
          28,
          18,
          24,
          23,
          6,
          45,
          40,
          48,
          32,
          54,
          43,
          52,
          62,
          48,
          18,
          39,
          48,
          49,
          17,
          39,
          37,
          31,
          35,
          60,
          55,
          31,
          45,
          50,
          21,
          21,
          31,
          45,
          36,
          28,
          36,
          36,
          32,
          19,
          1,
          4,
          12,
          36,
          34,
          19,
          24,
          15,
          40,
          20,
          36,
          42,
          0.83,
          26,
          22,
          35,
          25,
          45,
          28,
          24,
          8,
          31,
          22,
          8,
          48,
          28,
          24,
          18,
          34,
          8,
          34,
          27,
          30,
          29,
          34,
          0.67,
          24,
          6,
          62,
          7,
          45,
          24,
          24,
          48,
          55,
          20,
          54,
          29,
          42,
          17,
          24,
          23,
          24,
          46,
          45,
          1,
          3,
          22,
          17,
          31,
          34,
          42,
          1,
          24,
          13,
          41,
          19,
          14,
          2,
          3,
          20,
          29,
          22,
          27,
          29,
          50,
          21,
          19,
          32,
          30,
          2,
          8,
          33,
          30,
          28,
          0.83,
          3,
          24,
          50,
          21,
          25,
          18,
          20,
          30,
          30,
          40,
          50,
          28,
          27,
          31,
          31,
          12,
          40,
          32.5,
          29,
          2,
          4,
          29,
          0.92,
          5,
          33,
          31,
          23,
          26,
          35,
          16,
          25,
          20,
          18,
          0.83,
          18,
          26,
          19,
          17,
          27,
          3,
          5,
          23,
          38,
          45,
          13,
          33,
          0.75,
          0.75,
          5,
          24,
          18,
          20,
          32,
          22,
          21,
          16,
          32,
          18,
          22,
          9,
          3,
          36,
          17,
          45,
          30,
          29,
          34,
          36.5,
          36,
          30,
          1,
          0.17,
          33,
          19,
          19,
          30,
          23,
          24,
          22,
          5,
          41,
          32,
          16,
          18,
          9,
          31,
          24,
          45,
          33,
          27,
          24,
          16,
          22,
          2,
          22,
          28,
          26,
          34,
          29,
          21,
          26,
          29,
          26,
          4,
          1,
          27,
          32,
          32,
          21,
          5,
          39,
          20,
          22,
          24,
          4,
          29,
          26,
          25,
          38,
          22,
          32,
          25,
          20,
          27,
          23,
          32,
          21,
          24,
          18,
          28,
          22,
          25,
          19,
          29,
          26,
          24,
          31,
          22,
          17,
          21,
          23,
          7,
          27,
          28,
          29,
          7,
          25,
          25,
          35,
          19,
          25,
          18,
          25,
          31,
          15,
          1,
          20,
          19,
          12,
          14,
          18,
          26,
          39,
          22,
          26,
          24,
          24,
          22,
          21,
          16,
          9,
          32,
          31,
          25,
          6,
          2,
          23,
          33,
          22,
          26,
          24,
          21,
          1,
          24,
          4,
          21,
          29,
          20,
          18,
          18,
          24,
          30,
          20,
          44,
          14,
          25,
          2.4,
          16,
          33,
          26,
          7,
          9,
          27,
          18,
          64,
          22,
          38,
          47,
          15
         ],
         "y0": " ",
         "yaxis": "y"
        },
        {
         "alignmentgroup": "True",
         "hovertemplate": "Przeżył=0<br>Klasa=%{x}<br>Wiek=%{y}<extra></extra>",
         "legendgroup": "0",
         "marker": {
          "color": "#EF553B"
         },
         "name": "0",
         "notched": false,
         "offsetgroup": "0",
         "orientation": "v",
         "showlegend": true,
         "type": "box",
         "x": [
          1,
          1,
          1,
          1,
          1,
          1,
          1,
          1,
          1,
          1,
          1,
          1,
          1,
          1,
          1,
          1,
          1,
          1,
          1,
          1,
          1,
          1,
          1,
          1,
          1,
          1,
          1,
          1,
          1,
          1,
          1,
          1,
          1,
          1,
          1,
          1,
          1,
          1,
          1,
          1,
          1,
          1,
          1,
          1,
          1,
          1,
          1,
          1,
          1,
          1,
          1,
          1,
          1,
          1,
          1,
          1,
          1,
          1,
          1,
          1,
          1,
          1,
          1,
          1,
          1,
          1,
          1,
          1,
          1,
          1,
          1,
          1,
          1,
          1,
          1,
          1,
          1,
          1,
          1,
          1,
          1,
          1,
          1,
          1,
          1,
          1,
          1,
          1,
          1,
          1,
          1,
          1,
          1,
          1,
          1,
          1,
          1,
          1,
          1,
          1,
          1,
          1,
          1,
          1,
          1,
          1,
          1,
          1,
          1,
          1,
          1,
          1,
          1,
          1,
          1,
          1,
          1,
          1,
          1,
          1,
          1,
          1,
          1,
          2,
          2,
          2,
          2,
          2,
          2,
          2,
          2,
          2,
          2,
          2,
          2,
          2,
          2,
          2,
          2,
          2,
          2,
          2,
          2,
          2,
          2,
          2,
          2,
          2,
          2,
          2,
          2,
          2,
          2,
          2,
          2,
          2,
          2,
          2,
          2,
          2,
          2,
          2,
          2,
          2,
          2,
          2,
          2,
          2,
          2,
          2,
          2,
          2,
          2,
          2,
          2,
          2,
          2,
          2,
          2,
          2,
          2,
          2,
          2,
          2,
          2,
          2,
          2,
          2,
          2,
          2,
          2,
          2,
          2,
          2,
          2,
          2,
          2,
          2,
          2,
          2,
          2,
          2,
          2,
          2,
          2,
          2,
          2,
          2,
          2,
          2,
          2,
          2,
          2,
          2,
          2,
          2,
          2,
          2,
          2,
          2,
          2,
          2,
          2,
          2,
          2,
          2,
          2,
          2,
          2,
          2,
          2,
          2,
          2,
          2,
          2,
          2,
          2,
          2,
          2,
          2,
          2,
          2,
          2,
          2,
          2,
          2,
          2,
          2,
          2,
          2,
          2,
          2,
          2,
          2,
          2,
          2,
          2,
          2,
          2,
          2,
          2,
          2,
          2,
          2,
          2,
          2,
          2,
          2,
          2,
          2,
          2,
          2,
          2,
          2,
          2,
          2,
          2,
          2,
          2,
          2,
          2,
          3,
          3,
          3,
          3,
          3,
          3,
          3,
          3,
          3,
          3,
          3,
          3,
          3,
          3,
          3,
          3,
          3,
          3,
          3,
          3,
          3,
          3,
          3,
          3,
          3,
          3,
          3,
          3,
          3,
          3,
          3,
          3,
          3,
          3,
          3,
          3,
          3,
          3,
          3,
          3,
          3,
          3,
          3,
          3,
          3,
          3,
          3,
          3,
          3,
          3,
          3,
          3,
          3,
          3,
          3,
          3,
          3,
          3,
          3,
          3,
          3,
          3,
          3,
          3,
          3,
          3,
          3,
          3,
          3,
          3,
          3,
          3,
          3,
          3,
          3,
          3,
          3,
          3,
          3,
          3,
          3,
          3,
          3,
          3,
          3,
          3,
          3,
          3,
          3,
          3,
          3,
          3,
          3,
          3,
          3,
          3,
          3,
          3,
          3,
          3,
          3,
          3,
          3,
          3,
          3,
          3,
          3,
          3,
          3,
          3,
          3,
          3,
          3,
          3,
          3,
          3,
          3,
          3,
          3,
          3,
          3,
          3,
          3,
          3,
          3,
          3,
          3,
          3,
          3,
          3,
          3,
          3,
          3,
          3,
          3,
          3,
          3,
          3,
          3,
          3,
          3,
          3,
          3,
          3,
          3,
          3,
          3,
          3,
          3,
          3,
          3,
          3,
          3,
          3,
          3,
          3,
          3,
          3,
          3,
          3,
          3,
          3,
          3,
          3,
          3,
          3,
          3,
          3,
          3,
          3,
          3,
          3,
          3,
          3,
          3,
          3,
          3,
          3,
          3,
          3,
          3,
          3,
          3,
          3,
          3,
          3,
          3,
          3,
          3,
          3,
          3,
          3,
          3,
          3,
          3,
          3,
          3,
          3,
          3,
          3,
          3,
          3,
          3,
          3,
          3,
          3,
          3,
          3,
          3,
          3,
          3,
          3,
          3,
          3,
          3,
          3,
          3,
          3,
          3,
          3,
          3,
          3,
          3,
          3,
          3,
          3,
          3,
          3,
          3,
          3,
          3,
          3,
          3,
          3,
          3,
          3,
          3,
          3,
          3,
          3,
          3,
          3,
          3,
          3,
          3,
          3,
          3,
          3,
          3,
          3,
          3,
          3,
          3,
          3,
          3,
          3,
          3,
          3,
          3,
          3,
          3,
          3,
          3,
          3,
          3,
          3,
          3,
          3,
          3,
          3,
          3,
          3,
          3,
          3,
          3,
          3,
          3,
          3,
          3,
          3,
          3,
          3,
          3,
          3,
          3,
          3,
          3,
          3,
          3,
          3,
          3,
          3,
          3,
          3,
          3,
          3,
          3,
          3,
          3,
          3,
          3,
          3,
          3,
          3,
          3,
          3,
          3,
          3,
          3,
          3,
          3,
          3,
          3,
          3,
          3,
          3,
          3,
          3,
          3,
          3,
          3,
          3,
          3,
          3,
          3,
          3,
          3,
          3,
          3,
          3,
          3,
          3,
          3,
          3,
          3,
          3,
          3,
          3,
          3,
          3,
          3,
          3,
          3,
          3,
          3,
          3,
          3,
          3,
          3,
          3,
          3,
          3,
          3,
          3,
          3,
          3,
          3,
          3,
          3,
          3,
          3,
          3,
          3,
          3,
          3,
          3,
          3,
          3,
          3,
          3,
          3,
          3,
          3,
          3,
          3,
          3,
          3,
          3,
          3,
          3,
          3,
          3,
          3,
          3,
          3,
          3,
          3,
          3,
          3,
          3,
          3,
          3,
          3,
          3,
          3,
          3,
          3,
          3,
          3,
          3,
          3,
          3,
          3,
          3,
          3,
          3,
          3,
          3,
          3,
          3,
          3,
          3,
          3,
          3,
          3,
          3,
          3,
          3,
          3,
          3,
          3,
          3,
          3,
          3,
          3,
          3,
          3,
          3,
          3,
          3,
          3,
          3,
          3,
          3,
          3,
          3,
          3,
          3,
          3,
          3,
          3,
          3,
          3,
          3,
          3,
          3,
          3,
          3,
          3,
          3,
          3,
          3,
          3,
          3,
          3,
          3,
          3,
          3,
          3,
          3,
          3,
          3,
          3,
          3,
          3,
          3,
          3,
          3,
          3,
          3,
          3,
          3,
          3,
          3,
          3,
          3,
          3,
          3,
          3,
          3,
          3,
          3,
          3,
          3,
          3,
          3,
          3,
          3,
          3,
          3,
          3,
          3,
          3,
          3,
          3,
          3,
          3,
          3,
          3,
          3,
          3,
          3,
          3,
          3,
          3,
          3,
          3,
          3,
          3,
          3,
          3,
          3,
          3,
          3,
          3,
          3,
          3,
          3,
          3,
          3,
          3,
          3,
          3,
          3,
          3,
          3,
          3,
          3
         ],
         "x0": " ",
         "xaxis": "x",
         "y": [
          2,
          30,
          25,
          39,
          71,
          47,
          48,
          24,
          36,
          25,
          45,
          42,
          41,
          48,
          45,
          45,
          28,
          33,
          28,
          17,
          49,
          36,
          46,
          43,
          27,
          40,
          47,
          37,
          59,
          70,
          39,
          31,
          50,
          39,
          36,
          49,
          30,
          19,
          64,
          null,
          39,
          37,
          47,
          24,
          71,
          38,
          46,
          37,
          45,
          40,
          55,
          42,
          null,
          55,
          42,
          null,
          50,
          46,
          50,
          32.5,
          58,
          41,
          41,
          30,
          42,
          29,
          30,
          30,
          19,
          46,
          54,
          28,
          65,
          44,
          55,
          47,
          37,
          58,
          64,
          65,
          28.5,
          30,
          45.5,
          23,
          29,
          18,
          47,
          38,
          22,
          45,
          31,
          39,
          46,
          36,
          55,
          33,
          61,
          50,
          56,
          56,
          24,
          57,
          57,
          62,
          64,
          67,
          63,
          61,
          52,
          49,
          40,
          61,
          47,
          64,
          60,
          54,
          21,
          57,
          50,
          27,
          51,
          43,
          62,
          30,
          30,
          18,
          25,
          34,
          57,
          18,
          23,
          28,
          51,
          28,
          23,
          26,
          42,
          27,
          60,
          25,
          25,
          42,
          21,
          19,
          44,
          54,
          52,
          37,
          29,
          29,
          29,
          28,
          31,
          30,
          32,
          21,
          22,
          18,
          32,
          17,
          29,
          25,
          18,
          54,
          42,
          23,
          21,
          18,
          40,
          18,
          36,
          null,
          38,
          35,
          38,
          34,
          16,
          26,
          47,
          21,
          21,
          24,
          24,
          34,
          30,
          52,
          30,
          44,
          28,
          30,
          43,
          49,
          24,
          32,
          21,
          18,
          23,
          36,
          50,
          44,
          21,
          63,
          60,
          33,
          42,
          47,
          24,
          22,
          32,
          34,
          22,
          35,
          57,
          38,
          31,
          26,
          30,
          31,
          25,
          36,
          24,
          61,
          50,
          57,
          25,
          31,
          47,
          30,
          40,
          32,
          30,
          46,
          39,
          48,
          70,
          27,
          54,
          38,
          16,
          62,
          32.5,
          36.5,
          26,
          19,
          28,
          39,
          23,
          28,
          21,
          19,
          39,
          41,
          43,
          34,
          27,
          36,
          34,
          23,
          19,
          26,
          25,
          27,
          59,
          35,
          25,
          41,
          25,
          18.5,
          14,
          23,
          29,
          27,
          40,
          30,
          23,
          19,
          27,
          36,
          66,
          26,
          24,
          42,
          13,
          16,
          30,
          26,
          40,
          26,
          20,
          24,
          25,
          35,
          18,
          32,
          4,
          6,
          2,
          38,
          9,
          11,
          39,
          26,
          39,
          20,
          26,
          25,
          18,
          24,
          35,
          5,
          9,
          13,
          40,
          21,
          23,
          18,
          30,
          23,
          21,
          32,
          40,
          26,
          18,
          45,
          27,
          22,
          19,
          26,
          22,
          10,
          20,
          21,
          18,
          26,
          6,
          9,
          18,
          40,
          40,
          40,
          32,
          21,
          20,
          29,
          22,
          22,
          35,
          18.5,
          19,
          18,
          21,
          30,
          18,
          38,
          17,
          17,
          21,
          21,
          29,
          28,
          18,
          28,
          24,
          37,
          28,
          24,
          21,
          29,
          26,
          18,
          20,
          24,
          36,
          24,
          31,
          31,
          30,
          66,
          43,
          35,
          27,
          19,
          30,
          59,
          19,
          44,
          17,
          19,
          22,
          19,
          0.33,
          34,
          28,
          27,
          25,
          24,
          22,
          21,
          17,
          32,
          16,
          26,
          25,
          23,
          30,
          22,
          26,
          17,
          42,
          43,
          28,
          32,
          24,
          33,
          66,
          23,
          18,
          16,
          45,
          29,
          39,
          17,
          15,
          47,
          26,
          38,
          40.5,
          18,
          22,
          28,
          48,
          26,
          20,
          21,
          9,
          23,
          18,
          16,
          48,
          28,
          46,
          25,
          23,
          null,
          23,
          33,
          41,
          38,
          9,
          1,
          11,
          10,
          16,
          14,
          40,
          43,
          51,
          32,
          25,
          20,
          37,
          28,
          19,
          24,
          17,
          28,
          19,
          28,
          19,
          35,
          41,
          26,
          20,
          21,
          25,
          29,
          11,
          20,
          23,
          30,
          28,
          21,
          43,
          18,
          22,
          42,
          33,
          32,
          17,
          25,
          20,
          21,
          20,
          48,
          17,
          34,
          22,
          33,
          31,
          29,
          49,
          33,
          19,
          8,
          7,
          35,
          34,
          23,
          27,
          20,
          21,
          17,
          21,
          30,
          33,
          22,
          19,
          19,
          23,
          44,
          44,
          19,
          25,
          20,
          25,
          22,
          22,
          23,
          26,
          1,
          18,
          36,
          null,
          35,
          37,
          23,
          23,
          17,
          29,
          29,
          22,
          50,
          3,
          8,
          12,
          40,
          32,
          30,
          18,
          20,
          36,
          41,
          24,
          25,
          45,
          36,
          30,
          21,
          28,
          26,
          31,
          34,
          21,
          20,
          50,
          44,
          20,
          22,
          20,
          22,
          34,
          29,
          32,
          25,
          35,
          33,
          30,
          20,
          42,
          19,
          24,
          19,
          32,
          62,
          32,
          48,
          28,
          23,
          24,
          21,
          28,
          23,
          27,
          19,
          28,
          22,
          34,
          30,
          28.5,
          22,
          18,
          22,
          36,
          32,
          20,
          21,
          22,
          29,
          28,
          21,
          41,
          21,
          28.5,
          60,
          27,
          21,
          18,
          21,
          23,
          23,
          21,
          28,
          42,
          27,
          31,
          28,
          20,
          23,
          20,
          20,
          16,
          21,
          2,
          6,
          3,
          8,
          29,
          1,
          7,
          2,
          16,
          14,
          41,
          21,
          20,
          16,
          32,
          0.6,
          4,
          26,
          32,
          28,
          24,
          21,
          25,
          24,
          26,
          24,
          28,
          19,
          29,
          25,
          18,
          27,
          17,
          24,
          27,
          63,
          30,
          18,
          38,
          21,
          10,
          4,
          7,
          2,
          8,
          39,
          22,
          35,
          69,
          64,
          50,
          48,
          30,
          49,
          2,
          18,
          41,
          55,
          17,
          30,
          30,
          25,
          20,
          19,
          17,
          43,
          5,
          12,
          10,
          8,
          14,
          20,
          18,
          16,
          19,
          44,
          44,
          24,
          39,
          17,
          40,
          16,
          19,
          24,
          22,
          42,
          27,
          55,
          22,
          40,
          22,
          20,
          40,
          21,
          5,
          11,
          9,
          2,
          40,
          43,
          42,
          20,
          37,
          24,
          19,
          31,
          23,
          31,
          23,
          33,
          22,
          59,
          19,
          22,
          27,
          2,
          29,
          25,
          74,
          24,
          34,
          23,
          27,
          16,
          36,
          37,
          32,
          20,
          23,
          22,
          41,
          20,
          17,
          36,
          10,
          9,
          35,
          10,
          36,
          30,
          23,
          35,
          28,
          28,
          46,
          18,
          31,
          15,
          31,
          20,
          14,
          21,
          22,
          35,
          31,
          66,
          28,
          51,
          18,
          21,
          37,
          21,
          28,
          24,
          21,
          17,
          54,
          36,
          27,
          45,
          23,
          null,
          16,
          19,
          22,
          27,
          29
         ],
         "y0": " ",
         "yaxis": "y"
        }
       ],
       "layout": {
        "autosize": true,
        "boxmode": "group",
        "legend": {
         "title": {
          "text": "Przeżył"
         },
         "tracegroupgap": 0
        },
        "template": {
         "data": {
          "bar": [
           {
            "error_x": {
             "color": "#2a3f5f"
            },
            "error_y": {
             "color": "#2a3f5f"
            },
            "marker": {
             "line": {
              "color": "#E5ECF6",
              "width": 0.5
             },
             "pattern": {
              "fillmode": "overlay",
              "size": 10,
              "solidity": 0.2
             }
            },
            "type": "bar"
           }
          ],
          "barpolar": [
           {
            "marker": {
             "line": {
              "color": "#E5ECF6",
              "width": 0.5
             },
             "pattern": {
              "fillmode": "overlay",
              "size": 10,
              "solidity": 0.2
             }
            },
            "type": "barpolar"
           }
          ],
          "carpet": [
           {
            "aaxis": {
             "endlinecolor": "#2a3f5f",
             "gridcolor": "white",
             "linecolor": "white",
             "minorgridcolor": "white",
             "startlinecolor": "#2a3f5f"
            },
            "baxis": {
             "endlinecolor": "#2a3f5f",
             "gridcolor": "white",
             "linecolor": "white",
             "minorgridcolor": "white",
             "startlinecolor": "#2a3f5f"
            },
            "type": "carpet"
           }
          ],
          "choropleth": [
           {
            "colorbar": {
             "outlinewidth": 0,
             "ticks": ""
            },
            "type": "choropleth"
           }
          ],
          "contour": [
           {
            "colorbar": {
             "outlinewidth": 0,
             "ticks": ""
            },
            "colorscale": [
             [
              0,
              "#0d0887"
             ],
             [
              0.1111111111111111,
              "#46039f"
             ],
             [
              0.2222222222222222,
              "#7201a8"
             ],
             [
              0.3333333333333333,
              "#9c179e"
             ],
             [
              0.4444444444444444,
              "#bd3786"
             ],
             [
              0.5555555555555556,
              "#d8576b"
             ],
             [
              0.6666666666666666,
              "#ed7953"
             ],
             [
              0.7777777777777778,
              "#fb9f3a"
             ],
             [
              0.8888888888888888,
              "#fdca26"
             ],
             [
              1,
              "#f0f921"
             ]
            ],
            "type": "contour"
           }
          ],
          "contourcarpet": [
           {
            "colorbar": {
             "outlinewidth": 0,
             "ticks": ""
            },
            "type": "contourcarpet"
           }
          ],
          "heatmap": [
           {
            "colorbar": {
             "outlinewidth": 0,
             "ticks": ""
            },
            "colorscale": [
             [
              0,
              "#0d0887"
             ],
             [
              0.1111111111111111,
              "#46039f"
             ],
             [
              0.2222222222222222,
              "#7201a8"
             ],
             [
              0.3333333333333333,
              "#9c179e"
             ],
             [
              0.4444444444444444,
              "#bd3786"
             ],
             [
              0.5555555555555556,
              "#d8576b"
             ],
             [
              0.6666666666666666,
              "#ed7953"
             ],
             [
              0.7777777777777778,
              "#fb9f3a"
             ],
             [
              0.8888888888888888,
              "#fdca26"
             ],
             [
              1,
              "#f0f921"
             ]
            ],
            "type": "heatmap"
           }
          ],
          "heatmapgl": [
           {
            "colorbar": {
             "outlinewidth": 0,
             "ticks": ""
            },
            "colorscale": [
             [
              0,
              "#0d0887"
             ],
             [
              0.1111111111111111,
              "#46039f"
             ],
             [
              0.2222222222222222,
              "#7201a8"
             ],
             [
              0.3333333333333333,
              "#9c179e"
             ],
             [
              0.4444444444444444,
              "#bd3786"
             ],
             [
              0.5555555555555556,
              "#d8576b"
             ],
             [
              0.6666666666666666,
              "#ed7953"
             ],
             [
              0.7777777777777778,
              "#fb9f3a"
             ],
             [
              0.8888888888888888,
              "#fdca26"
             ],
             [
              1,
              "#f0f921"
             ]
            ],
            "type": "heatmapgl"
           }
          ],
          "histogram": [
           {
            "marker": {
             "pattern": {
              "fillmode": "overlay",
              "size": 10,
              "solidity": 0.2
             }
            },
            "type": "histogram"
           }
          ],
          "histogram2d": [
           {
            "colorbar": {
             "outlinewidth": 0,
             "ticks": ""
            },
            "colorscale": [
             [
              0,
              "#0d0887"
             ],
             [
              0.1111111111111111,
              "#46039f"
             ],
             [
              0.2222222222222222,
              "#7201a8"
             ],
             [
              0.3333333333333333,
              "#9c179e"
             ],
             [
              0.4444444444444444,
              "#bd3786"
             ],
             [
              0.5555555555555556,
              "#d8576b"
             ],
             [
              0.6666666666666666,
              "#ed7953"
             ],
             [
              0.7777777777777778,
              "#fb9f3a"
             ],
             [
              0.8888888888888888,
              "#fdca26"
             ],
             [
              1,
              "#f0f921"
             ]
            ],
            "type": "histogram2d"
           }
          ],
          "histogram2dcontour": [
           {
            "colorbar": {
             "outlinewidth": 0,
             "ticks": ""
            },
            "colorscale": [
             [
              0,
              "#0d0887"
             ],
             [
              0.1111111111111111,
              "#46039f"
             ],
             [
              0.2222222222222222,
              "#7201a8"
             ],
             [
              0.3333333333333333,
              "#9c179e"
             ],
             [
              0.4444444444444444,
              "#bd3786"
             ],
             [
              0.5555555555555556,
              "#d8576b"
             ],
             [
              0.6666666666666666,
              "#ed7953"
             ],
             [
              0.7777777777777778,
              "#fb9f3a"
             ],
             [
              0.8888888888888888,
              "#fdca26"
             ],
             [
              1,
              "#f0f921"
             ]
            ],
            "type": "histogram2dcontour"
           }
          ],
          "mesh3d": [
           {
            "colorbar": {
             "outlinewidth": 0,
             "ticks": ""
            },
            "type": "mesh3d"
           }
          ],
          "parcoords": [
           {
            "line": {
             "colorbar": {
              "outlinewidth": 0,
              "ticks": ""
             }
            },
            "type": "parcoords"
           }
          ],
          "pie": [
           {
            "automargin": true,
            "type": "pie"
           }
          ],
          "scatter": [
           {
            "fillpattern": {
             "fillmode": "overlay",
             "size": 10,
             "solidity": 0.2
            },
            "type": "scatter"
           }
          ],
          "scatter3d": [
           {
            "line": {
             "colorbar": {
              "outlinewidth": 0,
              "ticks": ""
             }
            },
            "marker": {
             "colorbar": {
              "outlinewidth": 0,
              "ticks": ""
             }
            },
            "type": "scatter3d"
           }
          ],
          "scattercarpet": [
           {
            "marker": {
             "colorbar": {
              "outlinewidth": 0,
              "ticks": ""
             }
            },
            "type": "scattercarpet"
           }
          ],
          "scattergeo": [
           {
            "marker": {
             "colorbar": {
              "outlinewidth": 0,
              "ticks": ""
             }
            },
            "type": "scattergeo"
           }
          ],
          "scattergl": [
           {
            "marker": {
             "colorbar": {
              "outlinewidth": 0,
              "ticks": ""
             }
            },
            "type": "scattergl"
           }
          ],
          "scattermapbox": [
           {
            "marker": {
             "colorbar": {
              "outlinewidth": 0,
              "ticks": ""
             }
            },
            "type": "scattermapbox"
           }
          ],
          "scatterpolar": [
           {
            "marker": {
             "colorbar": {
              "outlinewidth": 0,
              "ticks": ""
             }
            },
            "type": "scatterpolar"
           }
          ],
          "scatterpolargl": [
           {
            "marker": {
             "colorbar": {
              "outlinewidth": 0,
              "ticks": ""
             }
            },
            "type": "scatterpolargl"
           }
          ],
          "scatterternary": [
           {
            "marker": {
             "colorbar": {
              "outlinewidth": 0,
              "ticks": ""
             }
            },
            "type": "scatterternary"
           }
          ],
          "surface": [
           {
            "colorbar": {
             "outlinewidth": 0,
             "ticks": ""
            },
            "colorscale": [
             [
              0,
              "#0d0887"
             ],
             [
              0.1111111111111111,
              "#46039f"
             ],
             [
              0.2222222222222222,
              "#7201a8"
             ],
             [
              0.3333333333333333,
              "#9c179e"
             ],
             [
              0.4444444444444444,
              "#bd3786"
             ],
             [
              0.5555555555555556,
              "#d8576b"
             ],
             [
              0.6666666666666666,
              "#ed7953"
             ],
             [
              0.7777777777777778,
              "#fb9f3a"
             ],
             [
              0.8888888888888888,
              "#fdca26"
             ],
             [
              1,
              "#f0f921"
             ]
            ],
            "type": "surface"
           }
          ],
          "table": [
           {
            "cells": {
             "fill": {
              "color": "#EBF0F8"
             },
             "line": {
              "color": "white"
             }
            },
            "header": {
             "fill": {
              "color": "#C8D4E3"
             },
             "line": {
              "color": "white"
             }
            },
            "type": "table"
           }
          ]
         },
         "layout": {
          "annotationdefaults": {
           "arrowcolor": "#2a3f5f",
           "arrowhead": 0,
           "arrowwidth": 1
          },
          "autotypenumbers": "strict",
          "coloraxis": {
           "colorbar": {
            "outlinewidth": 0,
            "ticks": ""
           }
          },
          "colorscale": {
           "diverging": [
            [
             0,
             "#8e0152"
            ],
            [
             0.1,
             "#c51b7d"
            ],
            [
             0.2,
             "#de77ae"
            ],
            [
             0.3,
             "#f1b6da"
            ],
            [
             0.4,
             "#fde0ef"
            ],
            [
             0.5,
             "#f7f7f7"
            ],
            [
             0.6,
             "#e6f5d0"
            ],
            [
             0.7,
             "#b8e186"
            ],
            [
             0.8,
             "#7fbc41"
            ],
            [
             0.9,
             "#4d9221"
            ],
            [
             1,
             "#276419"
            ]
           ],
           "sequential": [
            [
             0,
             "#0d0887"
            ],
            [
             0.1111111111111111,
             "#46039f"
            ],
            [
             0.2222222222222222,
             "#7201a8"
            ],
            [
             0.3333333333333333,
             "#9c179e"
            ],
            [
             0.4444444444444444,
             "#bd3786"
            ],
            [
             0.5555555555555556,
             "#d8576b"
            ],
            [
             0.6666666666666666,
             "#ed7953"
            ],
            [
             0.7777777777777778,
             "#fb9f3a"
            ],
            [
             0.8888888888888888,
             "#fdca26"
            ],
            [
             1,
             "#f0f921"
            ]
           ],
           "sequentialminus": [
            [
             0,
             "#0d0887"
            ],
            [
             0.1111111111111111,
             "#46039f"
            ],
            [
             0.2222222222222222,
             "#7201a8"
            ],
            [
             0.3333333333333333,
             "#9c179e"
            ],
            [
             0.4444444444444444,
             "#bd3786"
            ],
            [
             0.5555555555555556,
             "#d8576b"
            ],
            [
             0.6666666666666666,
             "#ed7953"
            ],
            [
             0.7777777777777778,
             "#fb9f3a"
            ],
            [
             0.8888888888888888,
             "#fdca26"
            ],
            [
             1,
             "#f0f921"
            ]
           ]
          },
          "colorway": [
           "#636efa",
           "#EF553B",
           "#00cc96",
           "#ab63fa",
           "#FFA15A",
           "#19d3f3",
           "#FF6692",
           "#B6E880",
           "#FF97FF",
           "#FECB52"
          ],
          "font": {
           "color": "#2a3f5f"
          },
          "geo": {
           "bgcolor": "white",
           "lakecolor": "white",
           "landcolor": "#E5ECF6",
           "showlakes": true,
           "showland": true,
           "subunitcolor": "white"
          },
          "hoverlabel": {
           "align": "left"
          },
          "hovermode": "closest",
          "mapbox": {
           "style": "light"
          },
          "paper_bgcolor": "white",
          "plot_bgcolor": "#E5ECF6",
          "polar": {
           "angularaxis": {
            "gridcolor": "white",
            "linecolor": "white",
            "ticks": ""
           },
           "bgcolor": "#E5ECF6",
           "radialaxis": {
            "gridcolor": "white",
            "linecolor": "white",
            "ticks": ""
           }
          },
          "scene": {
           "xaxis": {
            "backgroundcolor": "#E5ECF6",
            "gridcolor": "white",
            "gridwidth": 2,
            "linecolor": "white",
            "showbackground": true,
            "ticks": "",
            "zerolinecolor": "white"
           },
           "yaxis": {
            "backgroundcolor": "#E5ECF6",
            "gridcolor": "white",
            "gridwidth": 2,
            "linecolor": "white",
            "showbackground": true,
            "ticks": "",
            "zerolinecolor": "white"
           },
           "zaxis": {
            "backgroundcolor": "#E5ECF6",
            "gridcolor": "white",
            "gridwidth": 2,
            "linecolor": "white",
            "showbackground": true,
            "ticks": "",
            "zerolinecolor": "white"
           }
          },
          "shapedefaults": {
           "line": {
            "color": "#2a3f5f"
           }
          },
          "ternary": {
           "aaxis": {
            "gridcolor": "white",
            "linecolor": "white",
            "ticks": ""
           },
           "baxis": {
            "gridcolor": "white",
            "linecolor": "white",
            "ticks": ""
           },
           "bgcolor": "#E5ECF6",
           "caxis": {
            "gridcolor": "white",
            "linecolor": "white",
            "ticks": ""
           }
          },
          "title": {
           "x": 0.05
          },
          "xaxis": {
           "automargin": true,
           "gridcolor": "white",
           "linecolor": "white",
           "ticks": "",
           "title": {
            "standoff": 15
           },
           "zerolinecolor": "white",
           "zerolinewidth": 2
          },
          "yaxis": {
           "automargin": true,
           "gridcolor": "white",
           "linecolor": "white",
           "ticks": "",
           "title": {
            "standoff": 15
           },
           "zerolinecolor": "white",
           "zerolinewidth": 2
          }
         }
        },
        "title": {
         "text": "Rozkład wieku w zależności od klasy biletu"
        },
        "xaxis": {
         "anchor": "y",
         "autorange": true,
         "domain": [
          0,
          1
         ],
         "range": [
          0.4912959381044487,
          3.508704061895551
         ],
         "title": {
          "text": "Klasa"
         },
         "type": "linear"
        },
        "yaxis": {
         "anchor": "x",
         "autorange": true,
         "domain": [
          0,
          1
         ],
         "range": [
          -4.265,
          84.435
         ],
         "title": {
          "text": "Wiek"
         },
         "type": "linear"
        }
       }
      },
      "image/png": "[encoded data removed]",
      "text/html": [
       "<div>                            <div id=\"852b3494-30f2-4deb-b9b2-5df183e20b9f\" class=\"plotly-graph-div\" style=\"height:525px; width:100%;\"></div>            <script type=\"text/javascript\">                require([\"plotly\"], function(Plotly) {                    window.PLOTLYENV=window.PLOTLYENV || {};                                    if (document.getElementById(\"852b3494-30f2-4deb-b9b2-5df183e20b9f\")) {                    Plotly.newPlot(                        \"852b3494-30f2-4deb-b9b2-5df183e20b9f\",                        [{\"alignmentgroup\":\"True\",\"hovertemplate\":\"Prze\\u017cy\\u0142=1\\u003cbr\\u003eKlasa=%{x}\\u003cbr\\u003eWiek=%{y}\\u003cextra\\u003e\\u003c\\u002fextra\\u003e\",\"legendgroup\":\"1\",\"marker\":{\"color\":\"#636efa\"},\"name\":\"1\",\"notched\":false,\"offsetgroup\":\"1\",\"orientation\":\"v\",\"showlegend\":true,\"x\":[1,1,1,1,1,1,1,1,1,1,1,1,1,1,1,1,1,1,1,1,1,1,1,1,1,1,1,1,1,1,1,1,1,1,1,1,1,1,1,1,1,1,1,1,1,1,1,1,1,1,1,1,1,1,1,1,1,1,1,1,1,1,1,1,1,1,1,1,1,1,1,1,1,1,1,1,1,1,1,1,1,1,1,1,1,1,1,1,1,1,1,1,1,1,1,1,1,1,1,1,1,1,1,1,1,1,1,1,1,1,1,1,1,1,1,1,1,1,1,1,1,1,1,1,1,1,1,1,1,1,1,1,1,1,1,1,1,1,1,1,1,1,1,1,1,1,1,1,1,1,1,1,1,1,1,1,1,1,1,1,1,1,1,1,1,1,1,1,1,1,1,1,1,1,1,1,1,1,1,1,1,1,1,1,1,1,1,1,1,1,1,1,1,1,1,1,1,1,1,1,2,2,2,2,2,2,2,2,2,2,2,2,2,2,2,2,2,2,2,2,2,2,2,2,2,2,2,2,2,2,2,2,2,2,2,2,2,2,2,2,2,2,2,2,2,2,2,2,2,2,2,2,2,2,2,2,2,2,2,2,2,2,2,2,2,2,2,2,2,2,2,2,2,2,2,2,2,2,2,2,2,2,2,2,2,2,2,2,2,2,2,2,2,2,2,2,2,2,2,2,2,2,2,2,2,2,2,2,2,2,2,2,2,2,2,2,2,2,2,3,3,3,3,3,3,3,3,3,3,3,3,3,3,3,3,3,3,3,3,3,3,3,3,3,3,3,3,3,3,3,3,3,3,3,3,3,3,3,3,3,3,3,3,3,3,3,3,3,3,3,3,3,3,3,3,3,3,3,3,3,3,3,3,3,3,3,3,3,3,3,3,3,3,3,3,3,3,3,3,3,3,3,3,3,3,3,3,3,3,3,3,3,3,3,3,3,3,3,3,3,3,3,3,3,3,3,3,3,3,3,3,3,3,3,3,3,3,3,3,3,3,3,3,3,3,3,3,3,3,3,3,3,3,3,3,3,3,3,3,3,3,3,3,3,3,3,3,3,3,3,3,3,3,3,3,3,3,3,3,3,3,3,3,3,3,3,3,3,3,3,3,3,3,3,3,3,3,3,3,3],\"x0\":\" \",\"xaxis\":\"x\",\"y\":[29.0,0.92,48.0,63.0,53.0,18.0,24.0,26.0,80.0,50.0,32.0,37.0,47.0,26.0,42.0,29.0,25.0,19.0,35.0,28.0,40.0,30.0,58.0,45.0,22.0,37.0,44.0,59.0,60.0,41.0,42.0,53.0,36.0,58.0,11.0,14.0,36.0,36.0,36.0,76.0,47.0,27.0,33.0,36.0,30.0,45.0,48.0,26.0,22.0,39.0,64.0,55.0,36.0,64.0,38.0,51.0,27.0,33.0,27.0,31.0,17.0,53.0,4.0,54.0,27.0,48.0,48.0,49.0,23.0,38.0,54.0,48.0,42.0,36.0,24.0,28.0,23.0,60.0,30.0,50.0,43.0,42.0,22.0,60.0,48.0,35.0,35.0,22.0,45.0,49.0,null,53.0,19.0,58.0,23.0,45.0,25.0,25.0,48.0,49.0,35.0,27.0,null,24.0,52.0,16.0,44.0,51.0,35.0,35.0,38.0,35.0,38.0,49.0,40.0,42.0,45.0,39.0,49.0,27.0,35.0,55.0,16.0,51.0,21.0,58.0,15.0,16.0,29.0,18.0,24.0,36.0,25.0,33.0,37.0,30.0,31.0,23.0,19.0,39.0,29.0,22.0,22.0,17.0,30.0,52.0,56.0,33.0,43.0,45.0,33.0,33.0,54.0,13.0,18.0,21.0,48.0,47.0,24.0,43.0,35.0,30.0,34.0,40.0,35.0,39.0,56.0,28.0,18.0,24.0,23.0,6.0,45.0,40.0,48.0,32.0,54.0,43.0,52.0,62.0,48.0,18.0,39.0,48.0,49.0,17.0,39.0,37.0,31.0,35.0,60.0,55.0,31.0,45.0,50.0,21.0,21.0,31.0,45.0,36.0,28.0,36.0,36.0,32.0,19.0,1.0,4.0,12.0,36.0,34.0,19.0,24.0,15.0,40.0,20.0,36.0,42.0,0.83,26.0,22.0,35.0,25.0,45.0,28.0,24.0,8.0,31.0,22.0,8.0,48.0,28.0,24.0,18.0,34.0,8.0,34.0,27.0,30.0,29.0,34.0,0.67,24.0,6.0,62.0,7.0,45.0,24.0,24.0,48.0,55.0,20.0,54.0,29.0,42.0,17.0,24.0,23.0,24.0,46.0,45.0,1.0,3.0,22.0,17.0,31.0,34.0,42.0,1.0,24.0,13.0,41.0,19.0,14.0,2.0,3.0,20.0,29.0,22.0,27.0,29.0,50.0,21.0,19.0,32.0,30.0,2.0,8.0,33.0,30.0,28.0,0.83,3.0,24.0,50.0,21.0,25.0,18.0,20.0,30.0,30.0,40.0,50.0,28.0,27.0,31.0,31.0,12.0,40.0,32.5,29.0,2.0,4.0,29.0,0.92,5.0,33.0,31.0,23.0,26.0,35.0,16.0,25.0,20.0,18.0,0.83,18.0,26.0,19.0,17.0,27.0,3.0,5.0,23.0,38.0,45.0,13.0,33.0,0.75,0.75,5.0,24.0,18.0,20.0,32.0,22.0,21.0,16.0,32.0,18.0,22.0,9.0,3.0,36.0,17.0,45.0,30.0,29.0,34.0,36.5,36.0,30.0,1.0,0.17,33.0,19.0,19.0,30.0,23.0,24.0,22.0,5.0,41.0,32.0,16.0,18.0,9.0,31.0,24.0,45.0,33.0,27.0,24.0,16.0,22.0,2.0,22.0,28.0,26.0,34.0,29.0,21.0,26.0,29.0,26.0,4.0,1.0,27.0,32.0,32.0,21.0,5.0,39.0,20.0,22.0,24.0,4.0,29.0,26.0,25.0,38.0,22.0,32.0,25.0,20.0,27.0,23.0,32.0,21.0,24.0,18.0,28.0,22.0,25.0,19.0,29.0,26.0,24.0,31.0,22.0,17.0,21.0,23.0,7.0,27.0,28.0,29.0,7.0,25.0,25.0,35.0,19.0,25.0,18.0,25.0,31.0,15.0,1.0,20.0,19.0,12.0,14.0,18.0,26.0,39.0,22.0,26.0,24.0,24.0,22.0,21.0,16.0,9.0,32.0,31.0,25.0,6.0,2.0,23.0,33.0,22.0,26.0,24.0,21.0,1.0,24.0,4.0,21.0,29.0,20.0,18.0,18.0,24.0,30.0,20.0,44.0,14.0,25.0,2.4,16.0,33.0,26.0,7.0,9.0,27.0,18.0,64.0,22.0,38.0,47.0,15.0],\"y0\":\" \",\"yaxis\":\"y\",\"type\":\"box\"},{\"alignmentgroup\":\"True\",\"hovertemplate\":\"Prze\\u017cy\\u0142=0\\u003cbr\\u003eKlasa=%{x}\\u003cbr\\u003eWiek=%{y}\\u003cextra\\u003e\\u003c\\u002fextra\\u003e\",\"legendgroup\":\"0\",\"marker\":{\"color\":\"#EF553B\"},\"name\":\"0\",\"notched\":false,\"offsetgroup\":\"0\",\"orientation\":\"v\",\"showlegend\":true,\"x\":[1,1,1,1,1,1,1,1,1,1,1,1,1,1,1,1,1,1,1,1,1,1,1,1,1,1,1,1,1,1,1,1,1,1,1,1,1,1,1,1,1,1,1,1,1,1,1,1,1,1,1,1,1,1,1,1,1,1,1,1,1,1,1,1,1,1,1,1,1,1,1,1,1,1,1,1,1,1,1,1,1,1,1,1,1,1,1,1,1,1,1,1,1,1,1,1,1,1,1,1,1,1,1,1,1,1,1,1,1,1,1,1,1,1,1,1,1,1,1,1,1,1,1,2,2,2,2,2,2,2,2,2,2,2,2,2,2,2,2,2,2,2,2,2,2,2,2,2,2,2,2,2,2,2,2,2,2,2,2,2,2,2,2,2,2,2,2,2,2,2,2,2,2,2,2,2,2,2,2,2,2,2,2,2,2,2,2,2,2,2,2,2,2,2,2,2,2,2,2,2,2,2,2,2,2,2,2,2,2,2,2,2,2,2,2,2,2,2,2,2,2,2,2,2,2,2,2,2,2,2,2,2,2,2,2,2,2,2,2,2,2,2,2,2,2,2,2,2,2,2,2,2,2,2,2,2,2,2,2,2,2,2,2,2,2,2,2,2,2,2,2,2,2,2,2,2,2,2,2,2,2,3,3,3,3,3,3,3,3,3,3,3,3,3,3,3,3,3,3,3,3,3,3,3,3,3,3,3,3,3,3,3,3,3,3,3,3,3,3,3,3,3,3,3,3,3,3,3,3,3,3,3,3,3,3,3,3,3,3,3,3,3,3,3,3,3,3,3,3,3,3,3,3,3,3,3,3,3,3,3,3,3,3,3,3,3,3,3,3,3,3,3,3,3,3,3,3,3,3,3,3,3,3,3,3,3,3,3,3,3,3,3,3,3,3,3,3,3,3,3,3,3,3,3,3,3,3,3,3,3,3,3,3,3,3,3,3,3,3,3,3,3,3,3,3,3,3,3,3,3,3,3,3,3,3,3,3,3,3,3,3,3,3,3,3,3,3,3,3,3,3,3,3,3,3,3,3,3,3,3,3,3,3,3,3,3,3,3,3,3,3,3,3,3,3,3,3,3,3,3,3,3,3,3,3,3,3,3,3,3,3,3,3,3,3,3,3,3,3,3,3,3,3,3,3,3,3,3,3,3,3,3,3,3,3,3,3,3,3,3,3,3,3,3,3,3,3,3,3,3,3,3,3,3,3,3,3,3,3,3,3,3,3,3,3,3,3,3,3,3,3,3,3,3,3,3,3,3,3,3,3,3,3,3,3,3,3,3,3,3,3,3,3,3,3,3,3,3,3,3,3,3,3,3,3,3,3,3,3,3,3,3,3,3,3,3,3,3,3,3,3,3,3,3,3,3,3,3,3,3,3,3,3,3,3,3,3,3,3,3,3,3,3,3,3,3,3,3,3,3,3,3,3,3,3,3,3,3,3,3,3,3,3,3,3,3,3,3,3,3,3,3,3,3,3,3,3,3,3,3,3,3,3,3,3,3,3,3,3,3,3,3,3,3,3,3,3,3,3,3,3,3,3,3,3,3,3,3,3,3,3,3,3,3,3,3,3,3,3,3,3,3,3,3,3,3,3,3,3,3,3,3,3,3,3,3,3,3,3,3,3,3,3,3,3,3,3,3,3,3,3,3,3,3,3,3,3,3,3,3,3,3,3,3,3,3,3,3,3,3,3,3,3,3,3,3,3,3,3,3,3,3,3,3,3,3,3,3,3,3,3,3,3,3,3,3,3,3,3,3,3,3,3,3,3,3,3,3,3,3,3,3,3,3,3,3,3,3,3,3,3,3,3,3,3,3,3,3,3],\"x0\":\" \",\"xaxis\":\"x\",\"y\":[2.0,30.0,25.0,39.0,71.0,47.0,48.0,24.0,36.0,25.0,45.0,42.0,41.0,48.0,45.0,45.0,28.0,33.0,28.0,17.0,49.0,36.0,46.0,43.0,27.0,40.0,47.0,37.0,59.0,70.0,39.0,31.0,50.0,39.0,36.0,49.0,30.0,19.0,64.0,null,39.0,37.0,47.0,24.0,71.0,38.0,46.0,37.0,45.0,40.0,55.0,42.0,null,55.0,42.0,null,50.0,46.0,50.0,32.5,58.0,41.0,41.0,30.0,42.0,29.0,30.0,30.0,19.0,46.0,54.0,28.0,65.0,44.0,55.0,47.0,37.0,58.0,64.0,65.0,28.5,30.0,45.5,23.0,29.0,18.0,47.0,38.0,22.0,45.0,31.0,39.0,46.0,36.0,55.0,33.0,61.0,50.0,56.0,56.0,24.0,57.0,57.0,62.0,64.0,67.0,63.0,61.0,52.0,49.0,40.0,61.0,47.0,64.0,60.0,54.0,21.0,57.0,50.0,27.0,51.0,43.0,62.0,30.0,30.0,18.0,25.0,34.0,57.0,18.0,23.0,28.0,51.0,28.0,23.0,26.0,42.0,27.0,60.0,25.0,25.0,42.0,21.0,19.0,44.0,54.0,52.0,37.0,29.0,29.0,29.0,28.0,31.0,30.0,32.0,21.0,22.0,18.0,32.0,17.0,29.0,25.0,18.0,54.0,42.0,23.0,21.0,18.0,40.0,18.0,36.0,null,38.0,35.0,38.0,34.0,16.0,26.0,47.0,21.0,21.0,24.0,24.0,34.0,30.0,52.0,30.0,44.0,28.0,30.0,43.0,49.0,24.0,32.0,21.0,18.0,23.0,36.0,50.0,44.0,21.0,63.0,60.0,33.0,42.0,47.0,24.0,22.0,32.0,34.0,22.0,35.0,57.0,38.0,31.0,26.0,30.0,31.0,25.0,36.0,24.0,61.0,50.0,57.0,25.0,31.0,47.0,30.0,40.0,32.0,30.0,46.0,39.0,48.0,70.0,27.0,54.0,38.0,16.0,62.0,32.5,36.5,26.0,19.0,28.0,39.0,23.0,28.0,21.0,19.0,39.0,41.0,43.0,34.0,27.0,36.0,34.0,23.0,19.0,26.0,25.0,27.0,59.0,35.0,25.0,41.0,25.0,18.5,14.0,23.0,29.0,27.0,40.0,30.0,23.0,19.0,27.0,36.0,66.0,26.0,24.0,42.0,13.0,16.0,30.0,26.0,40.0,26.0,20.0,24.0,25.0,35.0,18.0,32.0,4.0,6.0,2.0,38.0,9.0,11.0,39.0,26.0,39.0,20.0,26.0,25.0,18.0,24.0,35.0,5.0,9.0,13.0,40.0,21.0,23.0,18.0,30.0,23.0,21.0,32.0,40.0,26.0,18.0,45.0,27.0,22.0,19.0,26.0,22.0,10.0,20.0,21.0,18.0,26.0,6.0,9.0,18.0,40.0,40.0,40.0,32.0,21.0,20.0,29.0,22.0,22.0,35.0,18.5,19.0,18.0,21.0,30.0,18.0,38.0,17.0,17.0,21.0,21.0,29.0,28.0,18.0,28.0,24.0,37.0,28.0,24.0,21.0,29.0,26.0,18.0,20.0,24.0,36.0,24.0,31.0,31.0,30.0,66.0,43.0,35.0,27.0,19.0,30.0,59.0,19.0,44.0,17.0,19.0,22.0,19.0,0.33,34.0,28.0,27.0,25.0,24.0,22.0,21.0,17.0,32.0,16.0,26.0,25.0,23.0,30.0,22.0,26.0,17.0,42.0,43.0,28.0,32.0,24.0,33.0,66.0,23.0,18.0,16.0,45.0,29.0,39.0,17.0,15.0,47.0,26.0,38.0,40.5,18.0,22.0,28.0,48.0,26.0,20.0,21.0,9.0,23.0,18.0,16.0,48.0,28.0,46.0,25.0,23.0,null,23.0,33.0,41.0,38.0,9.0,1.0,11.0,10.0,16.0,14.0,40.0,43.0,51.0,32.0,25.0,20.0,37.0,28.0,19.0,24.0,17.0,28.0,19.0,28.0,19.0,35.0,41.0,26.0,20.0,21.0,25.0,29.0,11.0,20.0,23.0,30.0,28.0,21.0,43.0,18.0,22.0,42.0,33.0,32.0,17.0,25.0,20.0,21.0,20.0,48.0,17.0,34.0,22.0,33.0,31.0,29.0,49.0,33.0,19.0,8.0,7.0,35.0,34.0,23.0,27.0,20.0,21.0,17.0,21.0,30.0,33.0,22.0,19.0,19.0,23.0,44.0,44.0,19.0,25.0,20.0,25.0,22.0,22.0,23.0,26.0,1.0,18.0,36.0,null,35.0,37.0,23.0,23.0,17.0,29.0,29.0,22.0,50.0,3.0,8.0,12.0,40.0,32.0,30.0,18.0,20.0,36.0,41.0,24.0,25.0,45.0,36.0,30.0,21.0,28.0,26.0,31.0,34.0,21.0,20.0,50.0,44.0,20.0,22.0,20.0,22.0,34.0,29.0,32.0,25.0,35.0,33.0,30.0,20.0,42.0,19.0,24.0,19.0,32.0,62.0,32.0,48.0,28.0,23.0,24.0,21.0,28.0,23.0,27.0,19.0,28.0,22.0,34.0,30.0,28.5,22.0,18.0,22.0,36.0,32.0,20.0,21.0,22.0,29.0,28.0,21.0,41.0,21.0,28.5,60.0,27.0,21.0,18.0,21.0,23.0,23.0,21.0,28.0,42.0,27.0,31.0,28.0,20.0,23.0,20.0,20.0,16.0,21.0,2.0,6.0,3.0,8.0,29.0,1.0,7.0,2.0,16.0,14.0,41.0,21.0,20.0,16.0,32.0,0.6,4.0,26.0,32.0,28.0,24.0,21.0,25.0,24.0,26.0,24.0,28.0,19.0,29.0,25.0,18.0,27.0,17.0,24.0,27.0,63.0,30.0,18.0,38.0,21.0,10.0,4.0,7.0,2.0,8.0,39.0,22.0,35.0,69.0,64.0,50.0,48.0,30.0,49.0,2.0,18.0,41.0,55.0,17.0,30.0,30.0,25.0,20.0,19.0,17.0,43.0,5.0,12.0,10.0,8.0,14.0,20.0,18.0,16.0,19.0,44.0,44.0,24.0,39.0,17.0,40.0,16.0,19.0,24.0,22.0,42.0,27.0,55.0,22.0,40.0,22.0,20.0,40.0,21.0,5.0,11.0,9.0,2.0,40.0,43.0,42.0,20.0,37.0,24.0,19.0,31.0,23.0,31.0,23.0,33.0,22.0,59.0,19.0,22.0,27.0,2.0,29.0,25.0,74.0,24.0,34.0,23.0,27.0,16.0,36.0,37.0,32.0,20.0,23.0,22.0,41.0,20.0,17.0,36.0,10.0,9.0,35.0,10.0,36.0,30.0,23.0,35.0,28.0,28.0,46.0,18.0,31.0,15.0,31.0,20.0,14.0,21.0,22.0,35.0,31.0,66.0,28.0,51.0,18.0,21.0,37.0,21.0,28.0,24.0,21.0,17.0,54.0,36.0,27.0,45.0,23.0,null,16.0,19.0,22.0,27.0,29.0],\"y0\":\" \",\"yaxis\":\"y\",\"type\":\"box\"}],                        {\"template\":{\"data\":{\"histogram2dcontour\":[{\"type\":\"histogram2dcontour\",\"colorbar\":{\"outlinewidth\":0,\"ticks\":\"\"},\"colorscale\":[[0.0,\"#0d0887\"],[0.1111111111111111,\"#46039f\"],[0.2222222222222222,\"#7201a8\"],[0.3333333333333333,\"#9c179e\"],[0.4444444444444444,\"#bd3786\"],[0.5555555555555556,\"#d8576b\"],[0.6666666666666666,\"#ed7953\"],[0.7777777777777778,\"#fb9f3a\"],[0.8888888888888888,\"#fdca26\"],[1.0,\"#f0f921\"]]}],\"choropleth\":[{\"type\":\"choropleth\",\"colorbar\":{\"outlinewidth\":0,\"ticks\":\"\"}}],\"histogram2d\":[{\"type\":\"histogram2d\",\"colorbar\":{\"outlinewidth\":0,\"ticks\":\"\"},\"colorscale\":[[0.0,\"#0d0887\"],[0.1111111111111111,\"#46039f\"],[0.2222222222222222,\"#7201a8\"],[0.3333333333333333,\"#9c179e\"],[0.4444444444444444,\"#bd3786\"],[0.5555555555555556,\"#d8576b\"],[0.6666666666666666,\"#ed7953\"],[0.7777777777777778,\"#fb9f3a\"],[0.8888888888888888,\"#fdca26\"],[1.0,\"#f0f921\"]]}],\"heatmap\":[{\"type\":\"heatmap\",\"colorbar\":{\"outlinewidth\":0,\"ticks\":\"\"},\"colorscale\":[[0.0,\"#0d0887\"],[0.1111111111111111,\"#46039f\"],[0.2222222222222222,\"#7201a8\"],[0.3333333333333333,\"#9c179e\"],[0.4444444444444444,\"#bd3786\"],[0.5555555555555556,\"#d8576b\"],[0.6666666666666666,\"#ed7953\"],[0.7777777777777778,\"#fb9f3a\"],[0.8888888888888888,\"#fdca26\"],[1.0,\"#f0f921\"]]}],\"heatmapgl\":[{\"type\":\"heatmapgl\",\"colorbar\":{\"outlinewidth\":0,\"ticks\":\"\"},\"colorscale\":[[0.0,\"#0d0887\"],[0.1111111111111111,\"#46039f\"],[0.2222222222222222,\"#7201a8\"],[0.3333333333333333,\"#9c179e\"],[0.4444444444444444,\"#bd3786\"],[0.5555555555555556,\"#d8576b\"],[0.6666666666666666,\"#ed7953\"],[0.7777777777777778,\"#fb9f3a\"],[0.8888888888888888,\"#fdca26\"],[1.0,\"#f0f921\"]]}],\"contourcarpet\":[{\"type\":\"contourcarpet\",\"colorbar\":{\"outlinewidth\":0,\"ticks\":\"\"}}],\"contour\":[{\"type\":\"contour\",\"colorbar\":{\"outlinewidth\":0,\"ticks\":\"\"},\"colorscale\":[[0.0,\"#0d0887\"],[0.1111111111111111,\"#46039f\"],[0.2222222222222222,\"#7201a8\"],[0.3333333333333333,\"#9c179e\"],[0.4444444444444444,\"#bd3786\"],[0.5555555555555556,\"#d8576b\"],[0.6666666666666666,\"#ed7953\"],[0.7777777777777778,\"#fb9f3a\"],[0.8888888888888888,\"#fdca26\"],[1.0,\"#f0f921\"]]}],\"surface\":[{\"type\":\"surface\",\"colorbar\":{\"outlinewidth\":0,\"ticks\":\"\"},\"colorscale\":[[0.0,\"#0d0887\"],[0.1111111111111111,\"#46039f\"],[0.2222222222222222,\"#7201a8\"],[0.3333333333333333,\"#9c179e\"],[0.4444444444444444,\"#bd3786\"],[0.5555555555555556,\"#d8576b\"],[0.6666666666666666,\"#ed7953\"],[0.7777777777777778,\"#fb9f3a\"],[0.8888888888888888,\"#fdca26\"],[1.0,\"#f0f921\"]]}],\"mesh3d\":[{\"type\":\"mesh3d\",\"colorbar\":{\"outlinewidth\":0,\"ticks\":\"\"}}],\"scatter\":[{\"fillpattern\":{\"fillmode\":\"overlay\",\"size\":10,\"solidity\":0.2},\"type\":\"scatter\"}],\"parcoords\":[{\"type\":\"parcoords\",\"line\":{\"colorbar\":{\"outlinewidth\":0,\"ticks\":\"\"}}}],\"scatterpolargl\":[{\"type\":\"scatterpolargl\",\"marker\":{\"colorbar\":{\"outlinewidth\":0,\"ticks\":\"\"}}}],\"bar\":[{\"error_x\":{\"color\":\"#2a3f5f\"},\"error_y\":{\"color\":\"#2a3f5f\"},\"marker\":{\"line\":{\"color\":\"#E5ECF6\",\"width\":0.5},\"pattern\":{\"fillmode\":\"overlay\",\"size\":10,\"solidity\":0.2}},\"type\":\"bar\"}],\"scattergeo\":[{\"type\":\"scattergeo\",\"marker\":{\"colorbar\":{\"outlinewidth\":0,\"ticks\":\"\"}}}],\"scatterpolar\":[{\"type\":\"scatterpolar\",\"marker\":{\"colorbar\":{\"outlinewidth\":0,\"ticks\":\"\"}}}],\"histogram\":[{\"marker\":{\"pattern\":{\"fillmode\":\"overlay\",\"size\":10,\"solidity\":0.2}},\"type\":\"histogram\"}],\"scattergl\":[{\"type\":\"scattergl\",\"marker\":{\"colorbar\":{\"outlinewidth\":0,\"ticks\":\"\"}}}],\"scatter3d\":[{\"type\":\"scatter3d\",\"line\":{\"colorbar\":{\"outlinewidth\":0,\"ticks\":\"\"}},\"marker\":{\"colorbar\":{\"outlinewidth\":0,\"ticks\":\"\"}}}],\"scattermapbox\":[{\"type\":\"scattermapbox\",\"marker\":{\"colorbar\":{\"outlinewidth\":0,\"ticks\":\"\"}}}],\"scatterternary\":[{\"type\":\"scatterternary\",\"marker\":{\"colorbar\":{\"outlinewidth\":0,\"ticks\":\"\"}}}],\"scattercarpet\":[{\"type\":\"scattercarpet\",\"marker\":{\"colorbar\":{\"outlinewidth\":0,\"ticks\":\"\"}}}],\"carpet\":[{\"aaxis\":{\"endlinecolor\":\"#2a3f5f\",\"gridcolor\":\"white\",\"linecolor\":\"white\",\"minorgridcolor\":\"white\",\"startlinecolor\":\"#2a3f5f\"},\"baxis\":{\"endlinecolor\":\"#2a3f5f\",\"gridcolor\":\"white\",\"linecolor\":\"white\",\"minorgridcolor\":\"white\",\"startlinecolor\":\"#2a3f5f\"},\"type\":\"carpet\"}],\"table\":[{\"cells\":{\"fill\":{\"color\":\"#EBF0F8\"},\"line\":{\"color\":\"white\"}},\"header\":{\"fill\":{\"color\":\"#C8D4E3\"},\"line\":{\"color\":\"white\"}},\"type\":\"table\"}],\"barpolar\":[{\"marker\":{\"line\":{\"color\":\"#E5ECF6\",\"width\":0.5},\"pattern\":{\"fillmode\":\"overlay\",\"size\":10,\"solidity\":0.2}},\"type\":\"barpolar\"}],\"pie\":[{\"automargin\":true,\"type\":\"pie\"}]},\"layout\":{\"autotypenumbers\":\"strict\",\"colorway\":[\"#636efa\",\"#EF553B\",\"#00cc96\",\"#ab63fa\",\"#FFA15A\",\"#19d3f3\",\"#FF6692\",\"#B6E880\",\"#FF97FF\",\"#FECB52\"],\"font\":{\"color\":\"#2a3f5f\"},\"hovermode\":\"closest\",\"hoverlabel\":{\"align\":\"left\"},\"paper_bgcolor\":\"white\",\"plot_bgcolor\":\"#E5ECF6\",\"polar\":{\"bgcolor\":\"#E5ECF6\",\"angularaxis\":{\"gridcolor\":\"white\",\"linecolor\":\"white\",\"ticks\":\"\"},\"radialaxis\":{\"gridcolor\":\"white\",\"linecolor\":\"white\",\"ticks\":\"\"}},\"ternary\":{\"bgcolor\":\"#E5ECF6\",\"aaxis\":{\"gridcolor\":\"white\",\"linecolor\":\"white\",\"ticks\":\"\"},\"baxis\":{\"gridcolor\":\"white\",\"linecolor\":\"white\",\"ticks\":\"\"},\"caxis\":{\"gridcolor\":\"white\",\"linecolor\":\"white\",\"ticks\":\"\"}},\"coloraxis\":{\"colorbar\":{\"outlinewidth\":0,\"ticks\":\"\"}},\"colorscale\":{\"sequential\":[[0.0,\"#0d0887\"],[0.1111111111111111,\"#46039f\"],[0.2222222222222222,\"#7201a8\"],[0.3333333333333333,\"#9c179e\"],[0.4444444444444444,\"#bd3786\"],[0.5555555555555556,\"#d8576b\"],[0.6666666666666666,\"#ed7953\"],[0.7777777777777778,\"#fb9f3a\"],[0.8888888888888888,\"#fdca26\"],[1.0,\"#f0f921\"]],\"sequentialminus\":[[0.0,\"#0d0887\"],[0.1111111111111111,\"#46039f\"],[0.2222222222222222,\"#7201a8\"],[0.3333333333333333,\"#9c179e\"],[0.4444444444444444,\"#bd3786\"],[0.5555555555555556,\"#d8576b\"],[0.6666666666666666,\"#ed7953\"],[0.7777777777777778,\"#fb9f3a\"],[0.8888888888888888,\"#fdca26\"],[1.0,\"#f0f921\"]],\"diverging\":[[0,\"#8e0152\"],[0.1,\"#c51b7d\"],[0.2,\"#de77ae\"],[0.3,\"#f1b6da\"],[0.4,\"#fde0ef\"],[0.5,\"#f7f7f7\"],[0.6,\"#e6f5d0\"],[0.7,\"#b8e186\"],[0.8,\"#7fbc41\"],[0.9,\"#4d9221\"],[1,\"#276419\"]]},\"xaxis\":{\"gridcolor\":\"white\",\"linecolor\":\"white\",\"ticks\":\"\",\"title\":{\"standoff\":15},\"zerolinecolor\":\"white\",\"automargin\":true,\"zerolinewidth\":2},\"yaxis\":{\"gridcolor\":\"white\",\"linecolor\":\"white\",\"ticks\":\"\",\"title\":{\"standoff\":15},\"zerolinecolor\":\"white\",\"automargin\":true,\"zerolinewidth\":2},\"scene\":{\"xaxis\":{\"backgroundcolor\":\"#E5ECF6\",\"gridcolor\":\"white\",\"linecolor\":\"white\",\"showbackground\":true,\"ticks\":\"\",\"zerolinecolor\":\"white\",\"gridwidth\":2},\"yaxis\":{\"backgroundcolor\":\"#E5ECF6\",\"gridcolor\":\"white\",\"linecolor\":\"white\",\"showbackground\":true,\"ticks\":\"\",\"zerolinecolor\":\"white\",\"gridwidth\":2},\"zaxis\":{\"backgroundcolor\":\"#E5ECF6\",\"gridcolor\":\"white\",\"linecolor\":\"white\",\"showbackground\":true,\"ticks\":\"\",\"zerolinecolor\":\"white\",\"gridwidth\":2}},\"shapedefaults\":{\"line\":{\"color\":\"#2a3f5f\"}},\"annotationdefaults\":{\"arrowcolor\":\"#2a3f5f\",\"arrowhead\":0,\"arrowwidth\":1},\"geo\":{\"bgcolor\":\"white\",\"landcolor\":\"#E5ECF6\",\"subunitcolor\":\"white\",\"showland\":true,\"showlakes\":true,\"lakecolor\":\"white\"},\"title\":{\"x\":0.05},\"mapbox\":{\"style\":\"light\"}}},\"xaxis\":{\"anchor\":\"y\",\"domain\":[0.0,1.0],\"title\":{\"text\":\"Klasa\"}},\"yaxis\":{\"anchor\":\"x\",\"domain\":[0.0,1.0],\"title\":{\"text\":\"Wiek\"}},\"legend\":{\"title\":{\"text\":\"Prze\\u017cy\\u0142\"},\"tracegroupgap\":0},\"title\":{\"text\":\"Rozk\\u0142ad wieku w zale\\u017cno\\u015bci od klasy biletu\"},\"boxmode\":\"group\"},                        {\"responsive\": true}                    ).then(function(){\n",
       "                            \n",
       "var gd = document.getElementById('852b3494-30f2-4deb-b9b2-5df183e20b9f');\n",
       "var x = new MutationObserver(function (mutations, observer) {{\n",
       "        var display = window.getComputedStyle(gd).display;\n",
       "        if (!display || display === 'none') {{\n",
       "            console.log([gd, 'removed!']);\n",
       "            Plotly.purge(gd);\n",
       "            observer.disconnect();\n",
       "        }}\n",
       "}});\n",
       "\n",
       "// Listen for the removal of the full notebook cells\n",
       "var notebookContainer = gd.closest('#notebook-container');\n",
       "if (notebookContainer) {{\n",
       "    x.observe(notebookContainer, {childList: true});\n",
       "}}\n",
       "\n",
       "// Listen for the clearing of the current output cell\n",
       "var outputEl = gd.closest('.output');\n",
       "if (outputEl) {{\n",
       "    x.observe(outputEl, {childList: true});\n",
       "}}\n",
       "\n",
       "                        })                };                });            </script>        </div>"
      ]
     },
     "metadata": {},
     "output_type": "display_data"
    }
   ],
   "source": [
    "fig = px.box(df, x='pclass', y='age', color='survived',\n",
    "                     title='Rozkład wieku w zależności od klasy biletu',\n",
    "                     labels={'pclass': 'Klasa', 'age': 'Wiek', 'survived': 'Przeżył'})\n",
    "\n",
    "fig"
   ]
  },
  {
   "cell_type": "code",
   "execution_count": 29,
   "id": "edc645b2-36d0-4081-88ec-42840f0218a8",
   "metadata": {},
   "outputs": [],
   "source": [
    "fig.write_html(\"zadanie-boxplot.html\")"
   ]
  },
  {
   "cell_type": "markdown",
   "id": "44913f7c-034b-4f66-af1a-bb85a935ca20",
   "metadata": {},
   "source": [
    "### Barplot"
   ]
  },
  {
   "cell_type": "code",
   "execution_count": 30,
   "id": "initial_id",
   "metadata": {},
   "outputs": [
    {
     "data": {
      "application/vnd.plotly.v1+json": {
       "config": {
        "plotlyServerURL": "https://plot.ly"
       },
       "data": [
        {
         "alignmentgroup": "True",
         "hovertemplate": "Klasa=%{x}<br>Średnia opłata za bilet=%{y}<extra></extra>",
         "legendgroup": "",
         "marker": {
          "color": "#636efa",
          "pattern": {
           "shape": ""
          }
         },
         "name": "",
         "offsetgroup": "",
         "orientation": "v",
         "showlegend": false,
         "textposition": "auto",
         "type": "bar",
         "x": [
          1,
          2,
          3
         ],
         "xaxis": "x",
         "y": [
          226.68484674922598,
          40.18275812274368,
          58.92634463276836
         ],
         "yaxis": "y"
        }
       ],
       "layout": {
        "autosize": true,
        "barmode": "relative",
        "legend": {
         "tracegroupgap": 0
        },
        "template": {
         "data": {
          "bar": [
           {
            "error_x": {
             "color": "#2a3f5f"
            },
            "error_y": {
             "color": "#2a3f5f"
            },
            "marker": {
             "line": {
              "color": "#E5ECF6",
              "width": 0.5
             },
             "pattern": {
              "fillmode": "overlay",
              "size": 10,
              "solidity": 0.2
             }
            },
            "type": "bar"
           }
          ],
          "barpolar": [
           {
            "marker": {
             "line": {
              "color": "#E5ECF6",
              "width": 0.5
             },
             "pattern": {
              "fillmode": "overlay",
              "size": 10,
              "solidity": 0.2
             }
            },
            "type": "barpolar"
           }
          ],
          "carpet": [
           {
            "aaxis": {
             "endlinecolor": "#2a3f5f",
             "gridcolor": "white",
             "linecolor": "white",
             "minorgridcolor": "white",
             "startlinecolor": "#2a3f5f"
            },
            "baxis": {
             "endlinecolor": "#2a3f5f",
             "gridcolor": "white",
             "linecolor": "white",
             "minorgridcolor": "white",
             "startlinecolor": "#2a3f5f"
            },
            "type": "carpet"
           }
          ],
          "choropleth": [
           {
            "colorbar": {
             "outlinewidth": 0,
             "ticks": ""
            },
            "type": "choropleth"
           }
          ],
          "contour": [
           {
            "colorbar": {
             "outlinewidth": 0,
             "ticks": ""
            },
            "colorscale": [
             [
              0,
              "#0d0887"
             ],
             [
              0.1111111111111111,
              "#46039f"
             ],
             [
              0.2222222222222222,
              "#7201a8"
             ],
             [
              0.3333333333333333,
              "#9c179e"
             ],
             [
              0.4444444444444444,
              "#bd3786"
             ],
             [
              0.5555555555555556,
              "#d8576b"
             ],
             [
              0.6666666666666666,
              "#ed7953"
             ],
             [
              0.7777777777777778,
              "#fb9f3a"
             ],
             [
              0.8888888888888888,
              "#fdca26"
             ],
             [
              1,
              "#f0f921"
             ]
            ],
            "type": "contour"
           }
          ],
          "contourcarpet": [
           {
            "colorbar": {
             "outlinewidth": 0,
             "ticks": ""
            },
            "type": "contourcarpet"
           }
          ],
          "heatmap": [
           {
            "colorbar": {
             "outlinewidth": 0,
             "ticks": ""
            },
            "colorscale": [
             [
              0,
              "#0d0887"
             ],
             [
              0.1111111111111111,
              "#46039f"
             ],
             [
              0.2222222222222222,
              "#7201a8"
             ],
             [
              0.3333333333333333,
              "#9c179e"
             ],
             [
              0.4444444444444444,
              "#bd3786"
             ],
             [
              0.5555555555555556,
              "#d8576b"
             ],
             [
              0.6666666666666666,
              "#ed7953"
             ],
             [
              0.7777777777777778,
              "#fb9f3a"
             ],
             [
              0.8888888888888888,
              "#fdca26"
             ],
             [
              1,
              "#f0f921"
             ]
            ],
            "type": "heatmap"
           }
          ],
          "heatmapgl": [
           {
            "colorbar": {
             "outlinewidth": 0,
             "ticks": ""
            },
            "colorscale": [
             [
              0,
              "#0d0887"
             ],
             [
              0.1111111111111111,
              "#46039f"
             ],
             [
              0.2222222222222222,
              "#7201a8"
             ],
             [
              0.3333333333333333,
              "#9c179e"
             ],
             [
              0.4444444444444444,
              "#bd3786"
             ],
             [
              0.5555555555555556,
              "#d8576b"
             ],
             [
              0.6666666666666666,
              "#ed7953"
             ],
             [
              0.7777777777777778,
              "#fb9f3a"
             ],
             [
              0.8888888888888888,
              "#fdca26"
             ],
             [
              1,
              "#f0f921"
             ]
            ],
            "type": "heatmapgl"
           }
          ],
          "histogram": [
           {
            "marker": {
             "pattern": {
              "fillmode": "overlay",
              "size": 10,
              "solidity": 0.2
             }
            },
            "type": "histogram"
           }
          ],
          "histogram2d": [
           {
            "colorbar": {
             "outlinewidth": 0,
             "ticks": ""
            },
            "colorscale": [
             [
              0,
              "#0d0887"
             ],
             [
              0.1111111111111111,
              "#46039f"
             ],
             [
              0.2222222222222222,
              "#7201a8"
             ],
             [
              0.3333333333333333,
              "#9c179e"
             ],
             [
              0.4444444444444444,
              "#bd3786"
             ],
             [
              0.5555555555555556,
              "#d8576b"
             ],
             [
              0.6666666666666666,
              "#ed7953"
             ],
             [
              0.7777777777777778,
              "#fb9f3a"
             ],
             [
              0.8888888888888888,
              "#fdca26"
             ],
             [
              1,
              "#f0f921"
             ]
            ],
            "type": "histogram2d"
           }
          ],
          "histogram2dcontour": [
           {
            "colorbar": {
             "outlinewidth": 0,
             "ticks": ""
            },
            "colorscale": [
             [
              0,
              "#0d0887"
             ],
             [
              0.1111111111111111,
              "#46039f"
             ],
             [
              0.2222222222222222,
              "#7201a8"
             ],
             [
              0.3333333333333333,
              "#9c179e"
             ],
             [
              0.4444444444444444,
              "#bd3786"
             ],
             [
              0.5555555555555556,
              "#d8576b"
             ],
             [
              0.6666666666666666,
              "#ed7953"
             ],
             [
              0.7777777777777778,
              "#fb9f3a"
             ],
             [
              0.8888888888888888,
              "#fdca26"
             ],
             [
              1,
              "#f0f921"
             ]
            ],
            "type": "histogram2dcontour"
           }
          ],
          "mesh3d": [
           {
            "colorbar": {
             "outlinewidth": 0,
             "ticks": ""
            },
            "type": "mesh3d"
           }
          ],
          "parcoords": [
           {
            "line": {
             "colorbar": {
              "outlinewidth": 0,
              "ticks": ""
             }
            },
            "type": "parcoords"
           }
          ],
          "pie": [
           {
            "automargin": true,
            "type": "pie"
           }
          ],
          "scatter": [
           {
            "fillpattern": {
             "fillmode": "overlay",
             "size": 10,
             "solidity": 0.2
            },
            "type": "scatter"
           }
          ],
          "scatter3d": [
           {
            "line": {
             "colorbar": {
              "outlinewidth": 0,
              "ticks": ""
             }
            },
            "marker": {
             "colorbar": {
              "outlinewidth": 0,
              "ticks": ""
             }
            },
            "type": "scatter3d"
           }
          ],
          "scattercarpet": [
           {
            "marker": {
             "colorbar": {
              "outlinewidth": 0,
              "ticks": ""
             }
            },
            "type": "scattercarpet"
           }
          ],
          "scattergeo": [
           {
            "marker": {
             "colorbar": {
              "outlinewidth": 0,
              "ticks": ""
             }
            },
            "type": "scattergeo"
           }
          ],
          "scattergl": [
           {
            "marker": {
             "colorbar": {
              "outlinewidth": 0,
              "ticks": ""
             }
            },
            "type": "scattergl"
           }
          ],
          "scattermapbox": [
           {
            "marker": {
             "colorbar": {
              "outlinewidth": 0,
              "ticks": ""
             }
            },
            "type": "scattermapbox"
           }
          ],
          "scatterpolar": [
           {
            "marker": {
             "colorbar": {
              "outlinewidth": 0,
              "ticks": ""
             }
            },
            "type": "scatterpolar"
           }
          ],
          "scatterpolargl": [
           {
            "marker": {
             "colorbar": {
              "outlinewidth": 0,
              "ticks": ""
             }
            },
            "type": "scatterpolargl"
           }
          ],
          "scatterternary": [
           {
            "marker": {
             "colorbar": {
              "outlinewidth": 0,
              "ticks": ""
             }
            },
            "type": "scatterternary"
           }
          ],
          "surface": [
           {
            "colorbar": {
             "outlinewidth": 0,
             "ticks": ""
            },
            "colorscale": [
             [
              0,
              "#0d0887"
             ],
             [
              0.1111111111111111,
              "#46039f"
             ],
             [
              0.2222222222222222,
              "#7201a8"
             ],
             [
              0.3333333333333333,
              "#9c179e"
             ],
             [
              0.4444444444444444,
              "#bd3786"
             ],
             [
              0.5555555555555556,
              "#d8576b"
             ],
             [
              0.6666666666666666,
              "#ed7953"
             ],
             [
              0.7777777777777778,
              "#fb9f3a"
             ],
             [
              0.8888888888888888,
              "#fdca26"
             ],
             [
              1,
              "#f0f921"
             ]
            ],
            "type": "surface"
           }
          ],
          "table": [
           {
            "cells": {
             "fill": {
              "color": "#EBF0F8"
             },
             "line": {
              "color": "white"
             }
            },
            "header": {
             "fill": {
              "color": "#C8D4E3"
             },
             "line": {
              "color": "white"
             }
            },
            "type": "table"
           }
          ]
         },
         "layout": {
          "annotationdefaults": {
           "arrowcolor": "#2a3f5f",
           "arrowhead": 0,
           "arrowwidth": 1
          },
          "autotypenumbers": "strict",
          "coloraxis": {
           "colorbar": {
            "outlinewidth": 0,
            "ticks": ""
           }
          },
          "colorscale": {
           "diverging": [
            [
             0,
             "#8e0152"
            ],
            [
             0.1,
             "#c51b7d"
            ],
            [
             0.2,
             "#de77ae"
            ],
            [
             0.3,
             "#f1b6da"
            ],
            [
             0.4,
             "#fde0ef"
            ],
            [
             0.5,
             "#f7f7f7"
            ],
            [
             0.6,
             "#e6f5d0"
            ],
            [
             0.7,
             "#b8e186"
            ],
            [
             0.8,
             "#7fbc41"
            ],
            [
             0.9,
             "#4d9221"
            ],
            [
             1,
             "#276419"
            ]
           ],
           "sequential": [
            [
             0,
             "#0d0887"
            ],
            [
             0.1111111111111111,
             "#46039f"
            ],
            [
             0.2222222222222222,
             "#7201a8"
            ],
            [
             0.3333333333333333,
             "#9c179e"
            ],
            [
             0.4444444444444444,
             "#bd3786"
            ],
            [
             0.5555555555555556,
             "#d8576b"
            ],
            [
             0.6666666666666666,
             "#ed7953"
            ],
            [
             0.7777777777777778,
             "#fb9f3a"
            ],
            [
             0.8888888888888888,
             "#fdca26"
            ],
            [
             1,
             "#f0f921"
            ]
           ],
           "sequentialminus": [
            [
             0,
             "#0d0887"
            ],
            [
             0.1111111111111111,
             "#46039f"
            ],
            [
             0.2222222222222222,
             "#7201a8"
            ],
            [
             0.3333333333333333,
             "#9c179e"
            ],
            [
             0.4444444444444444,
             "#bd3786"
            ],
            [
             0.5555555555555556,
             "#d8576b"
            ],
            [
             0.6666666666666666,
             "#ed7953"
            ],
            [
             0.7777777777777778,
             "#fb9f3a"
            ],
            [
             0.8888888888888888,
             "#fdca26"
            ],
            [
             1,
             "#f0f921"
            ]
           ]
          },
          "colorway": [
           "#636efa",
           "#EF553B",
           "#00cc96",
           "#ab63fa",
           "#FFA15A",
           "#19d3f3",
           "#FF6692",
           "#B6E880",
           "#FF97FF",
           "#FECB52"
          ],
          "font": {
           "color": "#2a3f5f"
          },
          "geo": {
           "bgcolor": "white",
           "lakecolor": "white",
           "landcolor": "#E5ECF6",
           "showlakes": true,
           "showland": true,
           "subunitcolor": "white"
          },
          "hoverlabel": {
           "align": "left"
          },
          "hovermode": "closest",
          "mapbox": {
           "style": "light"
          },
          "paper_bgcolor": "white",
          "plot_bgcolor": "#E5ECF6",
          "polar": {
           "angularaxis": {
            "gridcolor": "white",
            "linecolor": "white",
            "ticks": ""
           },
           "bgcolor": "#E5ECF6",
           "radialaxis": {
            "gridcolor": "white",
            "linecolor": "white",
            "ticks": ""
           }
          },
          "scene": {
           "xaxis": {
            "backgroundcolor": "#E5ECF6",
            "gridcolor": "white",
            "gridwidth": 2,
            "linecolor": "white",
            "showbackground": true,
            "ticks": "",
            "zerolinecolor": "white"
           },
           "yaxis": {
            "backgroundcolor": "#E5ECF6",
            "gridcolor": "white",
            "gridwidth": 2,
            "linecolor": "white",
            "showbackground": true,
            "ticks": "",
            "zerolinecolor": "white"
           },
           "zaxis": {
            "backgroundcolor": "#E5ECF6",
            "gridcolor": "white",
            "gridwidth": 2,
            "linecolor": "white",
            "showbackground": true,
            "ticks": "",
            "zerolinecolor": "white"
           }
          },
          "shapedefaults": {
           "line": {
            "color": "#2a3f5f"
           }
          },
          "ternary": {
           "aaxis": {
            "gridcolor": "white",
            "linecolor": "white",
            "ticks": ""
           },
           "baxis": {
            "gridcolor": "white",
            "linecolor": "white",
            "ticks": ""
           },
           "bgcolor": "#E5ECF6",
           "caxis": {
            "gridcolor": "white",
            "linecolor": "white",
            "ticks": ""
           }
          },
          "title": {
           "x": 0.05
          },
          "xaxis": {
           "automargin": true,
           "gridcolor": "white",
           "linecolor": "white",
           "ticks": "",
           "title": {
            "standoff": 15
           },
           "zerolinecolor": "white",
           "zerolinewidth": 2
          },
          "yaxis": {
           "automargin": true,
           "gridcolor": "white",
           "linecolor": "white",
           "ticks": "",
           "title": {
            "standoff": 15
           },
           "zerolinecolor": "white",
           "zerolinewidth": 2
          }
         }
        },
        "title": {
         "text": "Średnia opłata za bilet w zależności od klasy biletu"
        },
        "xaxis": {
         "anchor": "y",
         "autorange": true,
         "domain": [
          0,
          1
         ],
         "range": [
          0.5,
          3.5
         ],
         "title": {
          "text": "Klasa"
         },
         "type": "linear"
        },
        "yaxis": {
         "anchor": "x",
         "autorange": true,
         "domain": [
          0,
          1
         ],
         "range": [
          0,
          238.61562815707998
         ],
         "title": {
          "text": "Średnia opłata za bilet"
         },
         "type": "linear"
        }
       }
      },
      "image/png": "[encoded data removed]",
      "text/html": [
       "<div>                            <div id=\"6a9645c1-63cd-4470-aa8f-77aeec53f71c\" class=\"plotly-graph-div\" style=\"height:525px; width:100%;\"></div>            <script type=\"text/javascript\">                require([\"plotly\"], function(Plotly) {                    window.PLOTLYENV=window.PLOTLYENV || {};                                    if (document.getElementById(\"6a9645c1-63cd-4470-aa8f-77aeec53f71c\")) {                    Plotly.newPlot(                        \"6a9645c1-63cd-4470-aa8f-77aeec53f71c\",                        [{\"alignmentgroup\":\"True\",\"hovertemplate\":\"Klasa=%{x}\\u003cbr\\u003e\\u015arednia op\\u0142ata za bilet=%{y}\\u003cextra\\u003e\\u003c\\u002fextra\\u003e\",\"legendgroup\":\"\",\"marker\":{\"color\":\"#636efa\",\"pattern\":{\"shape\":\"\"}},\"name\":\"\",\"offsetgroup\":\"\",\"orientation\":\"v\",\"showlegend\":false,\"textposition\":\"auto\",\"x\":[1,2,3],\"xaxis\":\"x\",\"y\":[226.68484674922598,40.18275812274368,58.92634463276836],\"yaxis\":\"y\",\"type\":\"bar\"}],                        {\"template\":{\"data\":{\"histogram2dcontour\":[{\"type\":\"histogram2dcontour\",\"colorbar\":{\"outlinewidth\":0,\"ticks\":\"\"},\"colorscale\":[[0.0,\"#0d0887\"],[0.1111111111111111,\"#46039f\"],[0.2222222222222222,\"#7201a8\"],[0.3333333333333333,\"#9c179e\"],[0.4444444444444444,\"#bd3786\"],[0.5555555555555556,\"#d8576b\"],[0.6666666666666666,\"#ed7953\"],[0.7777777777777778,\"#fb9f3a\"],[0.8888888888888888,\"#fdca26\"],[1.0,\"#f0f921\"]]}],\"choropleth\":[{\"type\":\"choropleth\",\"colorbar\":{\"outlinewidth\":0,\"ticks\":\"\"}}],\"histogram2d\":[{\"type\":\"histogram2d\",\"colorbar\":{\"outlinewidth\":0,\"ticks\":\"\"},\"colorscale\":[[0.0,\"#0d0887\"],[0.1111111111111111,\"#46039f\"],[0.2222222222222222,\"#7201a8\"],[0.3333333333333333,\"#9c179e\"],[0.4444444444444444,\"#bd3786\"],[0.5555555555555556,\"#d8576b\"],[0.6666666666666666,\"#ed7953\"],[0.7777777777777778,\"#fb9f3a\"],[0.8888888888888888,\"#fdca26\"],[1.0,\"#f0f921\"]]}],\"heatmap\":[{\"type\":\"heatmap\",\"colorbar\":{\"outlinewidth\":0,\"ticks\":\"\"},\"colorscale\":[[0.0,\"#0d0887\"],[0.1111111111111111,\"#46039f\"],[0.2222222222222222,\"#7201a8\"],[0.3333333333333333,\"#9c179e\"],[0.4444444444444444,\"#bd3786\"],[0.5555555555555556,\"#d8576b\"],[0.6666666666666666,\"#ed7953\"],[0.7777777777777778,\"#fb9f3a\"],[0.8888888888888888,\"#fdca26\"],[1.0,\"#f0f921\"]]}],\"heatmapgl\":[{\"type\":\"heatmapgl\",\"colorbar\":{\"outlinewidth\":0,\"ticks\":\"\"},\"colorscale\":[[0.0,\"#0d0887\"],[0.1111111111111111,\"#46039f\"],[0.2222222222222222,\"#7201a8\"],[0.3333333333333333,\"#9c179e\"],[0.4444444444444444,\"#bd3786\"],[0.5555555555555556,\"#d8576b\"],[0.6666666666666666,\"#ed7953\"],[0.7777777777777778,\"#fb9f3a\"],[0.8888888888888888,\"#fdca26\"],[1.0,\"#f0f921\"]]}],\"contourcarpet\":[{\"type\":\"contourcarpet\",\"colorbar\":{\"outlinewidth\":0,\"ticks\":\"\"}}],\"contour\":[{\"type\":\"contour\",\"colorbar\":{\"outlinewidth\":0,\"ticks\":\"\"},\"colorscale\":[[0.0,\"#0d0887\"],[0.1111111111111111,\"#46039f\"],[0.2222222222222222,\"#7201a8\"],[0.3333333333333333,\"#9c179e\"],[0.4444444444444444,\"#bd3786\"],[0.5555555555555556,\"#d8576b\"],[0.6666666666666666,\"#ed7953\"],[0.7777777777777778,\"#fb9f3a\"],[0.8888888888888888,\"#fdca26\"],[1.0,\"#f0f921\"]]}],\"surface\":[{\"type\":\"surface\",\"colorbar\":{\"outlinewidth\":0,\"ticks\":\"\"},\"colorscale\":[[0.0,\"#0d0887\"],[0.1111111111111111,\"#46039f\"],[0.2222222222222222,\"#7201a8\"],[0.3333333333333333,\"#9c179e\"],[0.4444444444444444,\"#bd3786\"],[0.5555555555555556,\"#d8576b\"],[0.6666666666666666,\"#ed7953\"],[0.7777777777777778,\"#fb9f3a\"],[0.8888888888888888,\"#fdca26\"],[1.0,\"#f0f921\"]]}],\"mesh3d\":[{\"type\":\"mesh3d\",\"colorbar\":{\"outlinewidth\":0,\"ticks\":\"\"}}],\"scatter\":[{\"fillpattern\":{\"fillmode\":\"overlay\",\"size\":10,\"solidity\":0.2},\"type\":\"scatter\"}],\"parcoords\":[{\"type\":\"parcoords\",\"line\":{\"colorbar\":{\"outlinewidth\":0,\"ticks\":\"\"}}}],\"scatterpolargl\":[{\"type\":\"scatterpolargl\",\"marker\":{\"colorbar\":{\"outlinewidth\":0,\"ticks\":\"\"}}}],\"bar\":[{\"error_x\":{\"color\":\"#2a3f5f\"},\"error_y\":{\"color\":\"#2a3f5f\"},\"marker\":{\"line\":{\"color\":\"#E5ECF6\",\"width\":0.5},\"pattern\":{\"fillmode\":\"overlay\",\"size\":10,\"solidity\":0.2}},\"type\":\"bar\"}],\"scattergeo\":[{\"type\":\"scattergeo\",\"marker\":{\"colorbar\":{\"outlinewidth\":0,\"ticks\":\"\"}}}],\"scatterpolar\":[{\"type\":\"scatterpolar\",\"marker\":{\"colorbar\":{\"outlinewidth\":0,\"ticks\":\"\"}}}],\"histogram\":[{\"marker\":{\"pattern\":{\"fillmode\":\"overlay\",\"size\":10,\"solidity\":0.2}},\"type\":\"histogram\"}],\"scattergl\":[{\"type\":\"scattergl\",\"marker\":{\"colorbar\":{\"outlinewidth\":0,\"ticks\":\"\"}}}],\"scatter3d\":[{\"type\":\"scatter3d\",\"line\":{\"colorbar\":{\"outlinewidth\":0,\"ticks\":\"\"}},\"marker\":{\"colorbar\":{\"outlinewidth\":0,\"ticks\":\"\"}}}],\"scattermapbox\":[{\"type\":\"scattermapbox\",\"marker\":{\"colorbar\":{\"outlinewidth\":0,\"ticks\":\"\"}}}],\"scatterternary\":[{\"type\":\"scatterternary\",\"marker\":{\"colorbar\":{\"outlinewidth\":0,\"ticks\":\"\"}}}],\"scattercarpet\":[{\"type\":\"scattercarpet\",\"marker\":{\"colorbar\":{\"outlinewidth\":0,\"ticks\":\"\"}}}],\"carpet\":[{\"aaxis\":{\"endlinecolor\":\"#2a3f5f\",\"gridcolor\":\"white\",\"linecolor\":\"white\",\"minorgridcolor\":\"white\",\"startlinecolor\":\"#2a3f5f\"},\"baxis\":{\"endlinecolor\":\"#2a3f5f\",\"gridcolor\":\"white\",\"linecolor\":\"white\",\"minorgridcolor\":\"white\",\"startlinecolor\":\"#2a3f5f\"},\"type\":\"carpet\"}],\"table\":[{\"cells\":{\"fill\":{\"color\":\"#EBF0F8\"},\"line\":{\"color\":\"white\"}},\"header\":{\"fill\":{\"color\":\"#C8D4E3\"},\"line\":{\"color\":\"white\"}},\"type\":\"table\"}],\"barpolar\":[{\"marker\":{\"line\":{\"color\":\"#E5ECF6\",\"width\":0.5},\"pattern\":{\"fillmode\":\"overlay\",\"size\":10,\"solidity\":0.2}},\"type\":\"barpolar\"}],\"pie\":[{\"automargin\":true,\"type\":\"pie\"}]},\"layout\":{\"autotypenumbers\":\"strict\",\"colorway\":[\"#636efa\",\"#EF553B\",\"#00cc96\",\"#ab63fa\",\"#FFA15A\",\"#19d3f3\",\"#FF6692\",\"#B6E880\",\"#FF97FF\",\"#FECB52\"],\"font\":{\"color\":\"#2a3f5f\"},\"hovermode\":\"closest\",\"hoverlabel\":{\"align\":\"left\"},\"paper_bgcolor\":\"white\",\"plot_bgcolor\":\"#E5ECF6\",\"polar\":{\"bgcolor\":\"#E5ECF6\",\"angularaxis\":{\"gridcolor\":\"white\",\"linecolor\":\"white\",\"ticks\":\"\"},\"radialaxis\":{\"gridcolor\":\"white\",\"linecolor\":\"white\",\"ticks\":\"\"}},\"ternary\":{\"bgcolor\":\"#E5ECF6\",\"aaxis\":{\"gridcolor\":\"white\",\"linecolor\":\"white\",\"ticks\":\"\"},\"baxis\":{\"gridcolor\":\"white\",\"linecolor\":\"white\",\"ticks\":\"\"},\"caxis\":{\"gridcolor\":\"white\",\"linecolor\":\"white\",\"ticks\":\"\"}},\"coloraxis\":{\"colorbar\":{\"outlinewidth\":0,\"ticks\":\"\"}},\"colorscale\":{\"sequential\":[[0.0,\"#0d0887\"],[0.1111111111111111,\"#46039f\"],[0.2222222222222222,\"#7201a8\"],[0.3333333333333333,\"#9c179e\"],[0.4444444444444444,\"#bd3786\"],[0.5555555555555556,\"#d8576b\"],[0.6666666666666666,\"#ed7953\"],[0.7777777777777778,\"#fb9f3a\"],[0.8888888888888888,\"#fdca26\"],[1.0,\"#f0f921\"]],\"sequentialminus\":[[0.0,\"#0d0887\"],[0.1111111111111111,\"#46039f\"],[0.2222222222222222,\"#7201a8\"],[0.3333333333333333,\"#9c179e\"],[0.4444444444444444,\"#bd3786\"],[0.5555555555555556,\"#d8576b\"],[0.6666666666666666,\"#ed7953\"],[0.7777777777777778,\"#fb9f3a\"],[0.8888888888888888,\"#fdca26\"],[1.0,\"#f0f921\"]],\"diverging\":[[0,\"#8e0152\"],[0.1,\"#c51b7d\"],[0.2,\"#de77ae\"],[0.3,\"#f1b6da\"],[0.4,\"#fde0ef\"],[0.5,\"#f7f7f7\"],[0.6,\"#e6f5d0\"],[0.7,\"#b8e186\"],[0.8,\"#7fbc41\"],[0.9,\"#4d9221\"],[1,\"#276419\"]]},\"xaxis\":{\"gridcolor\":\"white\",\"linecolor\":\"white\",\"ticks\":\"\",\"title\":{\"standoff\":15},\"zerolinecolor\":\"white\",\"automargin\":true,\"zerolinewidth\":2},\"yaxis\":{\"gridcolor\":\"white\",\"linecolor\":\"white\",\"ticks\":\"\",\"title\":{\"standoff\":15},\"zerolinecolor\":\"white\",\"automargin\":true,\"zerolinewidth\":2},\"scene\":{\"xaxis\":{\"backgroundcolor\":\"#E5ECF6\",\"gridcolor\":\"white\",\"linecolor\":\"white\",\"showbackground\":true,\"ticks\":\"\",\"zerolinecolor\":\"white\",\"gridwidth\":2},\"yaxis\":{\"backgroundcolor\":\"#E5ECF6\",\"gridcolor\":\"white\",\"linecolor\":\"white\",\"showbackground\":true,\"ticks\":\"\",\"zerolinecolor\":\"white\",\"gridwidth\":2},\"zaxis\":{\"backgroundcolor\":\"#E5ECF6\",\"gridcolor\":\"white\",\"linecolor\":\"white\",\"showbackground\":true,\"ticks\":\"\",\"zerolinecolor\":\"white\",\"gridwidth\":2}},\"shapedefaults\":{\"line\":{\"color\":\"#2a3f5f\"}},\"annotationdefaults\":{\"arrowcolor\":\"#2a3f5f\",\"arrowhead\":0,\"arrowwidth\":1},\"geo\":{\"bgcolor\":\"white\",\"landcolor\":\"#E5ECF6\",\"subunitcolor\":\"white\",\"showland\":true,\"showlakes\":true,\"lakecolor\":\"white\"},\"title\":{\"x\":0.05},\"mapbox\":{\"style\":\"light\"}}},\"xaxis\":{\"anchor\":\"y\",\"domain\":[0.0,1.0],\"title\":{\"text\":\"Klasa\"}},\"yaxis\":{\"anchor\":\"x\",\"domain\":[0.0,1.0],\"title\":{\"text\":\"\\u015arednia op\\u0142ata za bilet\"}},\"legend\":{\"tracegroupgap\":0},\"title\":{\"text\":\"\\u015arednia op\\u0142ata za bilet w zale\\u017cno\\u015bci od klasy biletu\"},\"barmode\":\"relative\"},                        {\"responsive\": true}                    ).then(function(){\n",
       "                            \n",
       "var gd = document.getElementById('6a9645c1-63cd-4470-aa8f-77aeec53f71c');\n",
       "var x = new MutationObserver(function (mutations, observer) {{\n",
       "        var display = window.getComputedStyle(gd).display;\n",
       "        if (!display || display === 'none') {{\n",
       "            console.log([gd, 'removed!']);\n",
       "            Plotly.purge(gd);\n",
       "            observer.disconnect();\n",
       "        }}\n",
       "}});\n",
       "\n",
       "// Listen for the removal of the full notebook cells\n",
       "var notebookContainer = gd.closest('#notebook-container');\n",
       "if (notebookContainer) {{\n",
       "    x.observe(notebookContainer, {childList: true});\n",
       "}}\n",
       "\n",
       "// Listen for the clearing of the current output cell\n",
       "var outputEl = gd.closest('.output');\n",
       "if (outputEl) {{\n",
       "    x.observe(outputEl, {childList: true});\n",
       "}}\n",
       "\n",
       "                        })                };                });            </script>        </div>"
      ]
     },
     "metadata": {},
     "output_type": "display_data"
    }
   ],
   "source": [
    "fig = px.bar(df.groupby('pclass')['fare'].mean().reset_index(),\n",
    "             x='pclass', y='fare',\n",
    "             title='Średnia opłata za bilet w zależności od klasy biletu',\n",
    "             labels={'pclass': 'Klasa', 'fare': 'Średnia opłata za bilet'})\n",
    "\n",
    "fig"
   ]
  },
  {
   "cell_type": "code",
   "execution_count": 31,
   "id": "35497d35-243e-466b-bb07-2da7a027ecc6",
   "metadata": {},
   "outputs": [],
   "source": [
    "fig.write_html(\"zadanie-barplot.html\")"
   ]
  },
  {
   "cell_type": "code",
   "execution_count": null,
   "id": "8f435e72-3d1e-4694-8a93-00681d811003",
   "metadata": {},
   "outputs": [],
   "source": []
  }
 ],
 "metadata": {
  "kernelspec": {
   "display_name": "Python 3 (ipykernel)",
   "language": "python",
   "name": "python3"
  },
  "language_info": {
   "codemirror_mode": {
    "name": "ipython",
    "version": 3
   },
   "file_extension": ".py",
   "mimetype": "text/x-python",
   "name": "python",
   "nbconvert_exporter": "python",
   "pygments_lexer": "ipython3",
   "version": "3.11.5"
  }
 },
 "nbformat": 4,
 "nbformat_minor": 5
}
